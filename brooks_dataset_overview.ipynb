{
  "nbformat": 4,
  "nbformat_minor": 0,
  "metadata": {
    "colab": {
      "name": "brooks_dataset_overview.ipynb",
      "provenance": [],
      "collapsed_sections": [],
      "authorship_tag": "ABX9TyPSI5obLSRkhR15vP9gp3/J",
      "include_colab_link": true
    },
    "kernelspec": {
      "name": "python3",
      "display_name": "Python 3"
    },
    "language_info": {
      "name": "python"
    }
  },
  "cells": [
    {
      "cell_type": "markdown",
      "metadata": {
        "id": "view-in-github",
        "colab_type": "text"
      },
      "source": [
        "<a href=\"https://colab.research.google.com/github/garyuppal/cs109b-microbiome/blob/main/brooks_dataset_overview.ipynb\" target=\"_parent\"><img src=\"https://colab.research.google.com/assets/colab-badge.svg\" alt=\"Open In Colab\"/></a>"
      ]
    },
    {
      "cell_type": "code",
      "execution_count": null,
      "metadata": {
        "colab": {
          "base_uri": "https://localhost:8080/",
          "height": 1000
        },
        "id": "FiVO0oJvqJdx",
        "outputId": "4abfae4e-6523-44f9-c1c1-b2e4a5e37bbe"
      },
      "outputs": [
        {
          "output_type": "stream",
          "name": "stdout",
          "text": [
            "Cloning into 'mditre'...\n",
            "remote: Enumerating objects: 460, done.\u001b[K\n",
            "remote: Counting objects: 100% (5/5), done.\u001b[K\n",
            "remote: Compressing objects: 100% (5/5), done.\u001b[K\n",
            "remote: Total 460 (delta 0), reused 0 (delta 0), pack-reused 455\u001b[K\n",
            "Receiving objects: 100% (460/460), 132.00 MiB | 11.92 MiB/s, done.\n",
            "Resolving deltas: 100% (176/176), done.\n",
            "Checking out files: 100% (109/109), done.\n",
            "Processing ./mditre\n",
            "\u001b[33m  DEPRECATION: A future pip version will change local packages to be built in-place without first copying to a temporary directory. We recommend you use --use-feature=in-tree-build to test your packages with this new behavior before it becomes the default.\n",
            "   pip 21.3 will remove support for this functionality. You can find discussion regarding this at https://github.com/pypa/pip/issues/7555.\u001b[0m\n",
            "Requirement already satisfied: numpy in /usr/local/lib/python3.7/dist-packages (from mditre==0.1.6) (1.21.6)\n",
            "Requirement already satisfied: scikit-learn in /usr/local/lib/python3.7/dist-packages (from mditre==0.1.6) (1.0.2)\n",
            "Collecting PyQt5==5.11.3\n",
            "  Downloading PyQt5-5.11.3-5.11.2-cp35.cp36.cp37.cp38-abi3-manylinux1_x86_64.whl (117.8 MB)\n",
            "\u001b[K     |████████████████████████████████| 117.8 MB 83 kB/s \n",
            "\u001b[?25hCollecting ete3\n",
            "  Downloading ete3-3.1.2.tar.gz (4.7 MB)\n",
            "\u001b[K     |████████████████████████████████| 4.7 MB 48.7 MB/s \n",
            "\u001b[?25hRequirement already satisfied: matplotlib in /usr/local/lib/python3.7/dist-packages (from mditre==0.1.6) (3.2.2)\n",
            "Requirement already satisfied: seaborn in /usr/local/lib/python3.7/dist-packages (from mditre==0.1.6) (0.11.2)\n",
            "Requirement already satisfied: pandas in /usr/local/lib/python3.7/dist-packages (from mditre==0.1.6) (1.3.5)\n",
            "Requirement already satisfied: scipy in /usr/local/lib/python3.7/dist-packages (from mditre==0.1.6) (1.4.1)\n",
            "Collecting dendropy\n",
            "  Downloading DendroPy-4.5.2.tar.gz (15.2 MB)\n",
            "\u001b[K     |████████████████████████████████| 15.2 MB 28.4 MB/s \n",
            "\u001b[?25hCollecting jupyterlab\n",
            "  Downloading jupyterlab-3.3.4-py3-none-any.whl (8.7 MB)\n",
            "\u001b[K     |████████████████████████████████| 8.7 MB 47.7 MB/s \n",
            "\u001b[?25hCollecting PyQt5_sip<4.20,>=4.19.11\n",
            "  Downloading PyQt5_sip-4.19.19-cp37-cp37m-manylinux1_x86_64.whl (67 kB)\n",
            "\u001b[K     |████████████████████████████████| 67 kB 5.2 MB/s \n",
            "\u001b[?25hRequirement already satisfied: setuptools in /usr/local/lib/python3.7/dist-packages (from dendropy->mditre==0.1.6) (57.4.0)\n",
            "Collecting jupyterlab-server~=2.10\n",
            "  Downloading jupyterlab_server-2.13.0-py3-none-any.whl (53 kB)\n",
            "\u001b[K     |████████████████████████████████| 53 kB 2.1 MB/s \n",
            "\u001b[?25hRequirement already satisfied: jupyter-core in /usr/local/lib/python3.7/dist-packages (from jupyterlab->mditre==0.1.6) (4.10.0)\n",
            "Collecting jupyter-server~=1.4\n",
            "  Downloading jupyter_server-1.16.0-py3-none-any.whl (343 kB)\n",
            "\u001b[K     |████████████████████████████████| 343 kB 45.6 MB/s \n",
            "\u001b[?25hRequirement already satisfied: packaging in /usr/local/lib/python3.7/dist-packages (from jupyterlab->mditre==0.1.6) (21.3)\n",
            "Collecting tornado>=6.1.0\n",
            "  Downloading tornado-6.1-cp37-cp37m-manylinux2010_x86_64.whl (428 kB)\n",
            "\u001b[K     |████████████████████████████████| 428 kB 55.9 MB/s \n",
            "\u001b[?25hCollecting nbclassic~=0.2\n",
            "  Downloading nbclassic-0.3.7-py3-none-any.whl (13 kB)\n",
            "Requirement already satisfied: jinja2>=2.1 in /usr/local/lib/python3.7/dist-packages (from jupyterlab->mditre==0.1.6) (2.11.3)\n",
            "Requirement already satisfied: ipython in /usr/local/lib/python3.7/dist-packages (from jupyterlab->mditre==0.1.6) (5.5.0)\n",
            "Requirement already satisfied: MarkupSafe>=0.23 in /usr/local/lib/python3.7/dist-packages (from jinja2>=2.1->jupyterlab->mditre==0.1.6) (2.0.1)\n",
            "Requirement already satisfied: pyzmq>=17 in /usr/local/lib/python3.7/dist-packages (from jupyter-server~=1.4->jupyterlab->mditre==0.1.6) (22.3.0)\n",
            "Collecting jupyter-client>=6.1.12\n",
            "  Downloading jupyter_client-7.3.0-py3-none-any.whl (130 kB)\n",
            "\u001b[K     |████████████████████████████████| 130 kB 58.0 MB/s \n",
            "\u001b[?25hRequirement already satisfied: terminado>=0.8.3 in /usr/local/lib/python3.7/dist-packages (from jupyter-server~=1.4->jupyterlab->mditre==0.1.6) (0.13.3)\n",
            "Collecting websocket-client\n",
            "  Downloading websocket_client-1.3.2-py3-none-any.whl (54 kB)\n",
            "\u001b[K     |████████████████████████████████| 54 kB 2.7 MB/s \n",
            "\u001b[?25hRequirement already satisfied: Send2Trash in /usr/local/lib/python3.7/dist-packages (from jupyter-server~=1.4->jupyterlab->mditre==0.1.6) (1.8.0)\n",
            "Requirement already satisfied: prometheus-client in /usr/local/lib/python3.7/dist-packages (from jupyter-server~=1.4->jupyterlab->mditre==0.1.6) (0.14.1)\n",
            "Requirement already satisfied: argon2-cffi in /usr/local/lib/python3.7/dist-packages (from jupyter-server~=1.4->jupyterlab->mditre==0.1.6) (21.3.0)\n",
            "Requirement already satisfied: traitlets>=5.1.0 in /usr/local/lib/python3.7/dist-packages (from jupyter-server~=1.4->jupyterlab->mditre==0.1.6) (5.1.1)\n",
            "Collecting nbconvert>=6.4.4\n",
            "  Downloading nbconvert-6.5.0-py3-none-any.whl (561 kB)\n",
            "\u001b[K     |████████████████████████████████| 561 kB 49.0 MB/s \n",
            "\u001b[?25hCollecting anyio>=3.1.0\n",
            "  Downloading anyio-3.5.0-py3-none-any.whl (79 kB)\n",
            "\u001b[K     |████████████████████████████████| 79 kB 7.1 MB/s \n",
            "\u001b[?25hRequirement already satisfied: nbformat>=5.2.0 in /usr/local/lib/python3.7/dist-packages (from jupyter-server~=1.4->jupyterlab->mditre==0.1.6) (5.3.0)\n",
            "Requirement already satisfied: typing-extensions in /usr/local/lib/python3.7/dist-packages (from anyio>=3.1.0->jupyter-server~=1.4->jupyterlab->mditre==0.1.6) (4.2.0)\n",
            "Requirement already satisfied: idna>=2.8 in /usr/local/lib/python3.7/dist-packages (from anyio>=3.1.0->jupyter-server~=1.4->jupyterlab->mditre==0.1.6) (2.10)\n",
            "Collecting sniffio>=1.1\n",
            "  Downloading sniffio-1.2.0-py3-none-any.whl (10 kB)\n",
            "Requirement already satisfied: nest-asyncio>=1.5.4 in /usr/local/lib/python3.7/dist-packages (from jupyter-client>=6.1.12->jupyter-server~=1.4->jupyterlab->mditre==0.1.6) (1.5.5)\n",
            "Requirement already satisfied: python-dateutil>=2.8.2 in /usr/local/lib/python3.7/dist-packages (from jupyter-client>=6.1.12->jupyter-server~=1.4->jupyterlab->mditre==0.1.6) (2.8.2)\n",
            "Requirement already satisfied: entrypoints in /usr/local/lib/python3.7/dist-packages (from jupyter-client>=6.1.12->jupyter-server~=1.4->jupyterlab->mditre==0.1.6) (0.4)\n",
            "Requirement already satisfied: jsonschema>=3.0.1 in /usr/local/lib/python3.7/dist-packages (from jupyterlab-server~=2.10->jupyterlab->mditre==0.1.6) (4.3.3)\n",
            "Requirement already satisfied: babel in /usr/local/lib/python3.7/dist-packages (from jupyterlab-server~=2.10->jupyterlab->mditre==0.1.6) (2.9.1)\n",
            "Collecting jinja2>=2.1\n",
            "  Downloading Jinja2-3.1.1-py3-none-any.whl (132 kB)\n",
            "\u001b[K     |████████████████████████████████| 132 kB 54.6 MB/s \n",
            "\u001b[?25hRequirement already satisfied: requests in /usr/local/lib/python3.7/dist-packages (from jupyterlab-server~=2.10->jupyterlab->mditre==0.1.6) (2.23.0)\n",
            "Collecting json5\n",
            "  Downloading json5-0.9.6-py2.py3-none-any.whl (18 kB)\n",
            "Requirement already satisfied: importlib-metadata>=3.6 in /usr/local/lib/python3.7/dist-packages (from jupyterlab-server~=2.10->jupyterlab->mditre==0.1.6) (4.11.3)\n",
            "Requirement already satisfied: zipp>=0.5 in /usr/local/lib/python3.7/dist-packages (from importlib-metadata>=3.6->jupyterlab-server~=2.10->jupyterlab->mditre==0.1.6) (3.8.0)\n",
            "Requirement already satisfied: pyrsistent!=0.17.0,!=0.17.1,!=0.17.2,>=0.14.0 in /usr/local/lib/python3.7/dist-packages (from jsonschema>=3.0.1->jupyterlab-server~=2.10->jupyterlab->mditre==0.1.6) (0.18.1)\n",
            "Requirement already satisfied: importlib-resources>=1.4.0 in /usr/local/lib/python3.7/dist-packages (from jsonschema>=3.0.1->jupyterlab-server~=2.10->jupyterlab->mditre==0.1.6) (5.7.1)\n",
            "Requirement already satisfied: attrs>=17.4.0 in /usr/local/lib/python3.7/dist-packages (from jsonschema>=3.0.1->jupyterlab-server~=2.10->jupyterlab->mditre==0.1.6) (21.4.0)\n",
            "Requirement already satisfied: notebook<7 in /usr/local/lib/python3.7/dist-packages (from nbclassic~=0.2->jupyterlab->mditre==0.1.6) (5.3.1)\n",
            "Collecting notebook-shim>=0.1.0\n",
            "  Downloading notebook_shim-0.1.0-py3-none-any.whl (13 kB)\n",
            "Requirement already satisfied: pygments>=2.4.1 in /usr/local/lib/python3.7/dist-packages (from nbconvert>=6.4.4->jupyter-server~=1.4->jupyterlab->mditre==0.1.6) (2.6.1)\n",
            "Requirement already satisfied: bleach in /usr/local/lib/python3.7/dist-packages (from nbconvert>=6.4.4->jupyter-server~=1.4->jupyterlab->mditre==0.1.6) (5.0.0)\n",
            "Requirement already satisfied: defusedxml in /usr/local/lib/python3.7/dist-packages (from nbconvert>=6.4.4->jupyter-server~=1.4->jupyterlab->mditre==0.1.6) (0.7.1)\n",
            "Requirement already satisfied: beautifulsoup4 in /usr/local/lib/python3.7/dist-packages (from nbconvert>=6.4.4->jupyter-server~=1.4->jupyterlab->mditre==0.1.6) (4.6.3)\n",
            "Requirement already satisfied: tinycss2 in /usr/local/lib/python3.7/dist-packages (from nbconvert>=6.4.4->jupyter-server~=1.4->jupyterlab->mditre==0.1.6) (1.1.1)\n",
            "Requirement already satisfied: jupyterlab-pygments in /usr/local/lib/python3.7/dist-packages (from nbconvert>=6.4.4->jupyter-server~=1.4->jupyterlab->mditre==0.1.6) (0.2.2)\n",
            "Requirement already satisfied: mistune<2,>=0.8.1 in /usr/local/lib/python3.7/dist-packages (from nbconvert>=6.4.4->jupyter-server~=1.4->jupyterlab->mditre==0.1.6) (0.8.4)\n",
            "Requirement already satisfied: pandocfilters>=1.4.1 in /usr/local/lib/python3.7/dist-packages (from nbconvert>=6.4.4->jupyter-server~=1.4->jupyterlab->mditre==0.1.6) (1.5.0)\n",
            "Requirement already satisfied: nbclient>=0.5.0 in /usr/local/lib/python3.7/dist-packages (from nbconvert>=6.4.4->jupyter-server~=1.4->jupyterlab->mditre==0.1.6) (0.6.0)\n",
            "Requirement already satisfied: fastjsonschema in /usr/local/lib/python3.7/dist-packages (from nbformat>=5.2.0->jupyter-server~=1.4->jupyterlab->mditre==0.1.6) (2.15.3)\n",
            "Requirement already satisfied: ipython-genutils in /usr/local/lib/python3.7/dist-packages (from notebook<7->nbclassic~=0.2->jupyterlab->mditre==0.1.6) (0.2.0)\n",
            "Requirement already satisfied: ipykernel in /usr/local/lib/python3.7/dist-packages (from notebook<7->nbclassic~=0.2->jupyterlab->mditre==0.1.6) (4.10.1)\n",
            "Requirement already satisfied: six>=1.5 in /usr/local/lib/python3.7/dist-packages (from python-dateutil>=2.8.2->jupyter-client>=6.1.12->jupyter-server~=1.4->jupyterlab->mditre==0.1.6) (1.15.0)\n",
            "Requirement already satisfied: ptyprocess in /usr/local/lib/python3.7/dist-packages (from terminado>=0.8.3->jupyter-server~=1.4->jupyterlab->mditre==0.1.6) (0.7.0)\n",
            "Requirement already satisfied: argon2-cffi-bindings in /usr/local/lib/python3.7/dist-packages (from argon2-cffi->jupyter-server~=1.4->jupyterlab->mditre==0.1.6) (21.2.0)\n",
            "Requirement already satisfied: cffi>=1.0.1 in /usr/local/lib/python3.7/dist-packages (from argon2-cffi-bindings->argon2-cffi->jupyter-server~=1.4->jupyterlab->mditre==0.1.6) (1.15.0)\n",
            "Requirement already satisfied: pycparser in /usr/local/lib/python3.7/dist-packages (from cffi>=1.0.1->argon2-cffi-bindings->argon2-cffi->jupyter-server~=1.4->jupyterlab->mditre==0.1.6) (2.21)\n",
            "Requirement already satisfied: pytz>=2015.7 in /usr/local/lib/python3.7/dist-packages (from babel->jupyterlab-server~=2.10->jupyterlab->mditre==0.1.6) (2022.1)\n",
            "Requirement already satisfied: webencodings in /usr/local/lib/python3.7/dist-packages (from bleach->nbconvert>=6.4.4->jupyter-server~=1.4->jupyterlab->mditre==0.1.6) (0.5.1)\n",
            "Requirement already satisfied: pexpect in /usr/local/lib/python3.7/dist-packages (from ipython->jupyterlab->mditre==0.1.6) (4.8.0)\n",
            "Requirement already satisfied: decorator in /usr/local/lib/python3.7/dist-packages (from ipython->jupyterlab->mditre==0.1.6) (4.4.2)\n",
            "Requirement already satisfied: simplegeneric>0.8 in /usr/local/lib/python3.7/dist-packages (from ipython->jupyterlab->mditre==0.1.6) (0.8.1)\n",
            "Requirement already satisfied: prompt-toolkit<2.0.0,>=1.0.4 in /usr/local/lib/python3.7/dist-packages (from ipython->jupyterlab->mditre==0.1.6) (1.0.18)\n",
            "Requirement already satisfied: pickleshare in /usr/local/lib/python3.7/dist-packages (from ipython->jupyterlab->mditre==0.1.6) (0.7.5)\n",
            "Requirement already satisfied: wcwidth in /usr/local/lib/python3.7/dist-packages (from prompt-toolkit<2.0.0,>=1.0.4->ipython->jupyterlab->mditre==0.1.6) (0.2.5)\n",
            "Requirement already satisfied: pyparsing!=2.0.4,!=2.1.2,!=2.1.6,>=2.0.1 in /usr/local/lib/python3.7/dist-packages (from matplotlib->mditre==0.1.6) (3.0.8)\n",
            "Requirement already satisfied: kiwisolver>=1.0.1 in /usr/local/lib/python3.7/dist-packages (from matplotlib->mditre==0.1.6) (1.4.2)\n",
            "Requirement already satisfied: cycler>=0.10 in /usr/local/lib/python3.7/dist-packages (from matplotlib->mditre==0.1.6) (0.11.0)\n",
            "Requirement already satisfied: chardet<4,>=3.0.2 in /usr/local/lib/python3.7/dist-packages (from requests->jupyterlab-server~=2.10->jupyterlab->mditre==0.1.6) (3.0.4)\n",
            "Requirement already satisfied: urllib3!=1.25.0,!=1.25.1,<1.26,>=1.21.1 in /usr/local/lib/python3.7/dist-packages (from requests->jupyterlab-server~=2.10->jupyterlab->mditre==0.1.6) (1.24.3)\n",
            "Requirement already satisfied: certifi>=2017.4.17 in /usr/local/lib/python3.7/dist-packages (from requests->jupyterlab-server~=2.10->jupyterlab->mditre==0.1.6) (2021.10.8)\n",
            "Requirement already satisfied: joblib>=0.11 in /usr/local/lib/python3.7/dist-packages (from scikit-learn->mditre==0.1.6) (1.1.0)\n",
            "Requirement already satisfied: threadpoolctl>=2.0.0 in /usr/local/lib/python3.7/dist-packages (from scikit-learn->mditre==0.1.6) (3.1.0)\n",
            "Building wheels for collected packages: mditre, dendropy, ete3\n",
            "  Building wheel for mditre (setup.py) ... \u001b[?25l\u001b[?25hdone\n",
            "  Created wheel for mditre: filename=mditre-0.1.6-py3-none-any.whl size=114839 sha256=eadb9d9800896e8beb2bd6e297c3cd6e0fe6d666b09ec1aca7fa27ca9cee4b11\n",
            "  Stored in directory: /tmp/pip-ephem-wheel-cache-yp20t90y/wheels/2b/9a/9d/21f4dfd1ed913b202f1a6f3a731d3c567aa7cec80eca02f52b\n",
            "  Building wheel for dendropy (setup.py) ... \u001b[?25l\u001b[?25hdone\n",
            "  Created wheel for dendropy: filename=DendroPy-4.5.2-py3-none-any.whl size=453171 sha256=e46978f4f2476c9e27b884d54149db1d678b50feac4acd7fa81bd2069d6528a4\n",
            "  Stored in directory: /root/.cache/pip/wheels/9b/c9/0e/1955707a41b3995e9d64768cf8b9b41c74a75f2d6e8d16a61f\n",
            "  Building wheel for ete3 (setup.py) ... \u001b[?25l\u001b[?25hdone\n",
            "  Created wheel for ete3: filename=ete3-3.1.2-py3-none-any.whl size=2273013 sha256=3fabff4bb21a70ef51a9652f1df3b1045a0588e33ac313155119a0bde276803e\n",
            "  Stored in directory: /root/.cache/pip/wheels/17/fd/e2/6ac384d8c2484789304657dde01b96d7ab83f4f1dd96d266df\n",
            "Successfully built mditre dendropy ete3\n",
            "Installing collected packages: tornado, jupyter-client, sniffio, jinja2, websocket-client, nbconvert, anyio, jupyter-server, notebook-shim, json5, PyQt5-sip, nbclassic, jupyterlab-server, PyQt5, jupyterlab, ete3, dendropy, mditre\n",
            "  Attempting uninstall: tornado\n",
            "    Found existing installation: tornado 5.1.1\n",
            "    Uninstalling tornado-5.1.1:\n",
            "      Successfully uninstalled tornado-5.1.1\n",
            "  Attempting uninstall: jupyter-client\n",
            "    Found existing installation: jupyter-client 5.3.5\n",
            "    Uninstalling jupyter-client-5.3.5:\n",
            "      Successfully uninstalled jupyter-client-5.3.5\n",
            "  Attempting uninstall: jinja2\n",
            "    Found existing installation: Jinja2 2.11.3\n",
            "    Uninstalling Jinja2-2.11.3:\n",
            "      Successfully uninstalled Jinja2-2.11.3\n",
            "  Attempting uninstall: nbconvert\n",
            "    Found existing installation: nbconvert 5.6.1\n",
            "    Uninstalling nbconvert-5.6.1:\n",
            "      Successfully uninstalled nbconvert-5.6.1\n",
            "\u001b[31mERROR: pip's dependency resolver does not currently take into account all the packages that are installed. This behaviour is the source of the following dependency conflicts.\n",
            "google-colab 1.0.0 requires tornado~=5.1.0; python_version >= \"3.0\", but you have tornado 6.1 which is incompatible.\n",
            "flask 1.1.4 requires Jinja2<3.0,>=2.10.1, but you have jinja2 3.1.1 which is incompatible.\n",
            "datascience 0.10.6 requires folium==0.2.1, but you have folium 0.8.3 which is incompatible.\u001b[0m\n",
            "Successfully installed PyQt5-5.11.3 PyQt5-sip-4.19.19 anyio-3.5.0 dendropy-4.5.2 ete3-3.1.2 jinja2-3.1.1 json5-0.9.6 jupyter-client-7.3.0 jupyter-server-1.16.0 jupyterlab-3.3.4 jupyterlab-server-2.13.0 mditre-0.1.6 nbclassic-0.3.7 nbconvert-6.5.0 notebook-shim-0.1.0 sniffio-1.2.0 tornado-6.1 websocket-client-1.3.2\n"
          ]
        },
        {
          "output_type": "display_data",
          "data": {
            "application/vnd.colab-display-data+json": {
              "pip_warning": {
                "packages": [
                  "jupyter_client",
                  "tornado"
                ]
              }
            }
          },
          "metadata": {}
        }
      ],
      "source": [
        "!git clone https://github.com/gerberlab/mditre.git \n",
        "!pip install mditre/."
      ]
    },
    {
      "cell_type": "code",
      "source": [
        "!ls mditre/mditre/tutorials/datasets/raw/t1d/"
      ],
      "metadata": {
        "colab": {
          "base_uri": "https://localhost:8080/"
        },
        "id": "fmXhU7bI2l66",
        "outputId": "8e1a74b6-32d5-424a-dba0-1457eef56752"
      },
      "execution_count": null,
      "outputs": [
        {
          "output_type": "stream",
          "name": "stdout",
          "text": [
            "diabimmune_t1d_metaphlan_table.txt  t1d_benchmark.cfg\n",
            "diabimmune_t1d_wgs_metadata.csv     t1d_sample_metadata.csv\n",
            "metag_tree_bacteria.newick\t    t1d_wgs_subject_data.csv\n",
            "process_t1d_wgs.py\n"
          ]
        }
      ]
    },
    {
      "cell_type": "code",
      "source": [
        "tree = \"./mditre/mditre/tutorials/datasets/raw/t1d/metag_tree_bacteria.newick\""
      ],
      "metadata": {
        "id": "uJiS20wZ2l3S"
      },
      "execution_count": null,
      "outputs": []
    },
    {
      "cell_type": "code",
      "source": [
        "from mditre.visualize import plot_tree"
      ],
      "metadata": {
        "id": "nqk6Lr612l0F",
        "colab": {
          "base_uri": "https://localhost:8080/",
          "height": 305
        },
        "outputId": "70ae29ad-5e9b-4b91-face-f2b95d4089b0"
      },
      "execution_count": null,
      "outputs": [
        {
          "output_type": "error",
          "ename": "ModuleNotFoundError",
          "evalue": "ignored",
          "traceback": [
            "\u001b[0;31m---------------------------------------------------------------------------\u001b[0m",
            "\u001b[0;31mModuleNotFoundError\u001b[0m                       Traceback (most recent call last)",
            "\u001b[0;32m<ipython-input-1-fda7267ce301>\u001b[0m in \u001b[0;36m<module>\u001b[0;34m()\u001b[0m\n\u001b[0;32m----> 1\u001b[0;31m \u001b[0;32mfrom\u001b[0m \u001b[0mmditre\u001b[0m\u001b[0;34m.\u001b[0m\u001b[0mvisualize\u001b[0m \u001b[0;32mimport\u001b[0m \u001b[0mplot_tree\u001b[0m\u001b[0;34m\u001b[0m\u001b[0;34m\u001b[0m\u001b[0m\n\u001b[0m",
            "\u001b[0;31mModuleNotFoundError\u001b[0m: No module named 'mditre'",
            "",
            "\u001b[0;31m---------------------------------------------------------------------------\u001b[0;32m\nNOTE: If your import is failing due to a missing package, you can\nmanually install dependencies using either !pip or !apt.\n\nTo view examples of installing some common dependencies, click the\n\"Open Examples\" button below.\n\u001b[0;31m---------------------------------------------------------------------------\u001b[0m\n"
          ],
          "errorDetails": {
            "actions": [
              {
                "action": "open_url",
                "actionText": "Open Examples",
                "url": "/notebooks/snippets/importing_libraries.ipynb"
              }
            ]
          }
        }
      ]
    },
    {
      "cell_type": "code",
      "source": [
        "from ete3 import Tree"
      ],
      "metadata": {
        "id": "P1Q81mQb2lxS"
      },
      "execution_count": null,
      "outputs": []
    },
    {
      "cell_type": "code",
      "source": [
        "t = Tree(tree)"
      ],
      "metadata": {
        "id": "wa68kEOH2lua"
      },
      "execution_count": null,
      "outputs": []
    },
    {
      "cell_type": "code",
      "source": [
        "plot_tree(t)"
      ],
      "metadata": {
        "colab": {
          "base_uri": "https://localhost:8080/",
          "height": 1000
        },
        "id": "DUvqXLzL2lrS",
        "outputId": "e27b3e72-3ac6-494f-f39d-d1cee276df3d"
      },
      "execution_count": null,
      "outputs": [
        {
          "output_type": "execute_result",
          "data": {
            "text/plain": [
              "{Tree node 'GCA_002748665|k__Bacteria|p__Synergistetes|c__Synergistia|o__Synergistales|f__Synergistaceae|g__Dethiosulfovibrio|s__Dethiosulfovibrio_peptidovorans' (0x7effcb0156d): (0.27879,\n",
              "  9794),\n",
              " Tree node 'GCA_900177735|k__Bacteria|p__Synergistetes|c__Synergistia|o__Synergistales|f__Synergistaceae|g__Dethiosulfovibrio|s__Dethiosulfovibrio_salsuginis' (0x7effcb01571): (0.29437,\n",
              "  9793),\n",
              " Tree node 'GCA_000177335|k__Bacteria|p__Synergistetes|c__Synergistia|o__Synergistales|f__Synergistaceae|g__Pyramidobacter|s__Pyramidobacter_piscolens' (0x7effcb01581): (0.31161,\n",
              "  9791),\n",
              " Tree node 'GCA_002007215|k__Bacteria|p__Synergistetes|c__Synergistia|o__Synergistales|f__Synergistaceae|g__Pyramidobacter|s__Pyramidobacter_sp_C12_8' (0x7effcb01585): (0.32042000000000004,\n",
              "  9790),\n",
              " Tree node 'GCA_000237805|k__Bacteria|p__Synergistetes|c__Synergistia|o__Synergistales|f__Synergistaceae|g__Jonquetella|s__Jonquetella_anthropi' (0x7effcb01579): (0.31152,\n",
              "  9792),\n",
              " Tree node '' (0x7effcb0157d): (0.29676, 9790.5),\n",
              " Tree node '' (0x7effcb01569): (0.22364000000000003, 9793.5),\n",
              " Tree node '' (0x7effcb01575): (0.20468000000000003, 9791.25),\n",
              " Tree node 'GCA_000025885|k__Bacteria|p__Synergistetes|c__Synergistia|o__Synergistales|f__Synergistaceae|g__Aminobacterium|s__Aminobacterium_colombiense' (0x7effcb01561): (0.26349,\n",
              "  9795),\n",
              " Tree node '' (0x7effcb01565): (0.16988, 9792.375),\n",
              " Tree node 'GCA_000210715|k__Bacteria|p__Synergistetes|c__Synergistia|o__Synergistales|f__Synergistaceae|g__Fretibacterium|s__Fretibacterium_fastidiosum' (0x7effcb01559): (0.28047,\n",
              "  9796),\n",
              " Tree node '' (0x7effcb0155d): (0.14287, 9793.6875),\n",
              " Tree node 'GCA_000233775|k__Bacteria|p__Synergistetes|c__Synergistia|o__Synergistales|f__Synergistaceae|g__Thermovirga|s__Thermovirga_lienii' (0x7effcb01595): (0.28038,\n",
              "  9789),\n",
              " Tree node 'GCA_001509095|k__Bacteria|p__Synergistetes|c__Synergistia|o__Synergistales|f__Synergistales_unclassified|g__Synergistales_unclassified|s__Synergistales_bacterium_58_81' (0x7effcb01599): (0.27659,\n",
              "  9788),\n",
              " Tree node 'GCA_000266925|k__Bacteria|p__Synergistetes|c__Synergistia|o__Synergistales|f__Synergistaceae|g__Acetomicrobium|s__Acetomicrobium_mobile' (0x7effcb0159d): (0.28921,\n",
              "  9787),\n",
              " Tree node 'GCA_900129645|k__Bacteria|p__Synergistetes|c__Synergistia|o__Synergistales|f__Synergistaceae|g__Acetomicrobium|s__Acetomicrobium_flavidum' (0x7effcb015a1): (0.27972,\n",
              "  9786),\n",
              " Tree node 'GCA_000160455|k__Bacteria|p__Synergistetes|c__Synergistia|o__Synergistales|f__Synergistaceae|g__Acetomicrobium|s__Acetomicrobium_hydrogeniformans' (0x7effcb01515): (0.28512000000000004,\n",
              "  9785),\n",
              " Tree node 'GCA_900107215|k__Bacteria|p__Synergistetes|c__Synergistia|o__Synergistales|f__Synergistaceae|g__Acetomicrobium|s__Acetomicrobium_thermoterrenum' (0x7effcb015a5): (0.28669000000000006,\n",
              "  9784),\n",
              " Tree node '' (0x7effcb0154d): (0.26814, 9786.5),\n",
              " Tree node '' (0x7effcb01521): (0.2697, 9784.5),\n",
              " Tree node '' (0x7effcb01591): (0.16919, 9788.5),\n",
              " Tree node '' (0x7effcb01545): (0.23512, 9785.5),\n",
              " Tree node 'GCA_000024905|k__Bacteria|p__Synergistetes|c__Synergistia|o__Synergistales|f__Synergistaceae|g__Thermanaerovibrio|s__Thermanaerovibrio_acidaminovorans' (0x7effcb015bd): (0.26691,\n",
              "  9782),\n",
              " Tree node 'GCA_000237825|k__Bacteria|p__Synergistetes|c__Synergistia|o__Synergistales|f__Synergistaceae|g__Thermanaerovibrio|s__Thermanaerovibrio_velox' (0x7effcb015c1): (0.28152,\n",
              "  9781),\n",
              " Tree node 'GCA_000165795|k__Bacteria|p__Synergistetes|c__Synergistia|o__Synergistales|f__Synergistaceae|g__Aminomonas|s__Aminomonas_paucivorans' (0x7effcb015b1): (0.25663,\n",
              "  9783),\n",
              " Tree node '' (0x7effcb015b5): (0.22952, 9781.5),\n",
              " Tree node 'GCA_001701045|k__Bacteria|p__Synergistetes|c__Synergistia|o__Synergistales|f__Synergistaceae|g__Cloacibacillus|s__Cloacibacillus_porcorum' (0x7effcb015d9): (0.31444,\n",
              "  9778),\n",
              " Tree node 'GCA_002159945|k__Bacteria|p__Synergistetes|c__Synergistia|o__Synergistales|f__Synergistaceae|g__Cloacibacillus|s__Cloacibacillus_sp_An23' (0x7effcb015dd): (0.31365000000000004,\n",
              "  9777),\n",
              " Tree node 'GCA_000712295|k__Bacteria|p__Synergistetes|c__Synergistia|o__Synergistales|f__Synergistaceae|g__Synergistes|s__Synergistes_jonesii' (0x7effcb015d1): (0.29371,\n",
              "  9779),\n",
              " Tree node '' (0x7effcb015d5): (0.26395, 9777.5),\n",
              " Tree node 'GCA_002839185|k__Bacteria|p__Synergistetes|c__Synergistetes_unclassified|o__Synergistetes_unclassified|f__Synergistetes_unclassified|g__Synergistetes_unclassified|s__Synergistetes_bacterium_HGW_Synergistetes_1' (0x7effcb015c9): (0.2761,\n",
              "  9780),\n",
              " Tree node '' (0x7effcb015cd): (0.25294, 9778.25),\n",
              " Tree node '' (0x7effcb015ad): (0.18796000000000002, 9782.25),\n",
              " Tree node '' (0x7effcb015c5): (0.22077000000000002, 9779.125),\n",
              " Tree node '' (0x7effcb0158d): (0.14133, 9787.0),\n",
              " Tree node '' (0x7effcb015a9): (0.14504, 9780.6875),\n",
              " Tree node '' (0x7effcb01555): (0.12305, 9794.84375),\n",
              " Tree node '' (0x7effcb01589): (0.12116, 9783.84375),\n",
              " Tree node 'GCA_000020945|k__Bacteria|p__Coprothermobacterota|c__Coprothermobacteria|o__Coprothermobacterales|f__Coprothermobacteraceae|g__Coprothermobacter|s__Coprothermobacter_proteolyticus' (0x7effcb01525): (0.3175,\n",
              "  9797),\n",
              " Tree node '' (0x7effcb01551): (0.10726000000000001, 9789.34375),\n",
              " Tree node 'GCA_000020965|k__Bacteria|p__Dictyoglomi|c__Dictyoglomia|o__Dictyoglomales|f__Dictyoglomaceae|g__Dictyoglomus|s__Dictyoglomus_thermophilum' (0x7effcb015f1): (0.26062,\n",
              "  9775),\n",
              " Tree node 'GCA_000021645|k__Bacteria|p__Dictyoglomi|c__Dictyoglomia|o__Dictyoglomales|f__Dictyoglomaceae|g__Dictyoglomus|s__Dictyoglomus_turgidum' (0x7effcb015f5): (0.26473,\n",
              "  9774),\n",
              " Tree node 'GCA_002878375|k__Bacteria|p__Dictyoglomi|c__Dictyoglomia|o__Dictyoglomales|f__Dictyoglomaceae|g__Dictyoglomus|s__Dictyoglomus_sp_NZ13_RE01' (0x7effcb015e9): (0.27372,\n",
              "  9776),\n",
              " Tree node '' (0x7effcb015ed): (0.23661000000000001, 9774.5),\n",
              " Tree node 'GCA_000147715|k__Bacteria|p__Thermotogae|c__Thermotogae|o__Kosmotogales|f__Kosmotogaceae|g__Mesotoga|s__Mesotoga_prima' (0x7effcb0041d): (0.33477,\n",
              "  9772),\n",
              " Tree node 'GCA_000367705|k__Bacteria|p__Thermotogae|c__Thermotogae|o__Kosmotogales|f__Kosmotogaceae|g__Mesotoga|s__Mesotoga_infera' (0x7effcb00421): (0.33456,\n",
              "  9771),\n",
              " Tree node 'GCA_000023325|k__Bacteria|p__Thermotogae|c__Thermotogae|o__Kosmotogales|f__Kosmotogaceae|g__Kosmotoga|s__Kosmotoga_olearia' (0x7effcb00435): (0.34656999999999993,\n",
              "  9769),\n",
              " Tree node 'GCA_001636545|k__Bacteria|p__Thermotogae|c__Thermotogae|o__Kosmotogales|f__Kosmotogaceae|g__Kosmotoga|s__Kosmotoga_arenicorallina' (0x7effcb00439): (0.31335999999999997,\n",
              "  9768),\n",
              " Tree node 'GCA_001027025|k__Bacteria|p__Thermotogae|c__Thermotogae|o__Kosmotogales|f__Kosmotogaceae|g__Kosmotoga|s__Kosmotoga_pacifica' (0x7effcb00429): (0.30136,\n",
              "  9770),\n",
              " Tree node '' (0x7effcb00431): (0.26799, 9768.5),\n",
              " Tree node '' (0x7effcb00415): (0.31881, 9771.5),\n",
              " Tree node '' (0x7effcb00425): (0.24434, 9769.25),\n",
              " Tree node 'GCA_000255135|k__Bacteria|p__Thermotogae|c__Thermotogae|o__Petrotogales|f__Petrotogales_unclassified|g__Marinitoga|s__Marinitoga_piezophila' (0x7effcb00449): (0.33018000000000003,\n",
              "  9767),\n",
              " Tree node 'GCA_900129175|k__Bacteria|p__Thermotogae|c__Thermotogae|o__Petrotogales|f__Petrotogales_unclassified|g__Marinitoga|s__Marinitoga_hydrogenitolerans' (0x7effcb0044d): (0.3138,\n",
              "  9766),\n",
              " Tree node 'GCA_003148465|k__Bacteria|p__Thermotogae|c__Thermotogae|o__Thermotogales|f__Thermotogaceae|g__Oceanotoga|s__Oceanotoga_teriensis' (0x7effcb00459): (0.37637,\n",
              "  9765),\n",
              " Tree node 'GCA_900102615|k__Bacteria|p__Thermotogae|c__Thermotogae|o__Petrotogales|f__Petrotogales_unclassified|g__Geotoga|s__Geotoga_petraea' (0x7effcb0045d): (0.37917,\n",
              "  9764),\n",
              " Tree node 'GCA_000953715|k__Bacteria|p__Thermotogae|c__Thermotogae|o__Petrotogales|f__Petrotogales_unclassified|g__Defluviitoga|s__Defluviitoga_tunisiensis' (0x7effcb00469): (0.3934099999999999,\n",
              "  9763),\n",
              " Tree node 'GCA_002895485|k__Bacteria|p__Thermotogae|c__Thermotogae|o__Petrotogales|f__Petrotogales_unclassified|g__Petrotoga|s__Petrotoga_sp_9PWA_NaAc_5_4' (0x7effcb0046d): (0.37392999999999993,\n",
              "  9762),\n",
              " Tree node 'GCA_002895525|k__Bacteria|p__Thermotogae|c__Thermotogae|o__Petrotogales|f__Petrotogales_unclassified|g__Petrotoga|s__Petrotoga_olearia' (0x7effcb00481): (0.38852,\n",
              "  9760),\n",
              " Tree node 'GCA_002924625|k__Bacteria|p__Thermotogae|c__Thermotogae|o__Petrotogales|f__Petrotogales_unclassified|g__Petrotoga|s__Petrotoga_sibirica' (0x7effcb00485): (0.3721499999999999,\n",
              "  9759),\n",
              " Tree node 'GCA_002895605|k__Bacteria|p__Thermotogae|c__Thermotogae|o__Petrotogales|f__Petrotogales_unclassified|g__Petrotoga|s__Petrotoga_miotherma' (0x7effcb00495): (0.3669799999999999,\n",
              "  9757),\n",
              " Tree node 'GCA_002924615|k__Bacteria|p__Thermotogae|c__Thermotogae|o__Petrotogales|f__Petrotogales_unclassified|g__Petrotoga|s__Petrotoga_halophila' (0x7effcb00499): (0.3765799999999999,\n",
              "  9756),\n",
              " Tree node 'GCA_002895565|k__Bacteria|p__Thermotogae|c__Thermotogae|o__Petrotogales|f__Petrotogales_unclassified|g__Petrotoga|s__Petrotoga_mexicana' (0x7effcb0048d): (0.37217999999999996,\n",
              "  9758),\n",
              " Tree node '' (0x7effcb00491): (0.36255999999999994, 9756.5),\n",
              " Tree node '' (0x7effcb0047d): (0.3578, 9759.5),\n",
              " Tree node '' (0x7effcb00489): (0.36031, 9757.25),\n",
              " Tree node 'GCA_000018605|k__Bacteria|p__Thermotogae|c__Thermotogae|o__Petrotogales|f__Petrotogales_unclassified|g__Petrotoga|s__Petrotoga_mobilis' (0x7effcb00475): (0.3742399999999999,\n",
              "  9761),\n",
              " Tree node '' (0x7effcb00479): (0.35296999999999995, 9758.375),\n",
              " Tree node '' (0x7effcb00465): (0.32248999999999994, 9762.5),\n",
              " Tree node '' (0x7effcb00471): (0.34695999999999994, 9759.6875),\n",
              " Tree node '' (0x7effcb00455): (0.30133000000000004, 9764.5),\n",
              " Tree node '' (0x7effcb00461): (0.30636, 9761.09375),\n",
              " Tree node '' (0x7effcb00445): (0.27688, 9766.5),\n",
              " Tree node '' (0x7effcb00451): (0.24913000000000002, 9762.796875),\n",
              " Tree node '' (0x7effcb00411): (0.21797, 9770.375),\n",
              " Tree node '' (0x7effcb0043d): (0.21584, 9764.6484375),\n",
              " Tree node 'GCA_000017865|k__Bacteria|p__Thermotogae|c__Thermotogae|o__Thermotogales|f__Thermotogaceae|g__Pseudothermotoga|s__Pseudothermotoga_lettingae' (0x7effcb004b9): (0.3597,\n",
              "  9753),\n",
              " Tree node 'GCA_000816145|k__Bacteria|p__Thermotogae|c__Thermotogae|o__Thermotogales|f__Thermotogaceae|g__Pseudothermotoga|s__Pseudothermotoga_hypogea' (0x7effcb004bd): (0.34507,\n",
              "  9752),\n",
              " Tree node 'GCA_000217815|k__Bacteria|p__Thermotogae|c__Thermotogae|o__Thermotogales|f__Thermotogaceae|g__Pseudothermotoga|s__Pseudothermotoga_thermarum' (0x7effcb004b1): (0.31092,\n",
              "  9754),\n",
              " Tree node '' (0x7effcb004b5): (0.27733, 9752.5),\n",
              " Tree node 'GCA_000750655|k__Bacteria|p__Thermotogae|c__Thermotogae|o__Thermotogales|f__Thermotogaceae|g__Thermotoga|s__Thermotoga_neapolitana' (0x7effcb004c9): (0.30246999999999996,\n",
              "  9751),\n",
              " Tree node 'GCA_002865985|k__Bacteria|p__Thermotogae|c__Thermotogae|o__Thermotogales|f__Thermotogaceae|g__Thermotoga|s__Thermotoga_sp_SG1' (0x7effcb004cd): (0.30255,\n",
              "  9750),\n",
              " Tree node 'GCA_000016785|k__Bacteria|p__Thermotogae|c__Thermotogae|o__Thermotogales|f__Thermotogaceae|g__Thermotoga|s__Thermotoga_petrophila' (0x7effcb004e5): (0.3206399999999999,\n",
              "  9747),\n",
              " Tree node 'GCA_000025105|k__Bacteria|p__Thermotogae|c__Thermotogae|o__Thermotogales|f__Thermotogaceae|g__Thermotoga|s__Thermotoga_naphthophila' (0x7effcb004e9): (0.32859999999999995,\n",
              "  9746),\n",
              " Tree node 'GCA_000978555|k__Bacteria|p__Thermotogae|c__Thermotogae|o__Thermotogales|f__Thermotogaceae|g__Thermotoga|s__Thermotoga_maritima' (0x7effcb004dd): (0.32342,\n",
              "  9748),\n",
              " Tree node '' (0x7effcb004e1): (0.31888999999999995, 9746.5),\n",
              " Tree node 'GCA_002866025|k__Bacteria|p__Thermotogae|c__Thermotogae|o__Thermotogales|f__Thermotogaceae|g__Thermotoga|s__Thermotoga_sp_KOL6' (0x7effcb004d5): (0.32757,\n",
              "  9749),\n",
              " Tree node '' (0x7effcb004d9): (0.30197999999999997, 9747.25),\n",
              " Tree node '' (0x7effcb004c5): (0.29354, 9750.5),\n",
              " Tree node '' (0x7effcb004d1): (0.28383, 9748.125),\n",
              " Tree node '' (0x7effcb004ad): (0.25394, 9753.25),\n",
              " Tree node '' (0x7effcb004c1): (0.27566, 9749.3125),\n",
              " Tree node 'GCA_000016905|k__Bacteria|p__Thermotogae|c__Thermotogae|o__Thermotogales|f__Fervidobacteriaceae|g__Thermosipho|s__Thermosipho_melanesiensis' (0x7effd3e1fd9): (0.3725099999999999,\n",
              "  9743),\n",
              " Tree node 'GCA_900129985|k__Bacteria|p__Thermotogae|c__Thermotogae|o__Thermotogales|f__Fervidobacteriaceae|g__Thermosipho|s__Thermosipho_atlanticus' (0x7effcb26745): (0.37588999999999995,\n",
              "  9742),\n",
              " Tree node 'GCA_001990485|k__Bacteria|p__Thermotogae|c__Thermotogae|o__Thermotogales|f__Fervidobacteriaceae|g__Thermosipho|s__Thermosipho_affectus' (0x7effcb004fd): (0.34342999999999996,\n",
              "  9744),\n",
              " Tree node '' (0x7effcb00405): (0.3274599999999999, 9742.5),\n",
              " Tree node 'GCA_003351105|k__Bacteria|p__Thermotogae|c__Thermotogae|o__Thermotogales|f__Fervidobacteriaceae|g__Thermosipho|s__Thermosipho_africanus' (0x7effcb004f5): (0.3329,\n",
              "  9745),\n",
              " Tree node '' (0x7effcb004f9): (0.30733, 9743.25),\n",
              " Tree node 'GCA_000767275|k__Bacteria|p__Thermotogae|c__Thermotogae|o__Thermotogales|f__Fervidobacteriaceae|g__Fervidobacterium|s__Fervidobacterium_islandicum' (0x7effcb08b25): (0.34734,\n",
              "  9739),\n",
              " Tree node 'GCA_900100515|k__Bacteria|p__Thermotogae|c__Thermotogae|o__Thermotogales|f__Fervidobacteriaceae|g__Fervidobacterium|s__Fervidobacterium_changbaicum' (0x7effcb08b29): (0.3354,\n",
              "  9738),\n",
              " Tree node 'GCA_000017545|k__Bacteria|p__Thermotogae|c__Thermotogae|o__Thermotogales|f__Fervidobacteriaceae|g__Fervidobacterium|s__Fervidobacterium_nodosum' (0x7effcb08b35): (0.37926,\n",
              "  9737),\n",
              " Tree node 'GCA_000235405|k__Bacteria|p__Thermotogae|c__Thermotogae|o__Thermotogales|f__Fervidobacteriaceae|g__Fervidobacterium|s__Fervidobacterium_pennivorans' (0x7effcb08b39): (0.34537999999999996,\n",
              "  9736),\n",
              " Tree node '' (0x7effcb08b21): (0.32928999999999997, 9738.5),\n",
              " Tree node '' (0x7effcb08b31): (0.32400999999999996, 9736.5),\n",
              " Tree node 'GCA_900143265|k__Bacteria|p__Thermotogae|c__Thermotogae|o__Thermotogales|f__Fervidobacteriaceae|g__Fervidobacterium|s__Fervidobacterium_gondwanense' (0x7effcb08b15): (0.33913,\n",
              "  9740),\n",
              " Tree node '' (0x7effcb08b1d): (0.31381, 9737.5),\n",
              " Tree node 'GCA_001719065|k__Bacteria|p__Thermotogae|c__Thermotogae|o__Thermotogales|f__Fervidobacteriaceae|g__Fervidobacterium|s__Fervidobacterium_thailandense' (0x7effcb08b0d): (0.3257,\n",
              "  9741),\n",
              " Tree node '' (0x7effcb08b11): (0.30238, 9738.75),\n",
              " Tree node '' (0x7effcb004f1): (0.29601, 9744.125),\n",
              " Tree node '' (0x7effcb08b09): (0.28139000000000003, 9739.875),\n",
              " Tree node '' (0x7effcb004a9): (0.20007999999999998, 9751.28125),\n",
              " Tree node '' (0x7effcb004ed): (0.23575999999999997, 9742.0),\n",
              " Tree node 'GCA_003538775|k__Bacteria|p__Thermotogae|c__Thermotogae_unclassified|o__Thermotogae_unclassified|f__Thermotogae_unclassified|g__Thermotogae_unclassified|s__Thermotogae_bacterium' (0x7effcb004a1): (0.27391,\n",
              "  9755),\n",
              " Tree node '' (0x7effcb004a5): (0.18309999999999998, 9746.640625),\n",
              " Tree node '' (0x7effcb0040d): (0.16125, 9767.51171875),\n",
              " Tree node '' (0x7effcb0049d): (0.16033, 9750.8203125),\n",
              " Tree node 'GCA_002878315|k__Bacteria|p__Thermotogae|c__Thermotogae|o__Mesoaciditogales|f__Mesoaciditogaceae|g__Mesoaciditoga|s__Mesoaciditoga_sp' (0x7effcb015fd): (0.25036,\n",
              "  9773),\n",
              " Tree node '' (0x7effcb00409): (0.13997, 9759.166015625),\n",
              " Tree node '' (0x7effcb015e5): (0.17769000000000001, 9775.25),\n",
              " Tree node '' (0x7effcb015f9): (0.1072, 9766.0830078125),\n",
              " Tree node '' (0x7effeccfd39): (0.03611, 9793.171875),\n",
              " Tree node '' (0x7effcb015e1): (0.042550000000000004, 9770.66650390625),\n",
              " Tree node 'GCA_000183405|k__Bacteria|p__Deferribacteres|c__Deferribacteres|o__Deferribacterales|f__Deferribacteraceae|g__Calditerrivibrio|s__Calditerrivibrio_nitroreducens' (0x7effcb08b69): (0.22239000000000003,\n",
              "  9733),\n",
              " Tree node 'GCA_900157005|k__Bacteria|p__Deferribacteres|c__Deferribacteres|o__Deferribacterales|f__Deferribacteraceae|g__Mucispirillum|s__Mucispirillum_schaedleri' (0x7effcb08b6d): (0.28336000000000006,\n",
              "  9732),\n",
              " Tree node 'GCA_000025725|k__Bacteria|p__Deferribacteres|c__Deferribacteres|o__Deferribacterales|f__Deferribacteraceae|g__Denitrovibrio|s__Denitrovibrio_acetiphilus' (0x7effcb08b81): (0.25633,\n",
              "  9731),\n",
              " Tree node 'GCA_002869145|k__Bacteria|p__Deferribacteres|c__Deferribacteres|o__Deferribacterales|f__Deferribacteraceae|g__Denitrovibrio|s__Denitrovibrio_sp' (0x7effcb08b85): (0.2521,\n",
              "  9730),\n",
              " Tree node 'GCA_000010985|k__Bacteria|p__Deferribacteres|c__Deferribacteres|o__Deferribacterales|f__Deferribacteraceae|g__Deferribacter|s__Deferribacter_desulfuricans' (0x7effcb08b8d): (0.24581999999999998,\n",
              "  9729),\n",
              " Tree node 'GCA_000218625|k__Bacteria|p__Deferribacteres|c__Deferribacteres|o__Deferribacterales|f__Deferribacteraceae|g__Flexistipes|s__Flexistipes_sinusarabici' (0x7effcb08b95): (0.26632,\n",
              "  9728),\n",
              " Tree node '' (0x7effcb08b75): (0.20465, 9730.5),\n",
              " Tree node '' (0x7effcb08b89): (0.1547, 9728.5),\n",
              " Tree node '' (0x7effcb08b65): (0.13706000000000002, 9732.5),\n",
              " Tree node '' (0x7effcb08b71): (0.13559, 9729.5),\n",
              " Tree node 'GCA_001547735|k__Bacteria|p__Aquificae|c__Aquificae|o__Aquificales|f__Aquificales_unclassified|g__Thermosulfidibacter|s__Thermosulfidibacter_takaii' (0x7effcb08b5d): (0.18653999999999998,\n",
              "  9734),\n",
              " Tree node '' (0x7effcb08b61): (0.11873, 9731.0),\n",
              " Tree node 'GCA_000177635|k__Bacteria|p__Chrysiogenetes|c__Chrysiogenetes|o__Chrysiogenales|f__Chrysiogenaceae|g__Desulfurispirillum|s__Desulfurispirillum_indicum' (0x7effcb08b51): (0.21927999999999997,\n",
              "  9735),\n",
              " Tree node '' (0x7effcb08b59): (0.06763, 9732.5),\n",
              " Tree node 'GCA_000185805|k__Bacteria|p__Aquificae|c__Aquificae|o__Desulfurobacteriales|f__Desulfurobacteriaceae|g__Thermovibrio|s__Thermovibrio_ammonificans' (0x7effcb08ba9): (0.21879,\n",
              "  9727),\n",
              " Tree node 'GCA_000191045|k__Bacteria|p__Aquificae|c__Aquificae|o__Desulfurobacteriales|f__Desulfurobacteriaceae|g__Desulfurobacterium|s__Desulfurobacterium_thermolithotrophum' (0x7effcb08bad): (0.2073,\n",
              "  9726),\n",
              " Tree node 'GCA_001968985|k__Bacteria|p__Aquificae|c__Aquificae|o__Desulfurobacteriales|f__Desulfurobacteriaceae|g__Desulfurobacterium|s__Desulfurobacterium_indicum' (0x7effcb08bb5): (0.22127,\n",
              "  9725),\n",
              " Tree node 'GCA_900188395|k__Bacteria|p__Aquificae|c__Aquificae|o__Desulfurobacteriales|f__Desulfurobacteriaceae|g__Desulfurobacterium|s__Desulfurobacterium_atlanticum' (0x7effcb08bbd): (0.23385,\n",
              "  9724),\n",
              " Tree node '' (0x7effcb08ba1): (0.16797, 9726.5),\n",
              " Tree node '' (0x7effcb08bb1): (0.19067, 9724.5),\n",
              " Tree node 'GCA_000021565|k__Bacteria|p__Aquificae|c__Aquificae|o__Aquificales|f__Hydrogenothermaceae|g__Persephonella|s__Persephonella_marina' (0x7effcb08bd1): (0.27702,\n",
              "  9723),\n",
              " Tree node 'GCA_900215515|k__Bacteria|p__Aquificae|c__Aquificae|o__Aquificales|f__Hydrogenothermaceae|g__Persephonella|s__Persephonella_hydrogeniphila' (0x7effcb08bd5): (0.2771,\n",
              "  9722),\n",
              " Tree node 'GCA_000021545|k__Bacteria|p__Aquificae|c__Aquificae|o__Aquificales|f__Hydrogenothermaceae|g__Sulfurihydrogenibium|s__Sulfurihydrogenibium_azorense' (0x7effcb08be9): (0.27213,\n",
              "  9720),\n",
              " Tree node 'GCA_002877885|k__Bacteria|p__Aquificae|c__Aquificae|o__Aquificales|f__Hydrogenothermaceae|g__Sulfurihydrogenibium|s__Sulfurihydrogenibium_sp' (0x7effcb08bed): (0.26076999999999995,\n",
              "  9719),\n",
              " Tree node 'GCA_000020325|k__Bacteria|p__Aquificae|c__Aquificae|o__Aquificales|f__Hydrogenothermaceae|g__Sulfurihydrogenibium|s__Sulfurihydrogenibium_sp_YO3AOP1' (0x7effcb08bdd): (0.26222999999999996,\n",
              "  9721),\n",
              " Tree node '' (0x7effcb08be5): (0.23497999999999997, 9719.5),\n",
              " Tree node '' (0x7effcb08bc9): (0.21243000000000004, 9722.5),\n",
              " Tree node '' (0x7effcb08bd9): (0.21273000000000003, 9720.25),\n",
              " Tree node 'GCA_000025605|k__Bacteria|p__Aquificae|c__Aquificae|o__Aquificales|f__Aquificaceae|g__Thermocrinis|s__Thermocrinis_albus' (0x7effcb04d45): (0.35056,\n",
              "  9715),\n",
              " Tree node 'GCA_000512735|k__Bacteria|p__Aquificae|c__Aquificae|o__Aquificales|f__Aquificaceae|g__Thermocrinis|s__Thermocrinis_ruber' (0x7effcb04d55): (0.33979,\n",
              "  9714),\n",
              " Tree node 'GCA_000010785|k__Bacteria|p__Aquificae|c__Aquificae|o__Aquificales|f__Aquificaceae|g__Hydrogenobacter|s__Hydrogenobacter_thermophilus' (0x7effcb04d6d): (0.33599,\n",
              "  9713),\n",
              " Tree node 'GCA_900215655|k__Bacteria|p__Aquificae|c__Aquificae|o__Aquificales|f__Aquificaceae|g__Hydrogenobacter|s__Hydrogenobacter_hydrogenophilus' (0x7effcb04d81): (0.32439999999999997,\n",
              "  9712),\n",
              " Tree node '' (0x7effcb04d3d): (0.27839, 9714.5),\n",
              " Tree node '' (0x7effcb04d5d): (0.28540000000000004, 9712.5),\n",
              " Tree node 'GCA_900142435|k__Bacteria|p__Aquificae|c__Aquificae|o__Aquificales|f__Aquificaceae|g__Thermocrinis|s__Thermocrinis_minervae' (0x7effcb04d15): (0.30574,\n",
              "  9716),\n",
              " Tree node '' (0x7effcb04d35): (0.25608000000000003, 9713.5),\n",
              " Tree node 'GCA_000008625|k__Bacteria|p__Aquificae|c__Aquificae|o__Aquificales|f__Aquificaceae|g__Aquifex|s__Aquifex_aeolicus' (0x7effcb04d09): (0.29046,\n",
              "  9717),\n",
              " Tree node '' (0x7effcb04d0d): (0.24257999999999996, 9714.75),\n",
              " Tree node 'GCA_000171895|k__Bacteria|p__Aquificae|c__Aquificae|o__Aquificales|f__Aquificaceae|g__Hydrogenivirga|s__Hydrogenivirga_sp_128_5_R1_1' (0x7effcb08bf9): (0.25484,\n",
              "  9718),\n",
              " Tree node '' (0x7effcb08bfd): (0.20621, 9715.875),\n",
              " Tree node '' (0x7effcb08bc5): (0.17771, 9721.375),\n",
              " Tree node '' (0x7effcb08bf1): (0.17777, 9716.9375),\n",
              " Tree node '' (0x7effcb08b9d): (0.14429, 9725.5),\n",
              " Tree node '' (0x7effcb08bc1): (0.12223, 9719.15625),\n",
              " Tree node '' (0x7effcb08b4d): (0.05388, 9733.75),\n",
              " Tree node '' (0x7effcb08b99): (0.06833, 9722.328125),\n",
              " Tree node 'GCA_000973085|k__Bacteria|p__Fusobacteria|c__Fusobacteriia|o__Fusobacteriales|f__Leptotrichiaceae|g__Sneathia|s__Sneathia_amnii' (0x7effcb04da9): (0.3317,\n",
              "  9710),\n",
              " Tree node 'GCA_002983685|k__Bacteria|p__Fusobacteria|c__Fusobacteriia|o__Fusobacteriales|f__Leptotrichiaceae|g__Streptobacillus|s__Streptobacillus_moniliformis' (0x7effcb04db1): (0.33801,\n",
              "  9709),\n",
              " Tree node 'GCA_000469505|k__Bacteria|p__Fusobacteria|c__Fusobacteriia|o__Fusobacteriales|f__Leptotrichiaceae|g__Leptotrichia|s__Leptotrichia_sp_oral_taxon_215' (0x7effcb04dc9): (0.31120000000000003,\n",
              "  9707),\n",
              " Tree node 'GCA_001274535|k__Bacteria|p__Fusobacteria|c__Fusobacteriia|o__Fusobacteriales|f__Leptotrichiaceae|g__Leptotrichia|s__Leptotrichia_sp_oral_taxon_212' (0x7effcb04dcd): (0.31597000000000003,\n",
              "  9706),\n",
              " Tree node 'GCA_001553645|k__Bacteria|p__Fusobacteria|c__Fusobacteriia|o__Fusobacteriales|f__Leptotrichiaceae|g__Leptotrichia|s__Leptotrichia_sp_oral_taxon_847' (0x7effcb04de5): (0.34034000000000003,\n",
              "  9705),\n",
              " Tree node 'GCA_002240055|k__Bacteria|p__Fusobacteria|c__Fusobacteriia|o__Fusobacteriales|f__Leptotrichiaceae|g__Leptotrichia|s__Leptotrichia_sp_oral_taxon_498' (0x7effcb04de9): (0.33740000000000003,\n",
              "  9704),\n",
              " Tree node 'GCA_000469385|k__Bacteria|p__Fusobacteria|c__Fusobacteriia|o__Fusobacteriales|f__Leptotrichiaceae|g__Leptotrichia|s__Leptotrichia_sp_oral_taxon_879' (0x7effcb04d2d): (0.33676,\n",
              "  9700),\n",
              " Tree node 'GCA_000469525|k__Bacteria|p__Fusobacteria|c__Fusobacteriia|o__Fusobacteriales|f__Leptotrichiaceae|g__Leptotrichia|s__Leptotrichia_sp_oral_taxon_225' (0x7effcb04d41): (0.33888999999999997,\n",
              "  9699),\n",
              " Tree node 'GCA_000162955|k__Bacteria|p__Fusobacteria|c__Fusobacteriia|o__Fusobacteriales|f__Leptotrichiaceae|g__Leptotrichia|s__Leptotrichia_hofstadii' (0x7effcb04d1d): (0.34283,\n",
              "  9701),\n",
              " Tree node '' (0x7effcb04d29): (0.32164000000000004, 9699.5),\n",
              " Tree node 'GCA_000023905|k__Bacteria|p__Fusobacteria|c__Fusobacteriia|o__Fusobacteriales|f__Leptotrichiaceae|g__Leptotrichia|s__Leptotrichia_buccalis' (0x7effcb04d05): (0.34221999999999997,\n",
              "  9702),\n",
              " Tree node '' (0x7effcb04d19): (0.31817999999999996, 9700.25),\n",
              " Tree node 'GCA_001553045|k__Bacteria|p__Fusobacteria|c__Fusobacteriia|o__Fusobacteriales|f__Leptotrichiaceae|g__Leptotrichia|s__Leptotrichia_wadei' (0x7effcb04df9): (0.31863,\n",
              "  9703),\n",
              " Tree node '' (0x7effcb04dfd): (0.30995, 9701.125),\n",
              " Tree node '' (0x7effcb04dd5): (0.32918000000000003, 9704.5),\n",
              " Tree node '' (0x7effcb04df1): (0.29964, 9702.0625),\n",
              " Tree node '' (0x7effcb04dc5): (0.28047999999999995, 9706.5),\n",
              " Tree node '' (0x7effcb04dd1): (0.27597999999999995, 9703.28125),\n",
              " Tree node 'GCA_000176335|k__Bacteria|p__Fusobacteria|c__Fusobacteriia|o__Fusobacteriales|f__Leptotrichiaceae|g__Leptotrichia|s__Leptotrichia_goodfellowii' (0x7effcb04dbd): (0.29035999999999995,\n",
              "  9708),\n",
              " Tree node '' (0x7effcb04dc1): (0.24716999999999997, 9704.890625),\n",
              " Tree node '' (0x7effcb04da5): (0.23548999999999998, 9709.5),\n",
              " Tree node '' (0x7effcb04db5): (0.23598999999999998, 9706.4453125),\n",
              " Tree node 'GCA_000024405|k__Bacteria|p__Fusobacteria|c__Fusobacteriia|o__Fusobacteriales|f__Leptotrichiaceae|g__Sebaldella|s__Sebaldella_termitidis' (0x7effcb04d91): (0.27240000000000003,\n",
              "  9711),\n",
              " Tree node '' (0x7effcb04da1): (0.20394000000000004, 9707.97265625),\n",
              " Tree node 'GCA_000479045|k__Bacteria|p__Fusobacteria|c__Fusobacteriia|o__Fusobacteriales|f__Fusobacteriaceae|g__Cetobacterium|s__Cetobacterium_somerae' (0x7effcb04db9): (0.27992,\n",
              "  9698),\n",
              " Tree node 'GCA_900167275|k__Bacteria|p__Fusobacteria|c__Fusobacteriia|o__Fusobacteriales|f__Fusobacteriaceae|g__Cetobacterium|s__Cetobacterium_ceti' (0x7effcb04de1): (0.28435,\n",
              "  9697),\n",
              " Tree node 'GCA_003438345|k__Bacteria|p__Fusobacteria|c__Fusobacteriia|o__Fusobacteriales|f__Fusobacteriaceae|g__Fusobacterium|s__Fusobacterium_mortiferum' (0x7effca0a711): (0.29873,\n",
              "  9695),\n",
              " Tree node 'GCA_900450765|k__Bacteria|p__Fusobacteria|c__Fusobacteriia|o__Fusobacteriales|f__Fusobacteriaceae|g__Fusobacterium|s__Fusobacterium_necrogenes' (0x7effca0a715): (0.30547,\n",
              "  9694),\n",
              " Tree node 'GCA_000158315|k__Bacteria|p__Fusobacteria|c__Fusobacteriia|o__Fusobacteriales|f__Fusobacteriaceae|g__Fusobacterium|s__Fusobacterium_ulcerans' (0x7effca0a71d): (0.29422000000000004,\n",
              "  9693),\n",
              " Tree node 'GCA_003436335|k__Bacteria|p__Fusobacteria|c__Fusobacteriia|o__Fusobacteriales|f__Fusobacteriaceae|g__Fusobacterium|s__Fusobacterium_varium' (0x7effca0a721): (0.29158,\n",
              "  9692),\n",
              " Tree node '' (0x7effca0a70d): (0.2576, 9694.5),\n",
              " Tree node '' (0x7effca0a719): (0.26712, 9692.5),\n",
              " Tree node 'GCA_000165505|k__Bacteria|p__Fusobacteria|c__Fusobacteriia|o__Fusobacteriales|f__Fusobacteriaceae|g__Ilyobacter|s__Ilyobacter_polytropus' (0x7effcb04df5): (0.30444,\n",
              "  9696),\n",
              " Tree node '' (0x7effca0a709): (0.23115, 9693.5),\n",
              " Tree node '' (0x7effcb04d7d): (0.22724, 9697.5),\n",
              " Tree node '' (0x7effcb04ded): (0.20482999999999998, 9694.75),\n",
              " Tree node 'GCA_000158835|k__Bacteria|p__Fusobacteria|c__Fusobacteriia|o__Fusobacteriales|f__Fusobacteriaceae|g__Fusobacterium|s__Fusobacterium_gonidiaformans' (0x7effca0a739): (0.30892,\n",
              "  9690),\n",
              " Tree node 'GCA_001546395|k__Bacteria|p__Fusobacteria|c__Fusobacteriia|o__Fusobacteriales|f__Fusobacteriaceae|g__Fusobacterium|s__Fusobacterium_equinum' (0x7effca0a73d): (0.28633,\n",
              "  9689),\n",
              " Tree node 'GCA_001596495|k__Bacteria|p__Fusobacteria|c__Fusobacteriia|o__Fusobacteriales|f__Fusobacteriaceae|g__Fusobacterium|s__Fusobacterium_necrophorum' (0x7effca0a72d): (0.29894,\n",
              "  9691),\n",
              " Tree node '' (0x7effca0a735): (0.28329, 9689.5),\n",
              " Tree node 'GCA_000235465|k__Bacteria|p__Fusobacteria|c__Fusobacteriia|o__Fusobacteriales|f__Fusobacteriaceae|g__Fusobacterium|s__Fusobacterium_sp_oral_taxon_370' (0x7effca0a749): (0.30606,\n",
              "  9688),\n",
              " Tree node 'GCA_002761935|k__Bacteria|p__Fusobacteria|c__Fusobacteriia|o__Fusobacteriales|f__Fusobacteriaceae|g__Fusobacterium|s__Fusobacterium_periodonticum' (0x7effca0a74d): (0.32229,\n",
              "  9687),\n",
              " Tree node 'GCA_000242975|k__Bacteria|p__Fusobacteria|c__Fusobacteriia|o__Fusobacteriales|f__Fusobacteriaceae|g__Fusobacterium|s__Fusobacterium_nucleatum' (0x7effca0a761): (0.3393900000000001,\n",
              "  9685),\n",
              " Tree node 'GCA_001455145|k__Bacteria|p__Fusobacteria|c__Fusobacteriia|o__Fusobacteriales|f__Fusobacteriaceae|g__Fusobacterium|s__Fusobacterium_hwasookii' (0x7effca0a765): (0.31401000000000007,\n",
              "  9684),\n",
              " Tree node 'GCA_003516445|k__Bacteria|p__Aquificae|c__Aquificae|o__Aquificales|f__Hydrogenothermaceae|g__Sulfurihydrogenibium|s__Sulfurihydrogenibium_yellowstonense' (0x7effca0a755): (0.30551999999999996,\n",
              "  9686),\n",
              " Tree node '' (0x7effca0a75d): (0.29518, 9684.5),\n",
              " Tree node '' (0x7effca0a745): (0.2952, 9687.5),\n",
              " Tree node '' (0x7effca0a751): (0.28545, 9685.25),\n",
              " Tree node '' (0x7effca0a729): (0.26064, 9690.25),\n",
              " Tree node '' (0x7effca0a741): (0.27476, 9686.375),\n",
              " Tree node '' (0x7effcb04d69): (0.18835000000000002, 9696.125),\n",
              " Tree node '' (0x7effca0a725): (0.202, 9688.3125),\n",
              " Tree node '' (0x7effcb04d8d): (0.17698000000000003, 9709.486328125),\n",
              " Tree node '' (0x7effcb04d51): (0.17631000000000002, 9692.21875),\n",
              " Tree node 'GCA_000517565|k__Bacteria|p__Proteobacteria|c__Deltaproteobacteria|o__Desulfurellales|f__Desulfurellaceae|g__Desulfurella|s__Desulfurella_acetivorans' (0x7effca0a795): (0.2862199999999999,\n",
              "  9680),\n",
              " Tree node 'GCA_900101285|k__Bacteria|p__Proteobacteria|c__Deltaproteobacteria|o__Desulfurellales|f__Desulfurellaceae|g__Desulfurella|s__Desulfurella_multipotens' (0x7effca0a799): (0.2862799999999999,\n",
              "  9679),\n",
              " Tree node 'GCA_002119425|k__Bacteria|p__Proteobacteria|c__Deltaproteobacteria|o__Desulfurellales|f__Desulfurellaceae|g__Desulfurella|s__Desulfurella_amilsii' (0x7effca0a789): (0.29173,\n",
              "  9681),\n",
              " Tree node '' (0x7effca0a78d): (0.27741, 9679.5),\n",
              " Tree node 'GCA_000194135|k__Bacteria|p__Proteobacteria|c__Deltaproteobacteria|o__Desulfurellales|f__Desulfurellaceae|g__Hippea|s__Hippea_maritima' (0x7effca0a781): (0.26609000000000005,\n",
              "  9682),\n",
              " Tree node '' (0x7effca0a785): (0.25683, 9680.25),\n",
              " Tree node 'GCA_002878095|k__Bacteria|p__Firmicutes|c__Clostridia|o__Thermoanaerobacterales|f__Thermodesulfobiaceae|g__Thermodesulfobium|s__Thermodesulfobium_narugense' (0x7effca0a775): (0.30563,\n",
              "  9683),\n",
              " Tree node '' (0x7effca0a779): (0.15544, 9681.125),\n",
              " Tree node 'GCA_000170735|k__Bacteria|p__Proteobacteria|c__Epsilonproteobacteria|o__Nautiliales|f__Nautiliaceae|g__Caminibacter|s__Caminibacter_mediatlanticus' (0x7effca0a7b1): (0.29211,\n",
              "  9677),\n",
              " Tree node 'GCA_002335445|k__Bacteria|p__Proteobacteria|c__Epsilonproteobacteria|o__Nautiliales|f__Nautiliaceae|g__Lebetimonas|s__Lebetimonas_natsushimae' (0x7effca0a7b5): (0.30171000000000003,\n",
              "  9676),\n",
              " Tree node 'GCA_000021725|k__Bacteria|p__Proteobacteria|c__Epsilonproteobacteria|o__Nautiliales|f__Nautiliaceae|g__Nautilia|s__Nautilia_profundicola' (0x7effca0a7a9): (0.26964,\n",
              "  9678),\n",
              " Tree node '' (0x7effca0a7ad): (0.25334, 9676.5),\n",
              " Tree node 'GCA_000010325|k__Bacteria|p__Proteobacteria|c__Epsilonproteobacteria|o__Epsilonproteobacteria_unclassified|f__Epsilonproteobacteria_unclassified|g__Nitratiruptor|s__Nitratiruptor_sp_SB155_2' (0x7effca0a7c5): (0.29125999999999996,\n",
              "  9675),\n",
              " Tree node 'GCA_900176045|k__Bacteria|p__Proteobacteria|c__Epsilonproteobacteria|o__Epsilonproteobacteria_unclassified|f__Epsilonproteobacteria_unclassified|g__Nitratiruptor|s__Nitratiruptor_tergarcus' (0x7effca0a7c9): (0.29955,\n",
              "  9674),\n",
              " Tree node 'GCA_000830175|k__Bacteria|p__Proteobacteria|c__Epsilonproteobacteria|o__Epsilonproteobacteria_unclassified|f__Epsilonproteobacteria_unclassified|g__Sulfurovum|s__Sulfurovum_sp_FS08_3' (0x7effcaff841): (0.35822,\n",
              "  9669),\n",
              " Tree node 'GCA_000830205|k__Bacteria|p__Proteobacteria|c__Epsilonproteobacteria|o__Epsilonproteobacteria_unclassified|f__Epsilonproteobacteria_unclassified|g__Sulfurovum|s__Sulfurovum_sp_PC08_66' (0x7effcaff855): (0.37782,\n",
              "  9668),\n",
              " Tree node 'GCA_000830185|k__Bacteria|p__Proteobacteria|c__Epsilonproteobacteria|o__Epsilonproteobacteria_unclassified|f__Epsilonproteobacteria_unclassified|g__Sulfurovum|s__Sulfurovum_sp_FS06_10' (0x7effca0a7f9): (0.37218,\n",
              "  9670),\n",
              " Tree node '' (0x7effca0a7fd): (0.34526, 9668.5),\n",
              " Tree node 'GCA_000010345|k__Bacteria|p__Proteobacteria|c__Epsilonproteobacteria|o__Epsilonproteobacteria_unclassified|f__Epsilonproteobacteria_unclassified|g__Sulfurovum|s__Sulfurovum_sp_NBC37_1' (0x7effcb0be71): (0.3882699999999999,\n",
              "  9663),\n",
              " Tree node 'GCA_000987835|k__Bacteria|p__Proteobacteria|c__Epsilonproteobacteria|o__Epsilonproteobacteria_unclassified|f__Epsilonproteobacteria_unclassified|g__Sulfurovum|s__Sulfurovum_lithotrophicum' (0x7effcb0be7d): (0.3907399999999999,\n",
              "  9662),\n",
              " Tree node 'GCA_001595645|k__Bacteria|p__Proteobacteria|c__Epsilonproteobacteria|o__Epsilonproteobacteria_unclassified|f__Epsilonproteobacteria_unclassified|g__Sulfurovum|s__Sulfurovum_riftiae' (0x7effcb0be11): (0.37416000000000005,\n",
              "  9664),\n",
              " Tree node '' (0x7effcb0be19): (0.37137000000000003, 9662.5),\n",
              " Tree node 'GCA_002733215|k__Bacteria|p__Proteobacteria|c__Epsilonproteobacteria|o__Epsilonproteobacteria_unclassified|f__Epsilonproteobacteria_unclassified|g__Sulfurovum|s__Sulfurovum_sp' (0x7effcb2b361): (0.38703000000000004,\n",
              "  9665),\n",
              " Tree node '' (0x7effcb0be09): (0.35651000000000005, 9663.25),\n",
              " Tree node 'GCA_000296775|k__Bacteria|p__Proteobacteria|c__Epsilonproteobacteria|o__Epsilonproteobacteria_unclassified|f__Epsilonproteobacteria_unclassified|g__Sulfurovum|s__Sulfurovum_sp_AR' (0x7effcaff8e1): (0.35305,\n",
              "  9666),\n",
              " Tree node '' (0x7effcaff8f5): (0.34029, 9664.125),\n",
              " Tree node 'GCA_002742845|k__Bacteria|p__Proteobacteria|c__Epsilonproteobacteria|o__Epsilonproteobacteria_unclassified|f__Epsilonproteobacteria_unclassified|g__Sulfurovum|s__Sulfurovum_sp_UBA12169' (0x7effcaff891): (0.36256000000000005,\n",
              "  9667),\n",
              " Tree node '' (0x7effcaff8cd): (0.3289, 9665.0625),\n",
              " Tree node '' (0x7effca0a7f5): (0.29906999999999995, 9669.25),\n",
              " Tree node '' (0x7effcaff87d): (0.3181, 9666.03125),\n",
              " Tree node 'GCA_000830195|k__Bacteria|p__Proteobacteria|c__Epsilonproteobacteria|o__Epsilonproteobacteria_unclassified|f__Epsilonproteobacteria_unclassified|g__Sulfurovum|s__Sulfurovum_sp_AS07_7' (0x7effca0a7ed): (0.3423,\n",
              "  9671),\n",
              " Tree node '' (0x7effca0a7f1): (0.28798999999999997, 9667.640625),\n",
              " Tree node 'GCA_000186245|k__Bacteria|p__Proteobacteria|c__Epsilonproteobacteria|o__Campylobacterales|f__Campylobacterales_unclassified|g__Nitratifractor|s__Nitratifractor_salsuginis' (0x7effca0a7e1): (0.32872999999999997,\n",
              "  9672),\n",
              " Tree node '' (0x7effca0a7e9): (0.27453, 9669.3203125),\n",
              " Tree node 'GCA_900115615|k__Bacteria|p__Proteobacteria|c__Epsilonproteobacteria|o__Campylobacterales|f__Campylobacterales_unclassified|g__Hydrogenimonas|s__Hydrogenimonas_thermophila' (0x7effca0a7d9): (0.29529999999999995,\n",
              "  9673),\n",
              " Tree node '' (0x7effca0a7dd): (0.25497, 9670.66015625),\n",
              " Tree node 'GCA_000747095|k__Bacteria|p__Proteobacteria|c__Epsilonproteobacteria|o__Campylobacterales|f__Helicobacteraceae|g__Sulfuricurvum|s__Sulfuricurvum_sp_MLSB' (0x7effcb0be35): (0.35895,\n",
              "  9658),\n",
              " Tree node 'GCA_002633015|k__Bacteria|p__Proteobacteria|c__Epsilonproteobacteria|o__Campylobacterales|f__Helicobacteraceae|g__Sulfuricurvum|s__Sulfuricurvum_sp_PD_MW2' (0x7effcb0be39): (0.35735,\n",
              "  9657),\n",
              " Tree node 'GCA_000183725|k__Bacteria|p__Proteobacteria|c__Epsilonproteobacteria|o__Campylobacterales|f__Helicobacteraceae|g__Sulfuricurvum|s__Sulfuricurvum_kujiense' (0x7effcb0be29): (0.35741,\n",
              "  9659),\n",
              " Tree node '' (0x7effcb0be31): (0.33025, 9657.5),\n",
              " Tree node 'GCA_000242915|k__Bacteria|p__Proteobacteria|c__Epsilonproteobacteria|o__Campylobacterales|f__Helicobacteraceae|g__Sulfurimonas|s__Sulfurimonas_gotlandica' (0x7effcb0be4d): (0.38905,\n",
              "  9655),\n",
              " Tree node 'GCA_000445475|k__Bacteria|p__Proteobacteria|c__Epsilonproteobacteria|o__Campylobacterales|f__Helicobacteraceae|g__Sulfurimonas|s__Sulfurimonas_hongkongensis' (0x7effcb0be51): (0.3819,\n",
              "  9654),\n",
              " Tree node 'GCA_001829675|k__Bacteria|p__Proteobacteria|c__Epsilonproteobacteria|o__Campylobacterales|f__Helicobacteraceae|g__Sulfurimonas|s__Sulfurimonas_sp_RIFCSPLOWO2_12_36_12' (0x7effcb0be65): (0.3717,\n",
              "  9652),\n",
              " Tree node 'GCA_001829715|k__Bacteria|p__Proteobacteria|c__Epsilonproteobacteria|o__Campylobacterales|f__Helicobacteraceae|g__Sulfurimonas|s__Sulfurimonas_sp_RIFOXYB12_FULL_35_9' (0x7effcb0be6d): (0.37544999999999995,\n",
              "  9651),\n",
              " Tree node 'GCA_000012965|k__Bacteria|p__Proteobacteria|c__Epsilonproteobacteria|o__Campylobacterales|f__Helicobacteraceae|g__Sulfurimonas|s__Sulfurimonas_denitrificans' (0x7effcb0be5d): (0.37435,\n",
              "  9653),\n",
              " Tree node '' (0x7effcb0be61): (0.35475, 9651.5),\n",
              " Tree node '' (0x7effcb0be49): (0.34212999999999993, 9654.5),\n",
              " Tree node '' (0x7effcb0be59): (0.34135999999999994, 9652.25),\n",
              " Tree node 'GCA_000147355|k__Bacteria|p__Proteobacteria|c__Epsilonproteobacteria|o__Campylobacterales|f__Helicobacteraceae|g__Sulfurimonas|s__Sulfurimonas_autotrophica' (0x7effcb0be41): (0.37978999999999996,\n",
              "  9656),\n",
              " Tree node '' (0x7effcb0be45): (0.32664, 9653.375),\n",
              " Tree node '' (0x7effcb0be25): (0.32164, 9658.25),\n",
              " Tree node '' (0x7effcb0be3d): (0.31316, 9654.6875),\n",
              " Tree node 'GCA_000830255|k__Bacteria|p__Proteobacteria|c__Epsilonproteobacteria|o__Campylobacterales|f__Helicobacteraceae|g__Sulfuricurvum|s__Sulfuricurvum_sp_PC08_66' (0x7effcb0be1d): (0.34240000000000004,\n",
              "  9660),\n",
              " Tree node '' (0x7effcb0be21): (0.28556000000000004, 9656.46875),\n",
              " Tree node 'GCA_000276965|k__Bacteria|p__Proteobacteria|c__Epsilonproteobacteria|o__Campylobacterales|f__Helicobacteraceae|g__Thiovulum|s__Thiovulum_sp_ES' (0x7effcb0be0d): (0.37402,\n",
              "  9661),\n",
              " Tree node '' (0x7effcb0be15): (0.26039999999999996, 9658.234375),\n",
              " Tree node 'GCA_000196135|k__Bacteria|p__Proteobacteria|c__Epsilonproteobacteria|o__Campylobacterales|f__Helicobacteraceae|g__Wolinella|s__Wolinella_succinogenes' (0x7effcb0be89): (0.38666999999999996,\n",
              "  9650),\n",
              " Tree node 'GCA_003288845|k__Bacteria|p__Proteobacteria|c__Epsilonproteobacteria|o__Campylobacterales|f__Helicobacteraceae|g__Helicobacter|s__Helicobacter_sp_15_1451' (0x7effcb0be8d): (0.40886,\n",
              "  9649),\n",
              " Tree node 'GCA_000765745|k__Bacteria|p__Proteobacteria|c__Epsilonproteobacteria|o__Campylobacterales|f__Helicobacteraceae|g__Helicobacter|s__Helicobacter_apodemus' (0x7effcb0be9d): (0.43890999999999997,\n",
              "  9648),\n",
              " Tree node 'GCA_003245365|k__Bacteria|p__Proteobacteria|c__Epsilonproteobacteria|o__Campylobacterales|f__Helicobacteraceae|g__Helicobacter|s__Helicobacter_valdiviensis' (0x7effcb0bea1): (0.42122,\n",
              "  9647),\n",
              " Tree node 'GCA_003288905|k__Bacteria|p__Proteobacteria|c__Epsilonproteobacteria|o__Campylobacterales|f__Helicobacteraceae|g__Helicobacter|s__Helicobacter_sp_11_8110' (0x7effcb0bec1): (0.40804999999999997,\n",
              "  9645),\n",
              " Tree node 'GCA_900450815|k__Bacteria|p__Proteobacteria|c__Epsilonproteobacteria|o__Campylobacterales|f__Helicobacteraceae|g__Helicobacter|s__Helicobacter_canadensis' (0x7effcb0bec5): (0.41931999999999997,\n",
              "  9644),\n",
              " Tree node 'GCA_001698625|k__Bacteria|p__Proteobacteria|c__Epsilonproteobacteria|o__Campylobacterales|f__Helicobacteraceae|g__Helicobacter|s__Helicobacter_pullorum' (0x7effcb0beb5): (0.4034999999999999,\n",
              "  9646),\n",
              " Tree node '' (0x7effcb0bebd): (0.3966299999999999, 9644.5),\n",
              " Tree node 'GCA_000765695|k__Bacteria|p__Proteobacteria|c__Epsilonproteobacteria|o__Campylobacterales|f__Helicobacteraceae|g__Helicobacter|s__Helicobacter_sp_MIT_11_5569' (0x7effcb0bed9): (0.42776,\n",
              "  9642),\n",
              " Tree node 'GCA_002845385|k__Bacteria|p__Proteobacteria|c__Epsilonproteobacteria|o__Campylobacterales|f__Helicobacteraceae|g__Helicobacter|s__Helicobacter_winghamensis' (0x7effcb0bedd): (0.4102,\n",
              "  9641),\n",
              " Tree node 'GCA_003364315|k__Bacteria|p__Proteobacteria|c__Epsilonproteobacteria|o__Campylobacterales|f__Helicobacteraceae|g__Helicobacter|s__Helicobacter_ganmani' (0x7effcb0bed1): (0.4138699999999999,\n",
              "  9643),\n",
              " Tree node '' (0x7effcb0bed5): (0.3949099999999999, 9641.5),\n",
              " Tree node '' (0x7effcb0bead): (0.38136, 9645.25),\n",
              " Tree node '' (0x7effcb0bec9): (0.38050999999999996, 9642.25),\n",
              " Tree node '' (0x7effcb0be99): (0.37698, 9647.5),\n",
              " Tree node '' (0x7effcb0bea9): (0.36519999999999997, 9643.75),\n",
              " Tree node '' (0x7effcb0be85): (0.32054, 9649.5),\n",
              " Tree node '' (0x7effcb0be95): (0.35811, 9645.625),\n",
              " Tree node 'GCA_003288815|k__Bacteria|p__Proteobacteria|c__Epsilonproteobacteria|o__Campylobacterales|f__Helicobacteraceae|g__Helicobacter|s__Helicobacter_sp_16_1353' (0x7effcb0bef9): (0.42913999999999997,\n",
              "  9639),\n",
              " Tree node 'GCA_003364295|k__Bacteria|p__Proteobacteria|c__Epsilonproteobacteria|o__Campylobacterales|f__Helicobacteraceae|g__Helicobacter|s__Helicobacter_sp_MIT_99_5507' (0x7effcb0befd): (0.43926999999999994,\n",
              "  9638),\n",
              " Tree node 'GCA_003364125|k__Bacteria|p__Proteobacteria|c__Epsilonproteobacteria|o__Campylobacterales|f__Helicobacteraceae|g__Helicobacter|s__Helicobacter_sp_MIT_14_3879' (0x7effcb0beed): (0.43857999999999997,\n",
              "  9640),\n",
              " Tree node '' (0x7effcb0bef1): (0.38833, 9638.5),\n",
              " Tree node 'GCA_003364205|k__Bacteria|p__Proteobacteria|c__Epsilonproteobacteria|o__Campylobacterales|f__Helicobacteraceae|g__Helicobacter|s__Helicobacter_brantae' (0x7effcb0c535): (0.45087,\n",
              "  9636),\n",
              " Tree node 'GCA_003364215|k__Bacteria|p__Proteobacteria|c__Epsilonproteobacteria|o__Campylobacterales|f__Helicobacteraceae|g__Helicobacter|s__Helicobacter_cholecystus' (0x7effcb0c539): (0.44223,\n",
              "  9635),\n",
              " Tree node 'GCA_001693335|k__Bacteria|p__Proteobacteria|c__Epsilonproteobacteria|o__Campylobacterales|f__Helicobacteraceae|g__Helicobacter|s__Helicobacter_sp_MIT_01_6242' (0x7effcb0c511): (0.45847,\n",
              "  9637),\n",
              " Tree node '' (0x7effcb0c531): (0.41313, 9635.5),\n",
              " Tree node 'GCA_003288805|k__Bacteria|p__Proteobacteria|c__Epsilonproteobacteria|o__Campylobacterales|f__Helicobacteraceae|g__Helicobacter|s__Helicobacter_sp_10_6591' (0x7effcb0c545): (0.44595,\n",
              "  9634),\n",
              " Tree node 'GCA_003364175|k__Bacteria|p__Proteobacteria|c__Epsilonproteobacteria|o__Campylobacterales|f__Helicobacteraceae|g__Helicobacter|s__Helicobacter_equorum' (0x7effcb0c559): (0.45309,\n",
              "  9633),\n",
              " Tree node 'GCA_000763135|k__Bacteria|p__Proteobacteria|c__Epsilonproteobacteria|o__Campylobacterales|f__Helicobacteraceae|g__Helicobacter|s__Helicobacter_jaachi' (0x7effcb0c581): (0.4490699999999999,\n",
              "  9632),\n",
              " Tree node 'GCA_003364255|k__Bacteria|p__Proteobacteria|c__Epsilonproteobacteria|o__Campylobacterales|f__Helicobacteraceae|g__Helicobacter|s__Helicobacter_marmotae' (0x7effcb0c589): (0.4530199999999999,\n",
              "  9631),\n",
              " Tree node 'GCA_000765825|k__Bacteria|p__Proteobacteria|c__Epsilonproteobacteria|o__Campylobacterales|f__Helicobacteraceae|g__Helicobacter|s__Helicobacter_magdeburgensis' (0x7effcb0c595): (0.46127999999999997,\n",
              "  9630),\n",
              " Tree node 'GCA_003130625|k__Bacteria|p__Proteobacteria|c__Epsilonproteobacteria|o__Campylobacterales|f__Helicobacteraceae|g__Helicobacter|s__Helicobacter_cinaedi' (0x7effcb0c599): (0.46648,\n",
              "  9629),\n",
              " Tree node 'GCA_000007905|k__Bacteria|p__Proteobacteria|c__Epsilonproteobacteria|o__Campylobacterales|f__Helicobacteraceae|g__Helicobacter|s__Helicobacter_hepaticus' (0x7effcb0c5ad): (0.46796,\n",
              "  9627),\n",
              " Tree node 'GCA_001460635|k__Bacteria|p__Proteobacteria|c__Epsilonproteobacteria|o__Campylobacterales|f__Helicobacteraceae|g__Helicobacter|s__Helicobacter_typhlonius' (0x7effcb0c5b1): (0.47752999999999995,\n",
              "  9626),\n",
              " Tree node 'GCA_000762845|k__Bacteria|p__Proteobacteria|c__Epsilonproteobacteria|o__Campylobacterales|f__Helicobacteraceae|g__Helicobacter|s__Helicobacter_japonicus' (0x7effcb0c5a1): (0.45058,\n",
              "  9628),\n",
              " Tree node '' (0x7effcb0c5a9): (0.43187, 9626.5),\n",
              " Tree node '' (0x7effcb0c52d): (0.44608, 9629.5),\n",
              " Tree node '' (0x7effcb0c59d): (0.41312, 9627.25),\n",
              " Tree node '' (0x7effcb0c579): (0.40218, 9631.5),\n",
              " Tree node '' (0x7effcb0c58d): (0.402, 9628.375),\n",
              " Tree node '' (0x7effcb0c51d): (0.39087, 9633.5),\n",
              " Tree node '' (0x7effcb0c55d): (0.39276, 9629.9375),\n",
              " Tree node '' (0x7effcb0c509): (0.38575000000000004, 9636.25),\n",
              " Tree node '' (0x7effcb0c53d): (0.35945000000000005, 9631.71875),\n",
              " Tree node 'GCA_000507865|k__Bacteria|p__Proteobacteria|c__Epsilonproteobacteria|o__Campylobacterales|f__Helicobacteraceae|g__Helicobacter|s__Helicobacter_canis' (0x7effcb0c5e5): (0.45614999999999994,\n",
              "  9623),\n",
              " Tree node 'GCA_900451005|k__Bacteria|p__Proteobacteria|c__Epsilonproteobacteria|o__Campylobacterales|f__Helicobacteraceae|g__Helicobacter|s__Helicobacter_fennelliae' (0x7effcb0c5e9): (0.4630699999999999,\n",
              "  9622),\n",
              " Tree node 'GCA_001677375|k__Bacteria|p__Proteobacteria|c__Epsilonproteobacteria|o__Campylobacterales|f__Helicobacteraceae|g__Helicobacter|s__Helicobacter_sp_CLO_3' (0x7effcb0c5d9): (0.4356899999999999,\n",
              "  9624),\n",
              " Tree node '' (0x7effcb0c5dd): (0.39985999999999994, 9622.5),\n",
              " Tree node 'GCA_000507845|k__Bacteria|p__Proteobacteria|c__Epsilonproteobacteria|o__Campylobacterales|f__Helicobacteraceae|g__Helicobacter|s__Helicobacter_macacae' (0x7effcb0c5c9): (0.42469999999999997,\n",
              "  9625),\n",
              " Tree node '' (0x7effcb0c5d1): (0.39057, 9623.25),\n",
              " Tree node 'GCA_003364335|k__Bacteria|p__Proteobacteria|c__Epsilonproteobacteria|o__Campylobacterales|f__Helicobacteraceae|g__Helicobacter|s__Helicobacter_anseris' (0x7effcb0c5f9): (0.47501999999999994,\n",
              "  9621),\n",
              " Tree node 'GCA_900476215|k__Bacteria|p__Proteobacteria|c__Epsilonproteobacteria|o__Campylobacterales|f__Helicobacteraceae|g__Helicobacter|s__Helicobacter_mustelae' (0x7effcb0c5fd): (0.46947999999999995,\n",
              "  9620),\n",
              " Tree node 'GCA_002272795|k__Bacteria|p__Proteobacteria|c__Epsilonproteobacteria|o__Campylobacterales|f__Helicobacteraceae|g__Helicobacter|s__Helicobacter_sp_13S00482_2' (0x7effcb0c585): (0.45889999999999986,\n",
              "  9618),\n",
              " Tree node 'GCA_002272835|k__Bacteria|p__Proteobacteria|c__Epsilonproteobacteria|o__Campylobacterales|f__Helicobacteraceae|g__Helicobacter|s__Helicobacter_sp_11S03491_1' (0x7effcb0c591): (0.44990999999999987,\n",
              "  9617),\n",
              " Tree node 'GCA_002272825|k__Bacteria|p__Proteobacteria|c__Epsilonproteobacteria|o__Campylobacterales|f__Helicobacteraceae|g__Helicobacter|s__Helicobacter_sp_11S02596_1' (0x7effcb0c5e1): (0.44533,\n",
              "  9615),\n",
              " Tree node 'GCA_002272895|k__Bacteria|p__Proteobacteria|c__Epsilonproteobacteria|o__Campylobacterales|f__Helicobacteraceae|g__Helicobacter|s__Helicobacter_sp_12S02232_10' (0x7effcb0c5ed): (0.44589,\n",
              "  9614),\n",
              " Tree node 'GCA_002272865|k__Bacteria|p__Proteobacteria|c__Epsilonproteobacteria|o__Campylobacterales|f__Helicobacteraceae|g__Helicobacter|s__Helicobacter_sp_12S02634_8' (0x7effcb0c5cd): (0.4411999999999999,\n",
              "  9616),\n",
              " Tree node '' (0x7effcb0c5d5): (0.4227599999999999, 9614.5),\n",
              " Tree node '' (0x7effcb0c57d): (0.41774, 9617.5),\n",
              " Tree node '' (0x7effcb0c5a5): (0.4087, 9615.25),\n",
              " Tree node 'GCA_002272785|k__Bacteria|p__Proteobacteria|c__Epsilonproteobacteria|o__Campylobacterales|f__Helicobacteraceae|g__Helicobacter|s__Helicobacter_sp_13S00477_4' (0x7effcb0c555): (0.43487,\n",
              "  9619),\n",
              " Tree node '' (0x7effcb0c571): (0.40310999999999997, 9616.375),\n",
              " Tree node '' (0x7effcb0c541): (0.40918999999999994, 9620.5),\n",
              " Tree node '' (0x7effcb0c5b9): (0.39381999999999995, 9617.6875),\n",
              " Tree node 'GCA_002272875|k__Bacteria|p__Proteobacteria|c__Epsilonproteobacteria|o__Campylobacterales|f__Helicobacteraceae|g__Helicobacter|s__Helicobacter_sp_11S02629_2' (0x7effcb0c525): (0.50654,\n",
              "  9613),\n",
              " Tree node 'GCA_002272925|k__Bacteria|p__Proteobacteria|c__Epsilonproteobacteria|o__Campylobacterales|f__Helicobacteraceae|g__Helicobacter|s__Helicobacter_sp_13S00401_1' (0x7effcb0c529): (0.5020199999999999,\n",
              "  9612),\n",
              " Tree node 'GCA_003364265|k__Bacteria|p__Proteobacteria|c__Epsilonproteobacteria|o__Campylobacterales|f__Helicobacteraceae|g__Helicobacter|s__Helicobacter_aurati' (0x7effcb0c551): (0.50964,\n",
              "  9611),\n",
              " Tree node 'GCA_900450885|k__Bacteria|p__Proteobacteria|c__Epsilonproteobacteria|o__Campylobacterales|f__Helicobacteraceae|g__Helicobacter|s__Helicobacter_muridarum' (0x7effcb0c561): (0.52647,\n",
              "  9610),\n",
              " Tree node 'GCA_000364285|k__Bacteria|p__Proteobacteria|c__Epsilonproteobacteria|o__Campylobacterales|f__Helicobacteraceae|g__Helicobacter|s__Helicobacter_bilis' (0x7effcb0c575): (0.51224,\n",
              "  9609),\n",
              " Tree node 'GCA_000765905|k__Bacteria|p__Proteobacteria|c__Epsilonproteobacteria|o__Campylobacterales|f__Helicobacteraceae|g__Helicobacter|s__Helicobacter_trogontum' (0x7effcb0c5c1): (0.52383,\n",
              "  9608),\n",
              " Tree node 'GCA_003364195|k__Bacteria|p__Proteobacteria|c__Epsilonproteobacteria|o__Campylobacterales|f__Helicobacteraceae|g__Helicobacter|s__Helicobacter_sp_MIT_17_337' (0x7effcb05909): (0.50831,\n",
              "  9607),\n",
              " Tree node 'GCA_003546705|k__Bacteria|p__Proteobacteria|c__Epsilonproteobacteria|o__Campylobacterales|f__Helicobacteraceae|g__Helicobacter|s__Helicobacter_saguini' (0x7effcb05915): (0.5417,\n",
              "  9606),\n",
              " Tree node '' (0x7effcb0c56d): (0.49567999999999995, 9608.5),\n",
              " Tree node '' (0x7effcb0c5c5): (0.46484999999999993, 9606.5),\n",
              " Tree node '' (0x7effcb0c54d): (0.47381999999999996, 9610.5),\n",
              " Tree node '' (0x7effcb0c565): (0.45226999999999995, 9607.5),\n",
              " Tree node '' (0x7effcb0c521): (0.48608, 9612.5),\n",
              " Tree node '' (0x7effcb0c549): (0.44218, 9609.0),\n",
              " Tree node 'GCA_000009305|k__Bacteria|p__Proteobacteria|c__Epsilonproteobacteria|o__Campylobacterales|f__Helicobacteraceae|g__Helicobacter|s__Helicobacter_acinonychis' (0x7effcb0591d): (0.50531,\n",
              "  9604),\n",
              " Tree node 'GCA_000345845|k__Bacteria|p__Proteobacteria|c__Epsilonproteobacteria|o__Campylobacterales|f__Helicobacteraceae|g__Helicobacter|s__Helicobacter_pylori' (0x7effcb05921): (0.5124299999999999,\n",
              "  9603),\n",
              " Tree node 'GCA_000259275|k__Bacteria|p__Proteobacteria|c__Epsilonproteobacteria|o__Campylobacterales|f__Helicobacteraceae|g__Helicobacter|s__Helicobacter_cetorum' (0x7effcb0590d): (0.52125,\n",
              "  9605),\n",
              " Tree node '' (0x7effcb05911): (0.49720999999999993, 9603.5),\n",
              " Tree node 'GCA_001282985|k__Bacteria|p__Proteobacteria|c__Epsilonproteobacteria|o__Campylobacterales|f__Helicobacteraceae|g__Helicobacter|s__Helicobacter_ailurogastricus' (0x7effcb0594d): (0.56937,\n",
              "  9599),\n",
              " Tree node 'GCA_001283045|k__Bacteria|p__Proteobacteria|c__Epsilonproteobacteria|o__Campylobacterales|f__Helicobacteraceae|g__Helicobacter|s__Helicobacter_heilmannii' (0x7effcb05951): (0.55727,\n",
              "  9598),\n",
              " Tree node 'GCA_000187625|k__Bacteria|p__Proteobacteria|c__Epsilonproteobacteria|o__Campylobacterales|f__Helicobacteraceae|g__Helicobacter|s__Helicobacter_suis' (0x7effcb0593d): (0.56279,\n",
              "  9600),\n",
              " Tree node '' (0x7effcb05945): (0.53212, 9598.5),\n",
              " Tree node 'GCA_000200595|k__Bacteria|p__Proteobacteria|c__Epsilonproteobacteria|o__Campylobacterales|f__Helicobacteraceae|g__Helicobacter|s__Helicobacter_felis' (0x7effcb05935): (0.54724,\n",
              "  9601),\n",
              " Tree node '' (0x7effcb05939): (0.50685, 9599.25),\n",
              " Tree node 'GCA_000263275|k__Bacteria|p__Proteobacteria|c__Epsilonproteobacteria|o__Campylobacterales|f__Helicobacteraceae|g__Helicobacter|s__Helicobacter_bizzozeronii' (0x7effcb05929): (0.55084,\n",
              "  9602),\n",
              " Tree node '' (0x7effcb05931): (0.48783999999999994, 9600.125),\n",
              " Tree node '' (0x7effcb059dd): (0.48513, 9604.25),\n",
              " Tree node '' (0x7effcb05925): (0.47603, 9601.0625),\n",
              " Tree node '' (0x7effcb0c515): (0.40568999999999994, 9610.75),\n",
              " Tree node '' (0x7effcb05985): (0.41300999999999993, 9602.65625),\n",
              " Tree node '' (0x7effcb0c5f5): (0.36514, 9619.09375),\n",
              " Tree node '' (0x7effcb0c50d): (0.36606, 9606.703125),\n",
              " Tree node '' (0x7effcb0c5bd): (0.37449000000000005, 9624.125),\n",
              " Tree node '' (0x7effcb0c5f1): (0.34941000000000005, 9612.8984375),\n",
              " Tree node '' (0x7effcb0c569): (0.33588999999999997, 9633.984375),\n",
              " Tree node '' (0x7effcb0c5b5): (0.33957, 9618.51171875),\n",
              " Tree node '' (0x7effcb0bee9): (0.35634000000000005, 9639.25),\n",
              " Tree node '' (0x7effcb0c505): (0.32780000000000004, 9626.248046875),\n",
              " Tree node '' (0x7effcb0be81): (0.30429, 9647.5625),\n",
              " Tree node '' (0x7effcb0bee5): (0.30898000000000003, 9632.7490234375),\n",
              " Tree node 'GCA_002723485|k__Bacteria|p__Proteobacteria|c__Epsilonproteobacteria|o__Campylobacterales|f__Campylobacteraceae|g__Arcobacter|s__Arcobacter_canalis' (0x7effcb05979): (0.39414,\n",
              "  9595),\n",
              " Tree node 'GCA_002723495|k__Bacteria|p__Proteobacteria|c__Epsilonproteobacteria|o__Campylobacterales|f__Campylobacteraceae|g__Arcobacter|s__Arcobacter_marinus' (0x7effcb05981): (0.3863,\n",
              "  9594),\n",
              " Tree node 'GCA_002837275|k__Bacteria|p__Proteobacteria|c__Epsilonproteobacteria|o__Campylobacterales|f__Campylobacteraceae|g__Arcobacter|s__Arcobacter_halophilus' (0x7effcb05971): (0.37014,\n",
              "  9596),\n",
              " Tree node '' (0x7effcb05975): (0.38330000000000003, 9594.5),\n",
              " Tree node 'GCA_002701265|k__Bacteria|p__Proteobacteria|c__Epsilonproteobacteria|o__Campylobacterales|f__Campylobacteraceae|g__Arcobacter|s__Arcobacter_molluscorum' (0x7effcb05965): (0.38528999999999997,\n",
              "  9597),\n",
              " Tree node '' (0x7effcb0596d): (0.36325999999999997, 9595.25),\n",
              " Tree node 'GCA_000092245|k__Bacteria|p__Proteobacteria|c__Epsilonproteobacteria|o__Campylobacterales|f__Campylobacteraceae|g__Arcobacter|s__Arcobacter_nitrofigilis' (0x7effcb05991): (0.40693999999999997,\n",
              "  9593),\n",
              " Tree node 'GCA_001956695|k__Bacteria|p__Proteobacteria|c__Epsilonproteobacteria|o__Campylobacterales|f__Campylobacteraceae|g__Campylobacteraceae_unclassified|s__Arcobacter_sp_LPB0137' (0x7effcb05995): (0.39783,\n",
              "  9592),\n",
              " Tree node 'GCA_000284235|k__Bacteria|p__Proteobacteria|c__Epsilonproteobacteria|o__Campylobacterales|f__Campylobacteraceae|g__Campylobacteraceae_unclassified|s__Arcobacter_sp_L' (0x7effcb059a9): (0.41713999999999996,\n",
              "  9590),\n",
              " Tree node 'GCA_003241075|k__Bacteria|p__Proteobacteria|c__Epsilonproteobacteria|o__Campylobacterales|f__Campylobacteraceae|g__Arcobacter|s__Arcobacter_butzleri' (0x7effcb059ad): (0.40617,\n",
              "  9589),\n",
              " Tree node 'GCA_001695265|k__Bacteria|p__Proteobacteria|c__Epsilonproteobacteria|o__Campylobacterales|f__Campylobacteraceae|g__Aliiarcobacter|s__Arcobacter_porcinus' (0x7effcb059cd): (0.4734199999999999,\n",
              "  9585),\n",
              " Tree node 'GCA_001695345|k__Bacteria|p__Proteobacteria|c__Epsilonproteobacteria|o__Campylobacterales|f__Campylobacteraceae|g__Arcobacter|s__Arcobacter_thereius' (0x7effcb059d1): (0.4664999999999999,\n",
              "  9584),\n",
              " Tree node 'GCA_003122125|k__Bacteria|p__Proteobacteria|c__Epsilonproteobacteria|o__Campylobacterales|f__Campylobacteraceae|g__Arcobacter|s__Arcobacter_skirrowii' (0x7effcb059c5): (0.44359,\n",
              "  9586),\n",
              " Tree node '' (0x7effcb059c9): (0.45705999999999997, 9584.5),\n",
              " Tree node 'GCA_002992955|k__Bacteria|p__Proteobacteria|c__Epsilonproteobacteria|o__Campylobacterales|f__Campylobacteraceae|g__Arcobacter|s__Arcobacter_cryaerophilus' (0x7effcb059bd): (0.4383899999999999,\n",
              "  9587),\n",
              " Tree node '' (0x7effcb059c1): (0.4220899999999999, 9585.25),\n",
              " Tree node 'GCA_003316735|k__Bacteria|p__Proteobacteria|c__Epsilonproteobacteria|o__Campylobacterales|f__Campylobacteraceae|g__Campylobacteraceae_unclassified|s__Arcobacter_sp_CECT_9188' (0x7effcb059b5): (0.41746,\n",
              "  9588),\n",
              " Tree node '' (0x7effcb059b9): (0.40875999999999996, 9586.125),\n",
              " Tree node '' (0x7effcb059a5): (0.3756899999999999, 9589.5),\n",
              " Tree node '' (0x7effcb059b1): (0.3922999999999999, 9587.0625),\n",
              " Tree node 'GCA_003063245|k__Bacteria|p__Proteobacteria|c__Epsilonproteobacteria|o__Campylobacterales|f__Campylobacteraceae|g__Pseudoarcobacter|s__Pseudoarcobacter_caeni' (0x7effcb0599d): (0.39319,\n",
              "  9591),\n",
              " Tree node '' (0x7effcb059a1): (0.36543, 9588.28125),\n",
              " Tree node '' (0x7effcb0598d): (0.35622999999999994, 9592.5),\n",
              " Tree node '' (0x7effcb05999): (0.35101999999999994, 9589.640625),\n",
              " Tree node '' (0x7effcb05961): (0.34693, 9596.125),\n",
              " Tree node '' (0x7effcb05989): (0.33827, 9591.0703125),\n",
              " Tree node 'GCA_000024885|k__Bacteria|p__Proteobacteria|c__Epsilonproteobacteria|o__Campylobacterales|f__Campylobacteraceae|g__Sulfurospirillum|s__Sulfurospirillum_deleyianum' (0x7effcb059f5): (0.40279,\n",
              "  9581),\n",
              " Tree node 'GCA_000265295|k__Bacteria|p__Proteobacteria|c__Epsilonproteobacteria|o__Campylobacterales|f__Campylobacteraceae|g__Sulfurospirillum|s__Sulfurospirillum_barnesii' (0x7effcb059f9): (0.3931,\n",
              "  9580),\n",
              " Tree node 'GCA_001723605|k__Bacteria|p__Proteobacteria|c__Epsilonproteobacteria|o__Campylobacterales|f__Campylobacteraceae|g__Sulfurospirillum|s__Sulfurospirillum_halorespirans' (0x7effca05c29): (0.3917299999999999,\n",
              "  9577),\n",
              " Tree node 'GCA_002309535|k__Bacteria|p__Proteobacteria|c__Epsilonproteobacteria|o__Campylobacterales|f__Campylobacteraceae|g__Sulfurospirillum|s__Sulfurospirillum_sp_JPD_1' (0x7effca05c31): (0.40706999999999993,\n",
              "  9576),\n",
              " Tree node 'GCA_000568815|k__Bacteria|p__Proteobacteria|c__Epsilonproteobacteria|o__Campylobacterales|f__Campylobacteraceae|g__Sulfurospirillum|s__Sulfurospirillum_multivorans' (0x7effca05c15): (0.39265999999999995,\n",
              "  9578),\n",
              " Tree node '' (0x7effca05c25): (0.38655999999999996, 9576.5),\n",
              " Tree node 'GCA_000743525|k__Bacteria|p__Proteobacteria|c__Epsilonproteobacteria|o__Campylobacterales|f__Campylobacteraceae|g__Sulfurospirillum|s__Sulfurospirillum_sp_SCADC' (0x7effcb05905): (0.38247,\n",
              "  9579),\n",
              " Tree node '' (0x7effca05c11): (0.37501, 9577.25),\n",
              " Tree node '' (0x7effcb059f1): (0.37096000000000007, 9580.5),\n",
              " Tree node '' (0x7effcb059fd): (0.35734000000000005, 9578.125),\n",
              " Tree node 'GCA_001548055|k__Bacteria|p__Proteobacteria|c__Epsilonproteobacteria|o__Campylobacterales|f__Campylobacteraceae|g__Sulfurospirillum|s__Sulfurospirillum_cavolei' (0x7effcb059e9): (0.37837,\n",
              "  9582),\n",
              " Tree node '' (0x7effcb059ed): (0.34242, 9579.3125),\n",
              " Tree node 'GCA_002742765|k__Bacteria|p__Proteobacteria|c__Epsilonproteobacteria|o__Campylobacterales|f__Campylobacteraceae|g__Sulfurospirillum|s__Sulfurospirillum_sp_UBA12182' (0x7effcb059e1): (0.35178,\n",
              "  9583),\n",
              " Tree node '' (0x7effcb059e5): (0.33268, 9580.65625),\n",
              " Tree node 'GCA_001705345|k__Bacteria|p__Proteobacteria|c__Epsilonproteobacteria|o__Campylobacterales|f__Campylobacteraceae|g__Campylobacter|s__Campylobacter_ornithocola' (0x7effca05c4d): (0.42673999999999995,\n",
              "  9575),\n",
              " Tree node 'GCA_001761915|k__Bacteria|p__Proteobacteria|c__Epsilonproteobacteria|o__Campylobacterales|f__Campylobacteraceae|g__Campylobacter|s__Campylobacter_lari' (0x7effca05c55): (0.42750999999999995,\n",
              "  9574),\n",
              " Tree node 'GCA_000816185|k__Bacteria|p__Proteobacteria|c__Epsilonproteobacteria|o__Campylobacterales|f__Campylobacteraceae|g__Campylobacter|s__Campylobacter_insulaenigrae' (0x7effca05c89): (0.45562999999999987,\n",
              "  9570),\n",
              " Tree node 'GCA_000816345|k__Bacteria|p__Proteobacteria|c__Epsilonproteobacteria|o__Campylobacterales|f__Campylobacteraceae|g__Campylobacter|s__Campylobacter_volucris' (0x7effca05c8d): (0.4595699999999999,\n",
              "  9569),\n",
              " Tree node 'GCA_000816785|k__Bacteria|p__Proteobacteria|c__Epsilonproteobacteria|o__Campylobacterales|f__Campylobacteraceae|g__Campylobacter|s__Campylobacter_peloridis' (0x7effca05c75): (0.44863000000000003,\n",
              "  9571),\n",
              " Tree node '' (0x7effca05c81): (0.43218, 9569.5),\n",
              " Tree node 'GCA_000816245|k__Bacteria|p__Proteobacteria|c__Epsilonproteobacteria|o__Campylobacterales|f__Campylobacteraceae|g__Campylobacter|s__Campylobacter_sp_RM16704' (0x7effca05c65): (0.4330999999999999,\n",
              "  9572),\n",
              " Tree node '' (0x7effca05c71): (0.4236499999999999, 9570.25),\n",
              " Tree node 'GCA_000816305|k__Bacteria|p__Proteobacteria|c__Epsilonproteobacteria|o__Campylobacterales|f__Campylobacteraceae|g__Campylobacter|s__Campylobacter_subantarcticus' (0x7effca05c5d): (0.42517,\n",
              "  9573),\n",
              " Tree node '' (0x7effca05c61): (0.41962999999999995, 9571.125),\n",
              " Tree node '' (0x7effca05c45): (0.41567999999999994, 9574.5),\n",
              " Tree node '' (0x7effca05c59): (0.41698999999999997, 9572.0625),\n",
              " Tree node 'GCA_001687475|k__Bacteria|p__Proteobacteria|c__Epsilonproteobacteria|o__Campylobacterales|f__Campylobacteraceae|g__Campylobacter|s__Campylobacter_hepaticus' (0x7effca05cc9): (0.4729399999999999,\n",
              "  9565),\n",
              " Tree node 'GCA_002806025|k__Bacteria|p__Proteobacteria|c__Epsilonproteobacteria|o__Campylobacterales|f__Campylobacteraceae|g__Campylobacter|s__Campylobacter_jejuni' (0x7effca05cd1): (0.4563899999999999,\n",
              "  9564),\n",
              " Tree node 'GCA_002019955|k__Bacteria|p__Proteobacteria|c__Epsilonproteobacteria|o__Campylobacterales|f__Campylobacteraceae|g__Campylobacter|s__Campylobacter_coli' (0x7effca05cbd): (0.4397,\n",
              "  9566),\n",
              " Tree node '' (0x7effca05cc5): (0.43080999999999997, 9564.5),\n",
              " Tree node 'GCA_000185345|k__Bacteria|p__Proteobacteria|c__Epsilonproteobacteria|o__Campylobacterales|f__Campylobacteraceae|g__Campylobacter|s__Campylobacter_upsaliensis' (0x7effca05ce9): (0.46345,\n",
              "  9562),\n",
              " Tree node 'GCA_002080395|k__Bacteria|p__Proteobacteria|c__Epsilonproteobacteria|o__Campylobacterales|f__Campylobacteraceae|g__Campylobacter|s__Campylobacter_helveticus' (0x7effca05cf1): (0.47056,\n",
              "  9561),\n",
              " Tree node 'GCA_000762855|k__Bacteria|p__Proteobacteria|c__Epsilonproteobacteria|o__Campylobacterales|f__Campylobacteraceae|g__Campylobacter|s__Campylobacter_sp_MIT_97_5078' (0x7effca05cdd): (0.48583,\n",
              "  9563),\n",
              " Tree node '' (0x7effca05ce5): (0.45161, 9561.5),\n",
              " Tree node '' (0x7effca05cb5): (0.4174, 9565.25),\n",
              " Tree node '' (0x7effca05cd5): (0.42228, 9562.25),\n",
              " Tree node 'GCA_002104335|k__Bacteria|p__Proteobacteria|c__Epsilonproteobacteria|o__Campylobacterales|f__Campylobacteraceae|g__Campylobacter|s__Campylobacter_cuniculorum' (0x7effca05cad): (0.44884999999999997,\n",
              "  9567),\n",
              " Tree node '' (0x7effca05cb1): (0.40513999999999994, 9563.75),\n",
              " Tree node 'GCA_002238335|k__Bacteria|p__Proteobacteria|c__Epsilonproteobacteria|o__Campylobacterales|f__Campylobacteraceae|g__Campylobacter|s__Campylobacter_avium' (0x7effca05ca1): (0.46286999999999995,\n",
              "  9568),\n",
              " Tree node '' (0x7effca05ca9): (0.39132999999999996, 9565.375),\n",
              " Tree node '' (0x7effca05c3d): (0.40403, 9573.28125),\n",
              " Tree node '' (0x7effca05c99): (0.37839, 9566.6875),\n",
              " Tree node 'GCA_000736415|k__Bacteria|p__Proteobacteria|c__Epsilonproteobacteria|o__Campylobacterales|f__Campylobacteraceae|g__Campylobacter|s__Campylobacter_iguaniorum' (0x7effca05c05): (0.4061199999999999,\n",
              "  9560),\n",
              " Tree node 'GCA_003289475|k__Bacteria|p__Proteobacteria|c__Epsilonproteobacteria|o__Campylobacterales|f__Campylobacteraceae|g__Campylobacter|s__Campylobacter_hyointestinalis' (0x7effca05c09): (0.39847999999999995,\n",
              "  9559),\n",
              " Tree node 'GCA_002139855|k__Bacteria|p__Proteobacteria|c__Epsilonproteobacteria|o__Campylobacterales|f__Campylobacteraceae|g__Campylobacter|s__Campylobacter_sp_RM6137' (0x7effca05c51): (0.44421999999999995,\n",
              "  9557),\n",
              " Tree node 'GCA_900446565|k__Bacteria|p__Proteobacteria|c__Epsilonproteobacteria|o__Campylobacterales|f__Campylobacteraceae|g__Campylobacter|s__Campylobacter_lanienae' (0x7effca05c85): (0.4289299999999999,\n",
              "  9556),\n",
              " Tree node 'GCA_000967135|k__Bacteria|p__Proteobacteria|c__Epsilonproteobacteria|o__Campylobacterales|f__Campylobacteraceae|g__Campylobacter|s__Campylobacter_fetus' (0x7effca05c21): (0.40874999999999995,\n",
              "  9558),\n",
              " Tree node '' (0x7effca05c49): (0.42000999999999994, 9556.5),\n",
              " Tree node '' (0x7effca05c2d): (0.37449, 9559.5),\n",
              " Tree node '' (0x7effca05c0d): (0.37925, 9557.25),\n",
              " Tree node 'GCA_000174175|k__Bacteria|p__Proteobacteria|c__Epsilonproteobacteria|o__Campylobacterales|f__Campylobacteraceae|g__Campylobacter|s__Campylobacter_rectus' (0x7effca05cf5): (0.41524,\n",
              "  9555),\n",
              " Tree node 'GCA_000175655|k__Bacteria|p__Proteobacteria|c__Epsilonproteobacteria|o__Campylobacterales|f__Campylobacteraceae|g__Campylobacter|s__Campylobacter_showae' (0x7effca05c1d): (0.42136999999999997,\n",
              "  9554),\n",
              " Tree node 'GCA_000017465|k__Bacteria|p__Proteobacteria|c__Epsilonproteobacteria|o__Campylobacterales|f__Campylobacteraceae|g__Campylobacter|s__Campylobacter_curvus' (0x7effcb00c0d): (0.43689,\n",
              "  9553),\n",
              " Tree node 'GCA_002114545|k__Bacteria|p__Proteobacteria|c__Epsilonproteobacteria|o__Campylobacterales|f__Campylobacteraceae|g__Campylobacter|s__Campylobacter_concisus' (0x7effcb00c11): (0.42868,\n",
              "  9552),\n",
              " Tree node 'GCA_000705255|k__Bacteria|p__Proteobacteria|c__Epsilonproteobacteria|o__Campylobacterales|f__Campylobacteraceae|g__Campylobacter|s__Campylobacter_mucosalis' (0x7effcb00c19): (0.43916,\n",
              "  9551),\n",
              " Tree node 'GCA_002021945|k__Bacteria|p__Proteobacteria|c__Epsilonproteobacteria|o__Campylobacterales|f__Campylobacteraceae|g__Campylobacter|s__Campylobacter_pinnipediorum' (0x7effcb00c1d): (0.46102,\n",
              "  9550),\n",
              " Tree node '' (0x7effcb00c09): (0.39325, 9552.5),\n",
              " Tree node '' (0x7effcb00c15): (0.39657, 9550.5),\n",
              " Tree node '' (0x7effca05c79): (0.40413, 9554.5),\n",
              " Tree node '' (0x7effcb00c05): (0.37799, 9551.5),\n",
              " Tree node 'GCA_000017585|k__Bacteria|p__Proteobacteria|c__Epsilonproteobacteria|o__Campylobacterales|f__Campylobacteraceae|g__Campylobacter|s__Campylobacter_hominis' (0x7effcb00c29): (0.43667999999999996,\n",
              "  9549),\n",
              " Tree node 'GCA_900446335|k__Bacteria|p__Proteobacteria|c__Epsilonproteobacteria|o__Campylobacterales|f__Campylobacteraceae|g__Campylobacter|s__Campylobacter_gracilis' (0x7effcb00c2d): (0.45665999999999995,\n",
              "  9548),\n",
              " Tree node 'GCA_001190755|k__Bacteria|p__Proteobacteria|c__Epsilonproteobacteria|o__Campylobacterales|f__Campylobacteraceae|g__Campylobacter|s__Campylobacter_ureolyticus' (0x7effcb00c49): (0.48185999999999996,\n",
              "  9545),\n",
              " Tree node 'GCA_003015245|k__Bacteria|p__Proteobacteria|c__Epsilonproteobacteria|o__Campylobacterales|f__Campylobacteraceae|g__Campylobacter|s__Campylobacter_blaseri' (0x7effcb00c4d): (0.46693999999999997,\n",
              "  9544),\n",
              " Tree node 'GCA_900063025|k__Bacteria|p__Proteobacteria|c__Epsilonproteobacteria|o__Campylobacterales|f__Campylobacteraceae|g__Campylobacter|s__Campylobacter_geochelonis' (0x7effcb00c3d): (0.44312999999999997,\n",
              "  9546),\n",
              " Tree node '' (0x7effcb00c45): (0.41888, 9544.5),\n",
              " Tree node 'GCA_900446595|k__Bacteria|p__Proteobacteria|c__Epsilonproteobacteria|o__Campylobacterales|f__Campylobacteraceae|g__Campylobacter|s__Campylobacter_sputorum' (0x7effcb00c35): (0.45820999999999995,\n",
              "  9547),\n",
              " Tree node '' (0x7effcb00c39): (0.39468, 9545.25),\n",
              " Tree node '' (0x7effcb00c25): (0.38008, 9548.5),\n",
              " Tree node '' (0x7effcb00c31): (0.37772999999999995, 9546.125),\n",
              " Tree node '' (0x7effca05cd9): (0.36360000000000003, 9553.0),\n",
              " Tree node '' (0x7effcb00c21): (0.36448, 9547.3125),\n",
              " Tree node '' (0x7effca05cfd): (0.36351, 9558.375),\n",
              " Tree node '' (0x7effca05cc1): (0.34082, 9550.15625),\n",
              " Tree node '' (0x7effca05c39): (0.36745999999999995, 9569.984375),\n",
              " Tree node '' (0x7effca05cf9): (0.32789999999999997, 9554.265625),\n",
              " Tree node '' (0x7effcb059d9): (0.28586, 9581.828125),\n",
              " Tree node '' (0x7effca05c35): (0.30756, 9562.125),\n",
              " Tree node '' (0x7effcb0595d): (0.32372, 9593.59765625),\n",
              " Tree node '' (0x7effcb059d5): (0.26165, 9571.9765625),\n",
              " Tree node '' (0x7effcb0be79): (0.28898999999999997, 9640.15576171875),\n",
              " Tree node '' (0x7effcb05959): (0.24562999999999996, 9582.787109375),\n",
              " Tree node '' (0x7effcb0bef5): (0.24076999999999998, 9659.6171875),\n",
              " Tree node '' (0x7effcb0be75): (0.22915999999999997, 9611.471435546875),\n",
              " Tree node '' (0x7effca0a7d5): (0.22137999999999997, 9671.830078125),\n",
              " Tree node '' (0x7effcb0beb1): (0.21935, 9635.544311523438),\n",
              " Tree node '' (0x7effca0a7c1): (0.25081, 9674.5),\n",
              " Tree node '' (0x7effca0a7d1): (0.20843, 9653.687194824219),\n",
              " Tree node '' (0x7effca0a7a1): (0.23509000000000002, 9677.25),\n",
              " Tree node '' (0x7effca0a7bd): (0.18934, 9664.09359741211),\n",
              " Tree node '' (0x7effca0a771): (0.07936, 9682.0625),\n",
              " Tree node '' (0x7effca0a79d): (0.15317, 9670.671798706055),\n",
              " Tree node '' (0x7effcb04d89): (0.12940000000000002, 9700.8525390625),\n",
              " Tree node '' (0x7effca0a76d): (0.060070000000000005, 9676.367149353027),\n",
              " Tree node '' (0x7effcb08b49): (0.03862, 9728.0390625),\n",
              " Tree node '' (0x7effcb04d85): (0.037950000000000005, 9688.609844207764),\n",
              " Tree node 'GCA_002839445|k__Bacteria|p__Candidatus_Riflebacteria|c__Candidatus_Riflebacteria_unclassified|o__Candidatus_Riflebacteria_unclassified|f__Candidatus_Riflebacteria_unclassified|g__Candidatus_Riflebacteria_unclassified|s__Candidatus_Riflebacteria_bacterium_HGW_Riflebacteria_1' (0x7effcb00c75): (0.27819,\n",
              "  9542),\n",
              " Tree node 'GCA_003327425|k__Bacteria|p__Candidatus_Riflebacteria|c__Candidatus_Ozemobacteria|o__Candidatus_Ozemobacteria_unclassified|f__Candidatus_Ozemobacteraceae|g__Candidatus_Ozemobacter|s__Candidatus_Ozemobacter_sibiricus' (0x7effcb00c79): (0.26463000000000003,\n",
              "  9541),\n",
              " Tree node 'GCA_002838975|k__Bacteria|p__Candidatus_Wallbacteria|c__Candidatus_Wallbacteria_unclassified|o__Candidatus_Wallbacteria_unclassified|f__Candidatus_Wallbacteria_unclassified|g__Candidatus_Wallbacteria_unclassified|s__Candidatus_Wallbacteria_bacterium_HGW_Wallbacteria_1' (0x7effcb00c6d): (0.28184,\n",
              "  9543),\n",
              " Tree node '' (0x7effcb00c71): (0.18880999999999998, 9541.5),\n",
              " Tree node 'GCA_001027545|k__Bacteria|p__Elusimicrobia|c__Endomicrobia|o__Endomicrobiales|f__Endomicrobiaceae|g__Endomicrobium|s__Endomicrobium_proavitum' (0x7effcb00c91): (0.28201,\n",
              "  9539),\n",
              " Tree node 'GCA_001800285|k__Bacteria|p__Elusimicrobia|c__Elusimicrobia_unclassified|o__Elusimicrobia_unclassified|f__Elusimicrobia_unclassified|g__Elusimicrobia_unclassified|s__Elusimicrobia_bacterium_RIFOXYA2_FULL_39_19' (0x7effcb00c95): (0.27786999999999995,\n",
              "  9538),\n",
              " Tree node 'GCA_001800605|k__Bacteria|p__Elusimicrobia|c__Elusimicrobia_unclassified|o__Elusimicrobia_unclassified|f__Elusimicrobia_unclassified|g__Elusimicrobia_unclassified|s__Elusimicrobia_bacterium_RIFOXYD2_FULL_34_15' (0x7effcb00c89): (0.25766,\n",
              "  9540),\n",
              " Tree node '' (0x7effcb00c8d): (0.13623, 9538.5),\n",
              " Tree node 'GCA_000020145|k__Bacteria|p__Elusimicrobia|c__Elusimicrobia|o__Elusimicrobiales|f__Elusimicrobiaceae|g__Elusimicrobium|s__Elusimicrobium_minutum' (0x7effcb00ca5): (0.34736000000000006,\n",
              "  9536),\n",
              " Tree node 'GCA_002159705|k__Bacteria|p__Elusimicrobia|c__Elusimicrobia|o__Elusimicrobiales|f__Elusimicrobiaceae|g__Elusimicrobium|s__Elusimicrobium_sp_An273' (0x7effcb00ca9): (0.31970000000000004,\n",
              "  9535),\n",
              " Tree node 'GCA_002840355|k__Bacteria|p__Elusimicrobia|c__Elusimicrobia_unclassified|o__Elusimicrobia_unclassified|f__Elusimicrobia_unclassified|g__Elusimicrobia_unclassified|s__Elusimicrobia_bacterium_HGW_Elusimicrobia_3' (0x7effcb00c9d): (0.29327000000000003,\n",
              "  9537),\n",
              " Tree node '' (0x7effcb00ca1): (0.24335, 9535.5),\n",
              " Tree node '' (0x7effcb00c85): (0.11531, 9539.25),\n",
              " Tree node '' (0x7effcb00c99): (0.15732000000000002, 9536.25),\n",
              " Tree node '' (0x7effcb00c69): (0.09091, 9542.25),\n",
              " Tree node '' (0x7effcb00c81): (0.08305000000000001, 9537.75),\n",
              " Tree node 'GCA_001829495|k__Bacteria|p__Spirochaetes|c__Spirochaetes_unclassified|o__Spirochaetes_unclassified|f__Spirochaetes_unclassified|g__Spirochaetes_unclassified|s__Spirochaetes_bacterium_RBG_16_49_21' (0x7effcb00cc1): (0.25877000000000006,\n",
              "  9533),\n",
              " Tree node 'GCA_002839375|k__Bacteria|p__Spirochaetes|c__Spirochaetes_unclassified|o__Spirochaetes_unclassified|f__Spirochaetes_unclassified|g__Spirochaetes_unclassified|s__Spirochaetae_bacterium_HGW_Spirochaetae_1' (0x7effcb00cc5): (0.28283,\n",
              "  9532),\n",
              " Tree node 'GCA_002839285|k__Bacteria|p__Spirochaetes|c__Spirochaetes_unclassified|o__Spirochaetes_unclassified|f__Spirochaetes_unclassified|g__Spirochaetes_unclassified|s__Spirochaetae_bacterium_HGW_Spirochaetae_5' (0x7effcb00cb9): (0.28876,\n",
              "  9534),\n",
              " Tree node '' (0x7effcb00cbd): (0.16926, 9532.5),\n",
              " Tree node 'GCA_003114835|k__Bacteria|p__Spirochaetes|c__Spirochaetia|o__Spirochaetia_unclassified|f__Leptospiraceae|g__Leptospira|s__Leptospira_sp_E30' (0x7effcb00cf1): (0.35075999999999996,\n",
              "  9528),\n",
              " Tree node 'GCA_003114855|k__Bacteria|p__Spirochaetes|c__Spirochaetia|o__Spirochaetia_unclassified|f__Leptospiraceae|g__Leptospira|s__Leptospira_sp_YH101' (0x7effcb00cf5): (0.35173,\n",
              "  9527),\n",
              " Tree node 'GCA_002812085|k__Bacteria|p__Spirochaetes|c__Spirochaetia|o__Spirochaetia_unclassified|f__Leptospiraceae|g__Leptospira|s__Leptospira_levettii' (0x7effcb00c51): (0.34702000000000005,\n",
              "  9526),\n",
              " Tree node 'GCA_003114815|k__Bacteria|p__Spirochaetes|c__Spirochaetia|o__Spirochaetia_unclassified|f__Leptospiraceae|g__Leptospira|s__Leptospira_sp_E18' (0x7effcb00cc9): (0.35594000000000003,\n",
              "  9525),\n",
              " Tree node 'GCA_000017605|k__Bacteria|p__Spirochaetes|c__Spirochaetia|o__Spirochaetia_unclassified|f__Leptospiraceae|g__Leptospira|s__Leptospira_biflexa' (0x7effcb0b695): (0.38985000000000003,\n",
              "  9521),\n",
              " Tree node 'GCA_002811945|k__Bacteria|p__Spirochaetes|c__Spirochaetia|o__Spirochaetia_unclassified|f__Leptospiraceae|g__Leptospira|s__Leptospira_harrisiae' (0x7effcb0b699): (0.36447000000000007,\n",
              "  9520),\n",
              " Tree node 'GCA_000304275|k__Bacteria|p__Spirochaetes|c__Spirochaetia|o__Spirochaetia_unclassified|f__Leptospiraceae|g__Leptospira|s__Leptospira_meyeri' (0x7effcb0b681): (0.36641,\n",
              "  9522),\n",
              " Tree node '' (0x7effcb0b685): (0.35323000000000004, 9520.5),\n",
              " Tree node 'GCA_000332495|k__Bacteria|p__Spirochaetes|c__Spirochaetia|o__Spirochaetia_unclassified|f__Leptospiraceae|g__Leptospira|s__Leptospira_terpstrae' (0x7effcb0b611): (0.36554000000000003,\n",
              "  9517),\n",
              " Tree node 'GCA_000332515|k__Bacteria|p__Spirochaetes|c__Spirochaetia|o__Spirochaetia_unclassified|f__Leptospiraceae|g__Leptospira|s__Leptospira_wolbachii' (0x7effcb0b615): (0.38127000000000005,\n",
              "  9516),\n",
              " Tree node 'GCA_000332455|k__Bacteria|p__Spirochaetes|c__Spirochaetia|o__Spirochaetia_unclassified|f__Leptospiraceae|g__Leptospira|s__Leptospira_vanthielii' (0x7effcb0b6f9): (0.36311,\n",
              "  9518),\n",
              " Tree node '' (0x7effcb0b609): (0.36017, 9516.5),\n",
              " Tree node 'GCA_002812125|k__Bacteria|p__Spirochaetes|c__Spirochaetia|o__Spirochaetia_unclassified|f__Leptospiraceae|g__Leptospira|s__Leptospira_brenneri' (0x7effcb0b6e5): (0.35989,\n",
              "  9519),\n",
              " Tree node '' (0x7effcb0b6e9): (0.35155, 9517.25),\n",
              " Tree node '' (0x7effcb0b661): (0.34582, 9521.25),\n",
              " Tree node '' (0x7effcb0b6a5): (0.34506, 9518.125),\n",
              " Tree node 'GCA_000332475|k__Bacteria|p__Spirochaetes|c__Spirochaetia|o__Spirochaetia_unclassified|f__Leptospiraceae|g__Leptospira|s__Leptospira_yanagawae' (0x7effcb0b651): (0.35106,\n",
              "  9523),\n",
              " Tree node '' (0x7effcb0b65d): (0.33913999999999994, 9519.6875),\n",
              " Tree node 'GCA_002811975|k__Bacteria|p__Spirochaetes|c__Spirochaetia|o__Spirochaetia_unclassified|f__Leptospiraceae|g__Leptospira|s__Leptospira_macculloughii' (0x7effcb00c55): (0.33889,\n",
              "  9524),\n",
              " Tree node '' (0x7effcb0b62d): (0.33572, 9521.34375),\n",
              " Tree node '' (0x7effcb00cfd): (0.33949999999999997, 9525.5),\n",
              " Tree node '' (0x7effcb00c41): (0.32847, 9522.671875),\n",
              " Tree node '' (0x7effcb00ced): (0.30538, 9527.5),\n",
              " Tree node '' (0x7effcb00cf9): (0.32356999999999997, 9524.0859375),\n",
              " Tree node 'GCA_002786225|k__Bacteria|p__Spirochaetes|c__Spirochaetia|o__Spirochaetia_unclassified|f__Leptospiraceae|g__Leptospira|s__Leptospira_sp' (0x7effcb00ce5): (0.32804,\n",
              "  9529),\n",
              " Tree node '' (0x7effcb00ce9): (0.29073, 9525.79296875),\n",
              " Tree node 'GCA_000243715|k__Bacteria|p__Spirochaetes|c__Spirochaetia|o__Spirochaetia_unclassified|f__Leptospiraceae|g__Leptospira|s__Leptospira_broomii' (0x7effcb0b63d): (0.33707,\n",
              "  9513),\n",
              " Tree node 'GCA_000306235|k__Bacteria|p__Spirochaetes|c__Spirochaetia|o__Spirochaetia_unclassified|f__Leptospiraceae|g__Leptospira|s__Leptospira_fainei' (0x7effcb0b645): (0.32974,\n",
              "  9512),\n",
              " Tree node 'GCA_001704175|k__Bacteria|p__Spirochaetes|c__Spirochaetia|o__Spirochaetia_unclassified|f__Leptospiraceae|g__Leptospira|s__Leptospira_inadai' (0x7effcb0b635): (0.32283999999999996,\n",
              "  9514),\n",
              " Tree node '' (0x7effcb0b639): (0.31915, 9512.5),\n",
              " Tree node 'GCA_000244715|k__Bacteria|p__Spirochaetes|c__Spirochaetia|o__Spirochaetia_unclassified|f__Leptospiraceae|g__Leptospira|s__Leptospira_licerasiae' (0x7effcb0b66d): (0.34989000000000003,\n",
              "  9510),\n",
              " Tree node 'GCA_000347035|k__Bacteria|p__Spirochaetes|c__Spirochaetia|o__Spirochaetia_unclassified|f__Leptospiraceae|g__Leptospira|s__Leptospira_sp_B5_022' (0x7effcb0b671): (0.33505,\n",
              "  9509),\n",
              " Tree node 'GCA_002811475|k__Bacteria|p__Spirochaetes|c__Spirochaetia|o__Spirochaetia_unclassified|f__Leptospiraceae|g__Leptospira|s__Leptospira_hartskeerlii' (0x7effcb0b689): (0.33116000000000007,\n",
              "  9508),\n",
              " Tree node 'GCA_002811765|k__Bacteria|p__Spirochaetes|c__Spirochaetia|o__Spirochaetia_unclassified|f__Leptospiraceae|g__Leptospira|s__Leptospira_saintgironsiae' (0x7effcb0b68d): (0.33048000000000005,\n",
              "  9507),\n",
              " Tree node 'GCA_002812205|k__Bacteria|p__Spirochaetes|c__Spirochaetia|o__Spirochaetia_unclassified|f__Leptospiraceae|g__Leptospira|s__Leptospira_neocaledonica' (0x7effcb0b6b1): (0.33732,\n",
              "  9505),\n",
              " Tree node 'GCA_003112675|k__Bacteria|p__Spirochaetes|c__Spirochaetia|o__Spirochaetia_unclassified|f__Leptospiraceae|g__Leptospira|s__Leptospira_sp_E8' (0x7effcb0b6b5): (0.34141,\n",
              "  9504),\n",
              " Tree node 'GCA_002812045|k__Bacteria|p__Spirochaetes|c__Spirochaetia|o__Spirochaetia_unclassified|f__Leptospiraceae|g__Leptospira|s__Leptospira_haakeii' (0x7effcb0b6a1): (0.33889,\n",
              "  9506),\n",
              " Tree node '' (0x7effcb0b6ad): (0.33186000000000004, 9504.5),\n",
              " Tree node '' (0x7effcb0b679): (0.32692000000000004, 9507.5),\n",
              " Tree node '' (0x7effcb0b69d): (0.32798000000000005, 9505.25),\n",
              " Tree node '' (0x7effcb0b665): (0.32968, 9509.5),\n",
              " Tree node '' (0x7effcb0b675): (0.32408, 9506.375),\n",
              " Tree node 'GCA_000306115|k__Bacteria|p__Spirochaetes|c__Spirochaetia|o__Spirochaetia_unclassified|f__Leptospiraceae|g__Leptospira|s__Leptospira_wolffii' (0x7effcb0b64d): (0.33291,\n",
              "  9511),\n",
              " Tree node '' (0x7effcb0b659): (0.32055999999999996, 9507.9375),\n",
              " Tree node '' (0x7effcb0b631): (0.3148699999999999, 9513.25),\n",
              " Tree node '' (0x7effcb0b649): (0.3039899999999999, 9509.46875),\n",
              " Tree node 'GCA_002811875|k__Bacteria|p__Spirochaetes|c__Spirochaetia|o__Spirochaetia_unclassified|f__Leptospiraceae|g__Leptospira|s__Leptospira_perolatii' (0x7effcb0b625): (0.31824,\n",
              "  9515),\n",
              " Tree node '' (0x7effcb0b629): (0.29174, 9511.359375),\n",
              " Tree node 'GCA_000243735|k__Bacteria|p__Spirochaetes|c__Spirochaetia|o__Spirochaetia_unclassified|f__Leptospiraceae|g__Leptospira|s__Leptospira_kmetyi' (0x7effcb0b6e1): (0.34077,\n",
              "  9501),\n",
              " Tree node 'GCA_002811925|k__Bacteria|p__Spirochaetes|c__Spirochaetia|o__Spirochaetia_unclassified|f__Leptospiraceae|g__Leptospira|s__Leptospira_barantonii' (0x7effcb0b6ed): (0.32482,\n",
              "  9500),\n",
              " Tree node 'GCA_000243855|k__Bacteria|p__Spirochaetes|c__Spirochaetia|o__Spirochaetia_unclassified|f__Leptospiraceae|g__Leptospira|s__Leptospira_kirschneri' (0x7effcb0b619): (0.33878,\n",
              "  9498),\n",
              " Tree node 'GCA_000347135|k__Bacteria|p__Spirochaetes|c__Spirochaetia|o__Spirochaetia_unclassified|f__Leptospiraceae|g__Leptospira|s__Leptospira_interrogans' (0x7effcb0b641): (0.33899000000000007,\n",
              "  9497),\n",
              " Tree node 'GCA_000243535|k__Bacteria|p__Spirochaetes|c__Spirochaetia|o__Spirochaetia_unclassified|f__Leptospiraceae|g__Leptospira|s__Leptospira_noguchii' (0x7effcb0b605): (0.338,\n",
              "  9499),\n",
              " Tree node '' (0x7effcb0b60d): (0.33264000000000005, 9497.5),\n",
              " Tree node 'GCA_000243815|k__Bacteria|p__Spirochaetes|c__Spirochaetia|o__Spirochaetia_unclassified|f__Leptospiraceae|g__Leptospira|s__Leptospira_alexanderi' (0x7effca07e09): (0.341,\n",
              "  9492),\n",
              " Tree node 'GCA_003429485|k__Bacteria|p__Spirochaetes|c__Spirochaetia|o__Spirochaetia_unclassified|f__Leptospiraceae|g__Leptospira|s__Leptospira_mayottensis' (0x7effca07e0d): (0.35894000000000004,\n",
              "  9491),\n",
              " Tree node 'GCA_000013945|k__Bacteria|p__Spirochaetes|c__Spirochaetia|o__Spirochaetia_unclassified|f__Leptospiraceae|g__Leptospira|s__Leptospira_borgpetersenii' (0x7effcb0b6d9): (0.35112000000000004,\n",
              "  9493),\n",
              " Tree node '' (0x7effcb0b6f5): (0.33544, 9491.5),\n",
              " Tree node 'GCA_000243595|k__Bacteria|p__Spirochaetes|c__Spirochaetia|o__Spirochaetia_unclassified|f__Leptospiraceae|g__Leptospira|s__Leptospira_weilii' (0x7effcb0b6c1): (0.34176,\n",
              "  9494),\n",
              " Tree node '' (0x7effcb0b6cd): (0.33195, 9492.25),\n",
              " Tree node 'GCA_001008325|k__Bacteria|p__Spirochaetes|c__Spirochaetia|o__Spirochaetia_unclassified|f__Leptospiraceae|g__Leptospira|s__Leptospira_santarosai' (0x7effcb0b691): (0.34228000000000003,\n",
              "  9495),\n",
              " Tree node '' (0x7effcb0b6a9): (0.32872, 9493.125),\n",
              " Tree node 'GCA_000332555|k__Bacteria|p__Spirochaetes|c__Spirochaetia|o__Spirochaetia_unclassified|f__Leptospiraceae|g__Leptospira|s__Leptospira_alstonii' (0x7effcb0b669): (0.33722,\n",
              "  9496),\n",
              " Tree node '' (0x7effcb0b67d): (0.32301, 9494.0625),\n",
              " Tree node '' (0x7effcb0b6fd): (0.32512, 9498.25),\n",
              " Tree node '' (0x7effcb0b655): (0.31933, 9495.03125),\n",
              " Tree node '' (0x7effcb0b6dd): (0.31521000000000005, 9500.5),\n",
              " Tree node '' (0x7effcb0b6f1): (0.31400000000000006, 9496.640625),\n",
              " Tree node 'GCA_002811985|k__Bacteria|p__Spirochaetes|c__Spirochaetia|o__Spirochaetia_unclassified|f__Leptospiraceae|g__Leptospira|s__Leptospira_adleri' (0x7effcb0b6d1): (0.32301,\n",
              "  9502),\n",
              " Tree node '' (0x7effcb0b6d5): (0.30787000000000003, 9498.5703125),\n",
              " Tree node 'GCA_002811955|k__Bacteria|p__Spirochaetes|c__Spirochaetia|o__Spirochaetia_unclassified|f__Leptospiraceae|g__Leptospira|s__Leptospira_elllisii' (0x7effcb0b6c5): (0.30464,\n",
              "  9503),\n",
              " Tree node '' (0x7effcb0b6c9): (0.3018, 9500.28515625),\n",
              " Tree node '' (0x7effcb0b621): (0.27771, 9513.1796875),\n",
              " Tree node '' (0x7effcb0b6bd): (0.29149, 9501.642578125),\n",
              " Tree node '' (0x7effcb00ce1): (0.24816000000000002, 9527.396484375),\n",
              " Tree node '' (0x7effcb0b61d): (0.25666, 9507.4111328125),\n",
              " Tree node 'GCA_000243335|k__Bacteria|p__Spirochaetes|c__Spirochaetia|o__Spirochaetia_unclassified|f__Leptospiraceae|g__Leptonema|s__Leptonema_illini' (0x7effcb00cd9): (0.28475,\n",
              "  9530),\n",
              " Tree node '' (0x7effcb00cdd): (0.22363, 9517.40380859375),\n",
              " Tree node 'GCA_000266885|k__Bacteria|p__Spirochaetes|c__Spirochaetia|o__Spirochaetia_unclassified|f__Leptospiraceae|g__Turneriella|s__Turneriella_parva' (0x7effcb00cd1): (0.27978000000000003,\n",
              "  9531),\n",
              " Tree node '' (0x7effcb00cd5): (0.14898, 9523.701904296875),\n",
              " Tree node '' (0x7effcb00cb5): (0.14653, 9533.25),\n",
              " Tree node '' (0x7effcb00ccd): (0.11307, 9527.350952148438),\n",
              " Tree node 'GCA_000092845|k__Bacteria|p__Spirochaetes|c__Spirochaetia|o__Brachyspirales|f__Brachyspiraceae|g__Brachyspira|s__Brachyspira_murdochii' (0x7effca07e3d): (0.30719,\n",
              "  9488),\n",
              " Tree node 'GCA_002379365|k__Bacteria|p__Spirochaetes|c__Spirochaetia|o__Brachyspirales|f__Brachyspiraceae|g__Brachyspira|s__Brachyspira_sp_G79' (0x7effca07e45): (0.318,\n",
              "  9487),\n",
              " Tree node 'GCA_000223215|k__Bacteria|p__Spirochaetes|c__Spirochaetia|o__Brachyspirales|f__Brachyspiraceae|g__Brachyspira|s__Brachyspira_intermedia' (0x7effca07e61): (0.32006,\n",
              "  9484),\n",
              " Tree node 'GCA_001049755|k__Bacteria|p__Spirochaetes|c__Spirochaetia|o__Brachyspirales|f__Brachyspiraceae|g__Brachyspira|s__Brachyspira_suanatina' (0x7effca07e65): (0.31204000000000004,\n",
              "  9483),\n",
              " Tree node 'GCA_001012945|k__Bacteria|p__Spirochaetes|c__Spirochaetia|o__Brachyspirales|f__Brachyspiraceae|g__Brachyspira|s__Brachyspira_hyodysenteriae' (0x7effca07e59): (0.31161,\n",
              "  9485),\n",
              " Tree node '' (0x7effca07e5d): (0.30843000000000004, 9483.5),\n",
              " Tree node 'GCA_000316195|k__Bacteria|p__Spirochaetes|c__Spirochaetia|o__Brachyspirales|f__Brachyspiraceae|g__Brachyspira|s__Brachyspira_hampsonii' (0x7effca07e4d): (0.29953,\n",
              "  9486),\n",
              " Tree node '' (0x7effca07e51): (0.30192, 9484.25),\n",
              " Tree node '' (0x7effca07e35): (0.29795, 9487.5),\n",
              " Tree node '' (0x7effca07e49): (0.29098, 9485.125),\n",
              " Tree node 'GCA_000431595|k__Bacteria|p__Spirochaetes|c__Spirochaetia|o__Brachyspirales|f__Brachyspiraceae|g__Brachyspira|s__Brachyspira_sp_CAG_700' (0x7effca07e25): (0.3133,\n",
              "  9489),\n",
              " Tree node '' (0x7effca07e29): (0.28696, 9486.3125),\n",
              " Tree node 'GCA_000319185|k__Bacteria|p__Spirochaetes|c__Spirochaetia|o__Brachyspirales|f__Brachyspiraceae|g__Brachyspira|s__Brachyspira_pilosicoli' (0x7effca07e1d): (0.29072000000000003,\n",
              "  9490),\n",
              " Tree node '' (0x7effca07e21): (0.27336, 9487.65625),\n",
              " Tree node 'GCA_000512145|k__Bacteria|p__Spirochaetes|c__Spirochaetia|o__Spirochaetales|f__Borreliaceae|g__Borrelia|s__Borrelia_parkeri' (0x7effca07e99): (0.3882,\n",
              "  9480),\n",
              " Tree node 'GCA_003568645|k__Bacteria|p__Spirochaetes|c__Spirochaetia|o__Spirochaetales|f__Borreliaceae|g__Borrelia|s__Borrelia_turicatae' (0x7effca07e9d): (0.38794999999999996,\n",
              "  9479),\n",
              " Tree node 'GCA_001598195|k__Bacteria|p__Spirochaetes|c__Spirochaetia|o__Spirochaetales|f__Borreliaceae|g__Borrelia|s__Borrelia_hermsii' (0x7effca07e8d): (0.39515,\n",
              "  9481),\n",
              " Tree node '' (0x7effca07e95): (0.38403, 9479.5),\n",
              " Tree node 'GCA_000019705|k__Bacteria|p__Spirochaetes|c__Spirochaetia|o__Spirochaetales|f__Borreliaceae|g__Borrelia|s__Borrelia_recurrentis' (0x7effca07ed5): (0.43074,\n",
              "  9474),\n",
              " Tree node 'GCA_000259345|k__Bacteria|p__Spirochaetes|c__Spirochaetia|o__Spirochaetales|f__Borreliaceae|g__Borrelia|s__Borrelia_crocidurae' (0x7effca07ed9): (0.43221,\n",
              "  9473),\n",
              " Tree node 'GCA_000523535|k__Bacteria|p__Spirochaetes|c__Spirochaetia|o__Spirochaetales|f__Borreliaceae|g__Borrelia|s__Borrelia_duttonii' (0x7effca07ec9): (0.4316,\n",
              "  9475),\n",
              " Tree node '' (0x7effca07ed1): (0.42863, 9473.5),\n",
              " Tree node 'GCA_003076595|k__Bacteria|p__Spirochaetes|c__Spirochaetia|o__Spirochaetales|f__Borreliaceae|g__Borreliella|s__Candidatus_Borrelia_tachyglossi' (0x7effca07ec1): (0.41984999999999995,\n",
              "  9476),\n",
              " Tree node '' (0x7effca07ec5): (0.42701999999999996, 9474.25),\n",
              " Tree node 'GCA_000568755|k__Bacteria|p__Spirochaetes|c__Spirochaetia|o__Spirochaetales|f__Borreliaceae|g__Borrelia|s__Borrelia_coriaceae' (0x7effca07eb5): (0.41606000000000004,\n",
              "  9477),\n",
              " Tree node '' (0x7effca07ebd): (0.39281, 9475.125),\n",
              " Tree node 'GCA_000807295|k__Bacteria|p__Spirochaetes|c__Spirochaetia|o__Spirochaetales|f__Borreliaceae|g__Borrelia|s__Borrelia_miyamotoi' (0x7effca07ead): (0.40464,\n",
              "  9478),\n",
              " Tree node '' (0x7effca07eb1): (0.3819, 9476.0625),\n",
              " Tree node '' (0x7effca07e85): (0.37527999999999995, 9480.25),\n",
              " Tree node '' (0x7effca07ea9): (0.37250999999999995, 9477.03125),\n",
              " Tree node 'GCA_000568655|k__Bacteria|p__Spirochaetes|c__Spirochaetia|o__Spirochaetales|f__Borreliaceae|g__Borrelia|s__Borrelia_anserina' (0x7effca07e79): (0.38264000000000004,\n",
              "  9482),\n",
              " Tree node '' (0x7effca07e81): (0.37047, 9478.640625),\n",
              " Tree node 'GCA_000181895|k__Bacteria|p__Spirochaetes|c__Spirochaetia|o__Spirochaetales|f__Borreliaceae|g__Borreliella|s__Borreliella_spielmanii' (0x7effca07e05): (0.41277,\n",
              "  9469),\n",
              " Tree node 'GCA_900099615|k__Bacteria|p__Spirochaetes|c__Spirochaetia|o__Spirochaetales|f__Borreliaceae|g__Borreliella|s__Borreliella_japonica' (0x7effca07e31): (0.41215,\n",
              "  9468),\n",
              " Tree node 'GCA_000170935|k__Bacteria|p__Spirochaetes|c__Spirochaetia|o__Spirochaetales|f__Borreliaceae|g__Borreliella|s__Borreliella_afzelii' (0x7effca07ef9): (0.40051,\n",
              "  9470),\n",
              " Tree node '' (0x7effca07efd): (0.39918, 9468.5),\n",
              " Tree node 'GCA_000181875|k__Bacteria|p__Spirochaetes|c__Spirochaetia|o__Spirochaetales|f__Borreliaceae|g__Borreliella|s__Borreliella_finlandensis' (0x7effca07ea1): (0.41292,\n",
              "  9467),\n",
              " Tree node 'GCA_003367295|k__Bacteria|p__Spirochaetes|c__Spirochaetia|o__Spirochaetales|f__Borreliaceae|g__Borreliella|s__Borreliella_burgdorferi' (0x7effca0f82d): (0.40748,\n",
              "  9466),\n",
              " Tree node 'GCA_000196215|k__Bacteria|p__Spirochaetes|c__Spirochaetia|o__Spirochaetales|f__Borreliaceae|g__Borreliella|s__Borreliella_bavariensis' (0x7effca0f805): (0.4316,\n",
              "  9465),\n",
              " Tree node 'GCA_000714705|k__Bacteria|p__Spirochaetes|c__Spirochaetia|o__Spirochaetales|f__Borreliaceae|g__Borreliella|s__Borreliella_garinii' (0x7effca0f809): (0.42804000000000003,\n",
              "  9464),\n",
              " Tree node 'GCA_000222305|k__Bacteria|p__Spirochaetes|c__Spirochaetia|o__Spirochaetales|f__Borreliaceae|g__Borreliella|s__Borreliella_bissettii' (0x7effca0f811): (0.42725,\n",
              "  9463),\n",
              " Tree node 'GCA_001945665|k__Bacteria|p__Spirochaetes|c__Spirochaetia|o__Spirochaetales|f__Borreliaceae|g__Borreliella|s__Borrelia_mayonii' (0x7effca0f815): (0.41185,\n",
              "  9462),\n",
              " Tree node '' (0x7effca0f891): (0.42763, 9464.5),\n",
              " Tree node '' (0x7effca0f80d): (0.40813, 9462.5),\n",
              " Tree node '' (0x7effca07e89): (0.40521999999999997, 9466.5),\n",
              " Tree node '' (0x7effca0f841): (0.40681999999999996, 9463.5),\n",
              " Tree node '' (0x7effca07ef5): (0.39549, 9469.25),\n",
              " Tree node '' (0x7effca07e39): (0.39998, 9465.0),\n",
              " Tree node 'GCA_000739475|k__Bacteria|p__Spirochaetes|c__Spirochaetia|o__Spirochaetales|f__Borreliaceae|g__Borreliella|s__Borreliella_valaisiana' (0x7effca07eed): (0.39898,\n",
              "  9471),\n",
              " Tree node '' (0x7effca07ef1): (0.39212, 9467.125),\n",
              " Tree node 'GCA_000808095|k__Bacteria|p__Spirochaetes|c__Spirochaetia|o__Spirochaetales|f__Borreliaceae|g__Borreliella|s__Borreliella_chilensis' (0x7effca07ee5): (0.39044,\n",
              "  9472),\n",
              " Tree node '' (0x7effca07ee9): (0.38967, 9469.0625),\n",
              " Tree node '' (0x7effca07e75): (0.36315000000000003, 9480.3203125),\n",
              " Tree node '' (0x7effca07edd): (0.38077, 9470.53125),\n",
              " Tree node 'GCA_002084805|k__Bacteria|p__Spirochaetes|c__Spirochaetia|o__Spirochaetales|f__Spirochaetaceae|g__Spirochaetaceae_unclassified|s__Spirochaetaceae_bacterium_4572_59' (0x7effca0f825): (0.33532000000000006,\n",
              "  9461),\n",
              " Tree node 'GCA_003346715|k__Bacteria|p__Spirochaetes|c__Spirochaetia|o__Spirochaetales|f__Spirochaetaceae|g__Oceanispirochaeta|s__Oceanispirochaeta_sp_M1' (0x7effca0f829): (0.32106000000000007,\n",
              "  9460),\n",
              " Tree node 'GCA_000143985|k__Bacteria|p__Spirochaetes|c__Spirochaetia|o__Spirochaetales|f__Spirochaetaceae|g__Sediminispirochaeta|s__Sediminispirochaeta_smaragdinae' (0x7effca0f845): (0.35787,\n",
              "  9458),\n",
              " Tree node 'GCA_002087085|k__Bacteria|p__Spirochaetes|c__Spirochaetia|o__Spirochaetales|f__Spirochaetaceae|g__Marispirochaeta|s__Marispirochaeta_aestuarii' (0x7effca0f849): (0.34931000000000006,\n",
              "  9457),\n",
              " Tree node 'GCA_000184345|k__Bacteria|p__Spirochaetes|c__Spirochaetia|o__Spirochaetales|f__Spirochaetaceae|g__Spirochaeta|s__Spirochaeta_thermophila' (0x7effca0f839): (0.34709,\n",
              "  9459),\n",
              " Tree node '' (0x7effca0f83d): (0.24888000000000005, 9457.5),\n",
              " Tree node 'GCA_000242595|k__Bacteria|p__Spirochaetes|c__Spirochaetia|o__Spirochaetales|f__Spirochaetaceae|g__Spirochaeta|s__Spirochaeta_africana' (0x7effca0f859): (0.36685999999999996,\n",
              "  9456),\n",
              " Tree node 'GCA_000507245|k__Bacteria|p__Spirochaetes|c__Spirochaetia|o__Spirochaetales|f__Spirochaetaceae|g__Salinispira|s__Salinispira_pacifica' (0x7effca0f85d): (0.36025999999999997,\n",
              "  9455),\n",
              " Tree node 'GCA_002916695|k__Bacteria|p__Spirochaetes|c__Spirochaetia|o__Spirochaetales|f__Spirochaetaceae|g__Alkalispirochaeta|s__Alkalispirochaeta_sphaeroplastigenens' (0x7effca0f865): (0.35711,\n",
              "  9454),\n",
              " Tree node 'GCA_900156105|k__Bacteria|p__Spirochaetes|c__Spirochaetia|o__Spirochaetales|f__Spirochaetaceae|g__Alkalispirochaeta|s__Alkalispirochaeta_americana' (0x7effca0f86d): (0.34525999999999996,\n",
              "  9453),\n",
              " Tree node '' (0x7effca0f851): (0.25552, 9455.5),\n",
              " Tree node '' (0x7effca0f861): (0.32952000000000004, 9453.5),\n",
              " Tree node '' (0x7effca0f835): (0.21481000000000003, 9458.25),\n",
              " Tree node '' (0x7effca0f84d): (0.22366000000000003, 9454.5),\n",
              " Tree node '' (0x7effca0f821): (0.26926000000000005, 9460.5),\n",
              " Tree node '' (0x7effca0f831): (0.19998000000000002, 9456.375),\n",
              " Tree node 'GCA_000214355|k__Bacteria|p__Spirochaetes|c__Spirochaetia|o__Spirochaetales|f__Spirochaetaceae|g__Treponema|s__Treponema_azotonutricium' (0x7effca0f889): (0.3427199999999999,\n",
              "  9450),\n",
              " Tree node 'GCA_000214375|k__Bacteria|p__Spirochaetes|c__Spirochaetia|o__Spirochaetales|f__Spirochaetaceae|g__Treponema|s__Treponema_primitia' (0x7effca0f88d): (0.34485999999999994,\n",
              "  9449),\n",
              " Tree node 'GCA_000219725|k__Bacteria|p__Spirochaetes|c__Spirochaetia|o__Spirochaetales|f__Spirochaetaceae|g__Treponema|s__Treponema_caldarium' (0x7effca0f881): (0.31373000000000006,\n",
              "  9451),\n",
              " Tree node '' (0x7effca0f885): (0.28923000000000004, 9449.5),\n",
              " Tree node 'GCA_002839315|k__Bacteria|p__Spirochaetes|c__Spirochaetes_unclassified|o__Spirochaetes_unclassified|f__Spirochaetes_unclassified|g__Spirochaetes_unclassified|s__Spirochaetae_bacterium_HGW_Spirochaetae_3' (0x7effca0f879): (0.35340000000000005,\n",
              "  9452),\n",
              " Tree node '' (0x7effca0f87d): (0.25445, 9450.25),\n",
              " Tree node 'GCA_000217655|k__Bacteria|p__Spirochaetes|c__Spirochaetia|o__Spirochaetales|f__Spirochaetaceae|g__Treponema|s__Treponema_paraluiscuniculi' (0x7effca0f8a9): (0.42895,\n",
              "  9448),\n",
              " Tree node 'GCA_003076575|k__Bacteria|p__Spirochaetes|c__Spirochaetia|o__Spirochaetales|f__Spirochaetaceae|g__Treponema|s__Treponema_pallidum' (0x7effca0f8ad): (0.42861,\n",
              "  9447),\n",
              " Tree node 'GCA_000340745|k__Bacteria|p__Spirochaetes|c__Spirochaetia|o__Spirochaetales|f__Spirochaetaceae|g__Treponema|s__Treponema_denticola' (0x7effca0f8c9): (0.43272000000000005,\n",
              "  9444),\n",
              " Tree node 'GCA_000755145|k__Bacteria|p__Spirochaetes|c__Spirochaetia|o__Spirochaetales|f__Spirochaetaceae|g__Treponema|s__Treponema_putidum' (0x7effca0f8cd): (0.44173000000000007,\n",
              "  9443),\n",
              " Tree node 'GCA_000447675|k__Bacteria|p__Spirochaetes|c__Spirochaetia|o__Spirochaetales|f__Spirochaetaceae|g__Treponema|s__Treponema_pedis' (0x7effca0f8c1): (0.43554000000000004,\n",
              "  9445),\n",
              " Tree node '' (0x7effca0f8c5): (0.41807000000000005, 9443.5),\n",
              " Tree node 'GCA_000413035|k__Bacteria|p__Spirochaetes|c__Spirochaetia|o__Spirochaetales|f__Spirochaetaceae|g__Treponema|s__Treponema_medium' (0x7effca0f8dd): (0.40796000000000004,\n",
              "  9441),\n",
              " Tree node 'GCA_000775995|k__Bacteria|p__Spirochaetes|c__Spirochaetia|o__Spirochaetales|f__Spirochaetaceae|g__Treponema|s__Treponema_sp_OMZ_838' (0x7effca0f8e5): (0.41259,\n",
              "  9440),\n",
              " Tree node 'GCA_000412995|k__Bacteria|p__Spirochaetes|c__Spirochaetia|o__Spirochaetales|f__Spirochaetaceae|g__Treponema|s__Treponema_vincentii' (0x7effca0f8d5): (0.39696000000000004,\n",
              "  9442),\n",
              " Tree node '' (0x7effca0f8d9): (0.39530000000000004, 9440.5),\n",
              " Tree node '' (0x7effca0f8bd): (0.38824000000000003, 9444.25),\n",
              " Tree node '' (0x7effca0f8d1): (0.37575000000000003, 9441.25),\n",
              " Tree node 'GCA_000944995|k__Bacteria|p__Spirochaetes|c__Spirochaetia|o__Spirochaetales|f__Spirochaetaceae|g__Treponema|s__Treponema_phagedenis' (0x7effca0f8b5): (0.36824999999999997,\n",
              "  9446),\n",
              " Tree node '' (0x7effca0f8b9): (0.32482, 9442.75),\n",
              " Tree node '' (0x7effca0f89d): (0.4274, 9447.5),\n",
              " Tree node '' (0x7effca0f8b1): (0.30637, 9444.375),\n",
              " Tree node 'GCA_000413055|k__Bacteria|p__Spirochaetes|c__Spirochaetia|o__Spirochaetales|f__Spirochaetaceae|g__Treponema|s__Treponema_maltophilum' (0x7effca0f8fd): (0.39847999999999995,\n",
              "  9438),\n",
              " Tree node 'GCA_000468055|k__Bacteria|p__Spirochaetes|c__Spirochaetia|o__Spirochaetales|f__Spirochaetaceae|g__Treponema|s__Treponema_lecithinolyticum' (0x7effca0b20d): (0.37918999999999997,\n",
              "  9437),\n",
              " Tree node 'GCA_001885315|k__Bacteria|p__Spirochaetes|c__Spirochaetia|o__Spirochaetales|f__Spirochaetaceae|g__Treponema|s__Treponema_sp_CETP13' (0x7effca0f8f1): (0.39324,\n",
              "  9439),\n",
              " Tree node '' (0x7effca0f8f9): (0.33394999999999997, 9437.5),\n",
              " Tree node 'GCA_000255555|k__Bacteria|p__Spirochaetes|c__Spirochaetia|o__Spirochaetales|f__Spirochaetaceae|g__Treponema|s__Treponema_saccharophilum' (0x7effca0b259): (0.42461,\n",
              "  9434),\n",
              " Tree node 'GCA_900167025|k__Bacteria|p__Spirochaetes|c__Spirochaetia|o__Spirochaetales|f__Spirochaetaceae|g__Treponema|s__Treponema_berlinense' (0x7effca0b261): (0.44321,\n",
              "  9433),\n",
              " Tree node 'GCA_000260795|k__Bacteria|p__Spirochaetes|c__Spirochaetia|o__Spirochaetales|f__Spirochaetaceae|g__Treponema|s__Treponema_sp_JC4' (0x7effca0b285): (0.43949000000000005,\n",
              "  9430),\n",
              " Tree node 'GCA_900111035|k__Bacteria|p__Spirochaetes|c__Spirochaetia|o__Spirochaetales|f__Spirochaetaceae|g__Treponema|s__Treponema_bryantii' (0x7effca0b289): (0.45847000000000004,\n",
              "  9429),\n",
              " Tree node 'GCA_900167145|k__Bacteria|p__Spirochaetes|c__Spirochaetia|o__Spirochaetales|f__Spirochaetaceae|g__Treponema|s__Treponema_porcinum' (0x7effca0b271): (0.43328,\n",
              "  9431),\n",
              " Tree node '' (0x7effca0b279): (0.39961, 9429.5),\n",
              " Tree node 'GCA_000468115|k__Bacteria|p__Spirochaetes|c__Spirochaetia|o__Spirochaetales|f__Spirochaetaceae|g__Treponema|s__Treponema_socranskii' (0x7effca0b269): (0.42665,\n",
              "  9432),\n",
              " Tree node '' (0x7effca0b26d): (0.37539999999999996, 9430.25),\n",
              " Tree node '' (0x7effca0b23d): (0.36883, 9433.5),\n",
              " Tree node '' (0x7effca0b265): (0.35624999999999996, 9431.125),\n",
              " Tree node 'GCA_000195275|k__Bacteria|p__Spirochaetes|c__Spirochaetia|o__Spirochaetales|f__Spirochaetaceae|g__Treponema|s__Treponema_succinifaciens' (0x7effca0b231): (0.42455,\n",
              "  9435),\n",
              " Tree node '' (0x7effca0b235): (0.34006, 9432.3125),\n",
              " Tree node 'GCA_000212415|k__Bacteria|p__Spirochaetes|c__Spirochaetia|o__Spirochaetales|f__Spirochaetaceae|g__Treponema|s__Treponema_brennaborense' (0x7effca0b21d): (0.36391999999999997,\n",
              "  9436),\n",
              " Tree node '' (0x7effca0b221): (0.32593, 9433.65625),\n",
              " Tree node '' (0x7effca0f8ed): (0.29901, 9438.25),\n",
              " Tree node '' (0x7effca0b211): (0.29671, 9434.828125),\n",
              " Tree node '' (0x7effca0f899): (0.28755000000000003, 9445.9375),\n",
              " Tree node '' (0x7effca0f8e9): (0.27924000000000004, 9436.5390625),\n",
              " Tree node '' (0x7effca0f875): (0.22359, 9451.125),\n",
              " Tree node '' (0x7effca0f895): (0.24552000000000002, 9441.23828125),\n",
              " Tree node '' (0x7effca0f81d): (0.1855, 9458.4375),\n",
              " Tree node '' (0x7effca0f871): (0.19780999999999999, 9446.181640625),\n",
              " Tree node '' (0x7effca07e71): (0.33272, 9475.42578125),\n",
              " Tree node '' (0x7effca0f819): (0.15827, 9452.3095703125),\n",
              " Tree node '' (0x7effca07e15): (0.26123, 9488.828125),\n",
              " Tree node '' (0x7effca07e6d): (0.12711, 9463.86767578125),\n",
              " Tree node '' (0x7effcb00cb1): (0.08106000000000001, 9530.300476074219),\n",
              " Tree node '' (0x7effca07e11): (0.07311000000000001, 9476.347900390625),\n",
              " Tree node '' (0x7effcb00c65): (0.04994, 9540.0),\n",
              " Tree node '' (0x7effcb00cad): (0.052059999999999995, 9503.324188232422),\n",
              " Tree node 'GCA_001771365|k__Bacteria|p__Bacteria_unclassified|c__Bacteria_unclassified|o__Bacteria_unclassified|f__Bacteria_unclassified|g__Bacteria_unclassified|s__candidate_division_WOR_1_bacterium_RIFCSPLOWO2_02_FULL_46_20' (0x7effca0b2a9): (0.22940999999999998,\n",
              "  9427),\n",
              " Tree node 'GCA_002774365|k__Bacteria|p__Bacteria_unclassified|c__Bacteria_unclassified|o__Bacteria_unclassified|f__Bacteria_unclassified|g__Bacteria_unclassified|s__Candidatus_Saganbacteria_bacterium_CG08_land_8_20_14_0_20_45_16' (0x7effca0b2b1): (0.22191,\n",
              "  9426),\n",
              " Tree node 'GCA_001771535|k__Bacteria|p__Bacteria_unclassified|c__Bacteria_unclassified|o__Bacteria_unclassified|f__Bacteria_unclassified|g__Bacteria_unclassified|s__candidate_division_WOR_1_bacterium_RIFOXYB2_FULL_37_13' (0x7effca0b29d): (0.22751,\n",
              "  9428),\n",
              " Tree node '' (0x7effca0b2a1): (0.17279999999999998, 9426.5),\n",
              " Tree node 'GCA_000438175|k__Bacteria|p__Fusobacteria|c__Fusobacteriia|o__Fusobacteriales|f__Fusobacteriaceae|g__Fusobacterium|s__Fusobacterium_sp_CAG_439' (0x7effca0b25d): (0.29377,\n",
              "  9422),\n",
              " Tree node 'GCA_003150395|k__Bacteria|p__Candidatus_Melainabacteria|c__Candidatus_Melainabacteria_unclassified|o__Candidatus_Gastranaerophilales|f__Candidatus_Gastranaerophilales_unclassified|g__Candidatus_Gastranaerophilales_unclassified|s__Candidatus_Gastranaerophilales_bacterium' (0x7effca0b275): (0.26931,\n",
              "  9421),\n",
              " Tree node 'GCA_002103075|k__Bacteria|p__Candidatus_Melainabacteria|c__Candidatus_Melainabacteria_unclassified|o__Candidatus_Gastranaerophilales|f__Candidatus_Gastranaerophilales_unclassified|g__Candidatus_Gastranaerophilales_unclassified|s__Candidatus_Gastranaerophilales_bacterium_HUM_9' (0x7effca0b24d): (0.27838,\n",
              "  9423),\n",
              " Tree node '' (0x7effca0b251): (0.25611, 9421.5),\n",
              " Tree node 'GCA_001784565|k__Bacteria|p__Candidatus_Melainabacteria|c__Candidatus_Melainabacteria_unclassified|o__Candidatus_Melainabacteria_unclassified|f__Candidatus_Melainabacteria_unclassified|g__Candidatus_Melainabacteria_unclassified|s__Candidatus_Melainabacteria_bacterium_GWF2_37_15' (0x7effca0b215): (0.2545,\n",
              "  9424),\n",
              " Tree node '' (0x7effca0b249): (0.22193, 9422.25),\n",
              " Tree node 'GCA_001784555|k__Bacteria|p__Candidatus_Melainabacteria|c__Candidatus_Melainabacteria_unclassified|o__Candidatus_Melainabacteria_unclassified|f__Candidatus_Melainabacteria_unclassified|g__Candidatus_Melainabacteria_unclassified|s__Candidatus_Melainabacteria_bacterium_RIFCSPHIGHO2_02_FULL_34_12' (0x7effca0b2f9): (0.25401,\n",
              "  9425),\n",
              " Tree node '' (0x7effca0b209): (0.1445, 9423.125),\n",
              " Tree node 'GCA_000011385|k__Bacteria|p__Cyanobacteria|c__Gloeobacteria|o__Gloeobacterales|f__Gloeobacteraceae|g__Gloeobacter|s__Gloeobacter_violaceus' (0x7effca0b2a5): (0.2133,\n",
              "  9420),\n",
              " Tree node 'GCA_000484535|k__Bacteria|p__Cyanobacteria|c__Gloeobacteria|o__Gloeobacterales|f__Gloeobacteraceae|g__Gloeobacter|s__Gloeobacter_kilaueensis' (0x7effca0b2ad): (0.2035,\n",
              "  9419),\n",
              " Tree node 'GCA_000013225|k__Bacteria|p__Cyanobacteria|c__Cyanobacteria_unclassified|o__Synechococcales|f__Synechococcaceae|g__Synechococcus|s__Synechococcus_sp_JA_2_3B_a_2_13' (0x7effca0b2c5): (0.2349,\n",
              "  9418),\n",
              " Tree node 'GCA_001870225|k__Bacteria|p__Cyanobacteria|c__Cyanobacteria_unclassified|o__Gloeoemargaritales|f__Gloeomargaritaceae|g__Gloeomargarita|s__Gloeomargarita_lithophora' (0x7effca0b2c9): (0.24833,\n",
              "  9417),\n",
              " Tree node 'GCA_000332215|k__Bacteria|p__Cyanobacteria|c__Cyanobacteria_unclassified|o__Synechococcales|f__Pseudanabaenaceae|g__Pseudanabaena|s__Pseudanabaena_biceps' (0x7effca0fe2d): (0.28602,\n",
              "  9411),\n",
              " Tree node 'GCA_003242085|k__Bacteria|p__Cyanobacteria|c__Cyanobacteria_unclassified|o__Synechococcales|f__Pseudanabaenaceae|g__Pseudanabaena|s__Pseudanabaena_frigida' (0x7effca0fe41): (0.27902,\n",
              "  9410),\n",
              " Tree node 'GCA_002251945|k__Bacteria|p__Cyanobacteria|c__Cyanobacteria_unclassified|o__Synechococcales|f__Pseudanabaenaceae|g__Pseudanabaena|s__Pseudanabaena_sp_SR411' (0x7effca0fe05): (0.27557000000000004,\n",
              "  9412),\n",
              " Tree node '' (0x7effca0fe19): (0.26591000000000004, 9410.5),\n",
              " Tree node 'GCA_001873375|k__Bacteria|p__Cyanobacteria|c__Cyanobacteria_unclassified|o__Oscillatoriales|f__Oscillatoriales_unclassified|g__Oscillatoriales_unclassified|s__Oscillatoriales_cyanobacterium_CG2_30_44_21' (0x7effca0b2b9): (0.27688999999999997,\n",
              "  9413),\n",
              " Tree node '' (0x7effca0b2bd): (0.26021, 9411.25),\n",
              " Tree node 'GCA_003249015|k__Bacteria|p__Cyanobacteria|c__Cyanobacteria_unclassified|o__Synechococcales|f__Pseudanabaenaceae|g__Pseudanabaena|s__Pseudanabaena_sp' (0x7effca0b27d): (0.25873999999999997,\n",
              "  9414),\n",
              " Tree node '' (0x7effca0b281): (0.25379999999999997, 9412.125),\n",
              " Tree node 'GCA_000317085|k__Bacteria|p__Cyanobacteria|c__Cyanobacteria_unclassified|o__Synechococcales|f__Synechococcaceae|g__Synechococcus|s__Synechococcus_sp_PCC_7502' (0x7effca0b2f5): (0.26517,\n",
              "  9415),\n",
              " Tree node '' (0x7effca0b2fd): (0.24599000000000001, 9413.0625),\n",
              " Tree node 'GCA_000317065|k__Bacteria|p__Cyanobacteria|c__Cyanobacteria_unclassified|o__Synechococcales|f__Pseudanabaenaceae|g__Pseudanabaena|s__Pseudanabaena_sp_PCC_7367' (0x7effca0b2e9): (0.24051000000000003,\n",
              "  9416),\n",
              " Tree node '' (0x7effca0b2ed): (0.20226000000000002, 9414.03125),\n",
              " Tree node 'GCA_000011345|k__Bacteria|p__Cyanobacteria|c__Cyanobacteria_unclassified|o__Synechococcales|f__Synechococcaceae|g__Thermosynechococcus|s__Thermosynechococcus_elongatus' (0x7effca0fe0d): (0.27255,\n",
              "  9407),\n",
              " Tree node 'GCA_000505665|k__Bacteria|p__Cyanobacteria|c__Cyanobacteria_unclassified|o__Synechococcales|f__Synechococcaceae|g__Thermosynechococcus|s__Thermosynechococcus_sp_NK55a' (0x7effca0fe11): (0.28599,\n",
              "  9406),\n",
              " Tree node 'GCA_000316685|k__Bacteria|p__Cyanobacteria|c__Cyanobacteria_unclassified|o__Synechococcales|f__Synechococcaceae|g__Synechococcus|s__Synechococcus_sp_PCC_6312' (0x7effca0fecd): (0.26095,\n",
              "  9408),\n",
              " Tree node '' (0x7effca0fee1): (0.25718, 9406.5),\n",
              " Tree node 'GCA_000022045|k__Bacteria|p__Cyanobacteria|c__Cyanobacteria_unclassified|o__Oscillatoriales|f__Cyanothecaceae|g__Cyanothece|s__Cyanothece_sp_PCC_7425' (0x7effca0fea5): (0.24736000000000002,\n",
              "  9409),\n",
              " Tree node '' (0x7effca0feb9): (0.20885, 9407.25),\n",
              " Tree node 'GCA_000011465|k__Bacteria|p__Cyanobacteria|c__Cyanobacteria_unclassified|o__Synechococcales|f__Prochloraceae|g__Prochlorococcus|s__Prochlorococcus_marinus' (0x7effca0fe55): (0.42743,\n",
              "  9401),\n",
              " Tree node 'GCA_000757845|k__Bacteria|p__Cyanobacteria|c__Cyanobacteria_unclassified|o__Synechococcales|f__Prochloraceae|g__Prochlorococcus|s__Prochlorococcus_sp_MIT_0604' (0x7effca0fe5d): (0.41527,\n",
              "  9400),\n",
              " Tree node 'GCA_000757865|k__Bacteria|p__Cyanobacteria|c__Cyanobacteria_unclassified|o__Synechococcales|f__Prochloraceae|g__Prochlorococcus|s__Prochlorococcus_sp_MIT_0801' (0x7effca0fe4d): (0.37658,\n",
              "  9402),\n",
              " Tree node '' (0x7effca0fe51): (0.39205999999999996, 9400.5),\n",
              " Tree node 'GCA_000760175|k__Bacteria|p__Cyanobacteria|c__Cyanobacteria_unclassified|o__Synechococcales|f__Prochloraceae|g__Prochlorococcus|s__Prochlorococcus_sp_MIT_0601' (0x7effca0fe45): (0.35274000000000005,\n",
              "  9403),\n",
              " Tree node '' (0x7effca0fe49): (0.32149000000000005, 9401.25),\n",
              " Tree node 'GCA_000063525|k__Bacteria|p__Cyanobacteria|c__Cyanobacteria_unclassified|o__Synechococcales|f__Synechococcaceae|g__Synechococcus|s__Synechococcus_sp_RCC307' (0x7effca0fe95): (0.3938499999999999,\n",
              "  9397),\n",
              " Tree node 'GCA_002006815|k__Bacteria|p__Cyanobacteria|c__Cyanobacteria_unclassified|o__Synechococcales|f__Synechococcaceae|g__Synechococcus|s__Synechococcus_lacustris' (0x7effca0fe99): (0.38036999999999993,\n",
              "  9396),\n",
              " Tree node 'GCA_002168155|k__Bacteria|p__Cyanobacteria|c__Cyanobacteria_unclassified|o__Synechococcales|f__Synechococcaceae|g__Synechococcus|s__Synechococcus_sp_TMED19' (0x7effca0fe85): (0.3768100000000001,\n",
              "  9398),\n",
              " Tree node '' (0x7effca0fe89): (0.34076000000000006, 9396.5),\n",
              " Tree node 'GCA_003149585|k__Bacteria|p__Cyanobacteria|c__Cyanobacteria_unclassified|o__Synechococcales|f__Synechococcaceae|g__Synechococcus|s__Synechococcus_sp_XM_24' (0x7effca0fe79): (0.34865,\n",
              "  9399),\n",
              " Tree node '' (0x7effca0fe81): (0.33205000000000007, 9397.25),\n",
              " Tree node 'GCA_000153045|k__Bacteria|p__Cyanobacteria|c__Cyanobacteria_unclassified|o__Synechococcales|f__Synechococcaceae|g__Synechococcus|s__Synechococcus_sp_WH_5701' (0x7effca0feb5): (0.35262,\n",
              "  9394),\n",
              " Tree node 'GCA_001885215|k__Bacteria|p__Cyanobacteria|c__Cyanobacteria_unclassified|o__Synechococcales|f__Synechococcaceae|g__Synechococcus|s__Synechococcus_sp_SynAce01' (0x7effca0febd): (0.37255,\n",
              "  9393),\n",
              " Tree node 'GCA_003249045|k__Bacteria|p__Cyanobacteria|c__Cyanobacteria_unclassified|o__Synechococcales|f__Synechococcaceae|g__Cyanobium|s__Cyanobium_sp' (0x7effca0fead): (0.3396,\n",
              "  9395),\n",
              " Tree node '' (0x7effca0feb1): (0.32478, 9393.5),\n",
              " Tree node 'GCA_000155635|k__Bacteria|p__Cyanobacteria|c__Cyanobacteria_unclassified|o__Synechococcales|f__Synechococcaceae|g__Cyanobium|s__Cyanobium_sp_PCC_7001' (0x7effca0fee9): (0.3634199999999999,\n",
              "  9391),\n",
              " Tree node 'GCA_900088535|k__Bacteria|p__Cyanobacteria|c__Cyanobacteria_unclassified|o__Synechococcales|f__Synechococcaceae|g__Cyanobium|s__Cyanobium_sp_NIES_981' (0x7effca0feed): (0.37727999999999995,\n",
              "  9390),\n",
              " Tree node 'GCA_003011885|k__Bacteria|p__Cyanobacteria|c__Cyanobacteria_unclassified|o__Synechococcales|f__Synechococcaceae|g__Cyanobium|s__Cyanobium_usitatum' (0x7effca0fedd): (0.34891999999999995,\n",
              "  9392),\n",
              " Tree node '' (0x7effca0fee5): (0.35289999999999994, 9390.5),\n",
              " Tree node 'GCA_000316515|k__Bacteria|p__Cyanobacteria|c__Cyanobacteria_unclassified|o__Synechococcales|f__Synechococcaceae|g__Cyanobium|s__Cyanobium_gracile' (0x7effca04f05): (0.38114,\n",
              "  9388),\n",
              " Tree node 'GCA_003003925|k__Bacteria|p__Cyanobacteria|c__Cyanobacteria_unclassified|o__Chroococcales|f__Aphanothecaceae|g__Aphanothece|s__Aphanothece_minutissima' (0x7effca04f19): (0.36144999999999994,\n",
              "  9387),\n",
              " Tree node 'GCA_000708525|k__Bacteria|p__Cyanobacteria|c__Cyanobacteria_unclassified|o__Synechococcales|f__Synechococcaceae|g__Cyanobium|s__Cyanobium_sp_CACIAM_14' (0x7effca0fef5): (0.35329999999999995,\n",
              "  9389),\n",
              " Tree node '' (0x7effca0fefd): (0.35652999999999996, 9387.5),\n",
              " Tree node '' (0x7effca0fed5): (0.32655, 9391.25),\n",
              " Tree node '' (0x7effca0fef1): (0.3361, 9388.25),\n",
              " Tree node '' (0x7effca0fea1): (0.31815, 9394.25),\n",
              " Tree node '' (0x7effca0fec1): (0.31989, 9389.75),\n",
              " Tree node '' (0x7effca0fe6d): (0.30882000000000004, 9398.125),\n",
              " Tree node '' (0x7effca0fe9d): (0.30918, 9392.0),\n",
              " Tree node 'GCA_000063505|k__Bacteria|p__Cyanobacteria|c__Cyanobacteria_unclassified|o__Synechococcales|f__Synechococcaceae|g__Synechococcus|s__Synechococcus_sp_WH_7803' (0x7effca04f7d): (0.3658199999999999,\n",
              "  9384),\n",
              " Tree node 'GCA_000153285|k__Bacteria|p__Cyanobacteria|c__Cyanobacteria_unclassified|o__Synechococcales|f__Synechococcaceae|g__Synechococcus|s__Synechococcus_sp_WH_7805' (0x7effca04f91): (0.34954999999999997,\n",
              "  9383),\n",
              " Tree node 'GCA_001632165|k__Bacteria|p__Cyanobacteria|c__Cyanobacteria_unclassified|o__Synechococcales|f__Synechococcaceae|g__Synechococcus|s__Synechococcus_sp_MIT_S9508' (0x7effca04f65): (0.35456,\n",
              "  9385),\n",
              " Tree node '' (0x7effca04f69): (0.33448999999999995, 9383.5),\n",
              " Tree node 'GCA_000014585|k__Bacteria|p__Cyanobacteria|c__Cyanobacteria_unclassified|o__Synechococcales|f__Synechococcaceae|g__Synechococcus|s__Synechococcus_sp_CC9311' (0x7effca04fdd): (0.36517,\n",
              "  9382),\n",
              " Tree node 'GCA_001040845|k__Bacteria|p__Cyanobacteria|c__Cyanobacteria_unclassified|o__Synechococcales|f__Synechococcaceae|g__Synechococcus|s__Synechococcus_sp_WH_8020' (0x7effca04fe1): (0.3629,\n",
              "  9381),\n",
              " Tree node 'GCA_000230675|k__Bacteria|p__Cyanobacteria|c__Cyanobacteria_unclassified|o__Synechococcales|f__Synechococcaceae|g__Synechococcus|s__Synechococcus_sp_WH_8016' (0x7effca04ff1): (0.34791,\n",
              "  9380),\n",
              " Tree node 'GCA_003331785|k__Bacteria|p__Cyanobacteria|c__Cyanobacteria_unclassified|o__Synechococcales|f__Synechococcaceae|g__Synechococcus|s__Synechococcus_sp_MED_G68' (0x7effca04ff5): (0.35309,\n",
              "  9379),\n",
              " Tree node '' (0x7effca04fd5): (0.3439, 9381.5),\n",
              " Tree node '' (0x7effca04fe9): (0.33688, 9379.5),\n",
              " Tree node '' (0x7effca04f5d): (0.32335, 9384.25),\n",
              " Tree node '' (0x7effca04fa5): (0.33253, 9380.5),\n",
              " Tree node 'GCA_000153825|k__Bacteria|p__Cyanobacteria|c__Cyanobacteria_unclassified|o__Synechococcales|f__Synechococcaceae|g__Synechococcus|s__Synechococcus_sp_RS9916' (0x7effca04fb9): (0.34058,\n",
              "  9378),\n",
              " Tree node 'GCA_002698505|k__Bacteria|p__Cyanobacteria|c__Cyanobacteria_unclassified|o__Synechococcales|f__Synechococcaceae|g__Synechococcus|s__Synechococcus_sp_NAT40' (0x7effca04f81): (0.34335,\n",
              "  9377),\n",
              " Tree node 'GCA_000737535|k__Bacteria|p__Cyanobacteria|c__Cyanobacteria_unclassified|o__Synechococcales|f__Synechococcaceae|g__Synechococcus|s__Synechococcus_sp_KORDI_100' (0x7effcb10321): (0.39043,\n",
              "  9374),\n",
              " Tree node 'GCA_000737575|k__Bacteria|p__Cyanobacteria|c__Cyanobacteria_unclassified|o__Synechococcales|f__Synechococcaceae|g__Synechococcus|s__Synechococcus_sp_KORDI_49' (0x7effcb1034d): (0.38567,\n",
              "  9373),\n",
              " Tree node 'GCA_000012625|k__Bacteria|p__Cyanobacteria|c__Cyanobacteria_unclassified|o__Synechococcales|f__Synechococcaceae|g__Synechococcus|s__Synechococcus_sp_CC9605' (0x7effcb10305): (0.40486000000000005,\n",
              "  9371),\n",
              " Tree node 'GCA_000161795|k__Bacteria|p__Cyanobacteria|c__Cyanobacteria_unclassified|o__Synechococcales|f__Synechococcaceae|g__Synechococcus|s__Synechococcus_sp_WH_8109' (0x7effcb10309): (0.38996000000000003,\n",
              "  9370),\n",
              " Tree node 'GCA_000737595|k__Bacteria|p__Cyanobacteria|c__Cyanobacteria_unclassified|o__Synechococcales|f__Synechococcaceae|g__Synechococcus|s__Synechococcus_sp_KORDI_52' (0x7effcb10385): (0.37744,\n",
              "  9372),\n",
              " Tree node '' (0x7effcb103ed): (0.37936000000000003, 9370.5),\n",
              " Tree node '' (0x7effcb1031d): (0.35926, 9373.5),\n",
              " Tree node '' (0x7effcb10351): (0.36602, 9371.25),\n",
              " Tree node 'GCA_000012505|k__Bacteria|p__Cyanobacteria|c__Cyanobacteria_unclassified|o__Synechococcales|f__Synechococcaceae|g__Synechococcus|s__Synechococcus_sp_CC9902' (0x7effca04fbd): (0.35827,\n",
              "  9375),\n",
              " Tree node '' (0x7effca04f31): (0.35219, 9372.375),\n",
              " Tree node 'GCA_000153805|k__Bacteria|p__Cyanobacteria|c__Cyanobacteria_unclassified|o__Synechococcales|f__Synechococcaceae|g__Synechococcus|s__Synechococcus_sp_BL107' (0x7effca04fcd): (0.36103999999999997,\n",
              "  9376),\n",
              " Tree node '' (0x7effca04fb5): (0.33923, 9373.6875),\n",
              " Tree node '' (0x7effca04f15): (0.32421000000000005, 9377.5),\n",
              " Tree node '' (0x7effca04f35): (0.33186000000000004, 9374.84375),\n",
              " Tree node '' (0x7effca04f55): (0.31513, 9382.375),\n",
              " Tree node '' (0x7effca04ff9): (0.31444000000000005, 9376.171875),\n",
              " Tree node 'GCA_000153065|k__Bacteria|p__Cyanobacteria|c__Cyanobacteria_unclassified|o__Synechococcales|f__Synechococcaceae|g__Synechococcus|s__Synechococcus_sp_RS9917' (0x7effca04f41): (0.33537000000000006,\n",
              "  9386),\n",
              " Tree node '' (0x7effca04f49): (0.30782000000000004, 9379.2734375),\n",
              " Tree node '' (0x7effca0fe65): (0.30299000000000004, 9395.0625),\n",
              " Tree node '' (0x7effca04f2d): (0.30293000000000003, 9382.63671875),\n",
              " Tree node '' (0x7effca0fe3d): (0.29396, 9402.125),\n",
              " Tree node '' (0x7effca0fe61): (0.29094, 9388.849609375),\n",
              " Tree node 'GCA_000012525|k__Bacteria|p__Cyanobacteria|c__Cyanobacteria_unclassified|o__Synechococcales|f__Synechococcaceae|g__Synechococcus|s__Synechococcus_elongatus' (0x7effca0fe31): (0.27066,\n",
              "  9404),\n",
              " Tree node '' (0x7effca0fe35): (0.2743, 9395.4873046875),\n",
              " Tree node 'GCA_000341585|k__Bacteria|p__Cyanobacteria|c__Cyanobacteria_unclassified|o__Synechococcales|f__Prochlorotrichaceae|g__Prochlorothrix|s__Prochlorothrix_hollandica' (0x7effca0fe21): (0.24616000000000002,\n",
              "  9405),\n",
              " Tree node '' (0x7effca0fe29): (0.20786000000000002, 9399.74365234375),\n",
              " Tree node '' (0x7effca0fe91): (0.19394999999999996, 9408.125),\n",
              " Tree node '' (0x7effca0fe1d): (0.19217999999999996, 9402.371826171875),\n",
              " Tree node 'GCA_000817745|k__Bacteria|p__Cyanobacteria|c__Cyanobacteria_unclassified|o__Synechococcales|f__Merismopediaceae|g__Aphanocapsa|s__Aphanocapsa_montana' (0x7effcb10319): (0.28789,\n",
              "  9369),\n",
              " Tree node 'GCA_000817775|k__Bacteria|p__Cyanobacteria|c__Cyanobacteria_unclassified|o__Oscillatoriales|f__Oscillatoriaceae|g__Lyngbya|s__Lyngbya_confervoides' (0x7effcb10325): (0.28720999999999997,\n",
              "  9368),\n",
              " Tree node 'GCA_001904775|k__Bacteria|p__Cyanobacteria|c__Cyanobacteria_unclassified|o__Oscillatoriales|f__Oscillatoriaceae|g__Phormidium|s__Phormidium_tenue' (0x7effcb10339): (0.27221,\n",
              "  9366),\n",
              " Tree node 'GCA_003022385|k__Bacteria|p__Cyanobacteria|c__Cyanobacteria_unclassified|o__Cyanobacteria_unclassified|f__Cyanobacteria_unclassified|g__Cyanobacteria_unclassified|s__filamentous_cyanobacterium_CCP3' (0x7effcb1033d): (0.26444,\n",
              "  9365),\n",
              " Tree node 'GCA_003241845|k__Bacteria|p__Cyanobacteria|c__Cyanobacteria_unclassified|o__Synechococcales|f__Leptolyngbyaceae|g__Leptolyngbya|s__Leptolyngbya_antarctica' (0x7effcb10331): (0.25417,\n",
              "  9367),\n",
              " Tree node '' (0x7effcb10335): (0.24375, 9365.5),\n",
              " Tree node 'GCA_000155595|k__Bacteria|p__Cyanobacteria|c__Cyanobacteria_unclassified|o__Synechococcales|f__Synechococcaceae|g__Synechococcus|s__Synechococcus_sp_PCC_7335' (0x7effcb10355): (0.27743,\n",
              "  9364),\n",
              " Tree node 'GCA_003242035|k__Bacteria|p__Cyanobacteria|c__Cyanobacteria_unclassified|o__Synechococcales|f__Leptolyngbyaceae|g__Leptolyngbya|s__Leptolyngbya_foveolarum' (0x7effcb10359): (0.2751,\n",
              "  9363),\n",
              " Tree node 'GCA_000316115|k__Bacteria|p__Cyanobacteria|c__Cyanobacteria_unclassified|o__Synechococcales|f__Leptolyngbyaceae|g__Leptolyngbya|s__Leptolyngbya_sp_PCC_7375' (0x7effcb10361): (0.29581,\n",
              "  9362),\n",
              " Tree node 'GCA_000482245|k__Bacteria|p__Cyanobacteria|c__Cyanobacteria_unclassified|o__Synechococcales|f__Leptolyngbyaceae|g__Leptolyngbya|s__Leptolyngbya_sp_Heron_Island_J' (0x7effcb10365): (0.26635000000000003,\n",
              "  9361),\n",
              " Tree node '' (0x7effcb10349): (0.23451, 9363.5),\n",
              " Tree node '' (0x7effcb1035d): (0.24120999999999998, 9361.5),\n",
              " Tree node '' (0x7effcb1032d): (0.23446, 9366.25),\n",
              " Tree node '' (0x7effcb10345): (0.21189, 9362.5),\n",
              " Tree node '' (0x7effcb10315): (0.26013, 9368.5),\n",
              " Tree node '' (0x7effcb10329): (0.19621, 9364.375),\n",
              " Tree node 'GCA_000018105|k__Bacteria|p__Cyanobacteria|c__Cyanobacteria_unclassified|o__Synechococcales|f__Acaryochloridaceae|g__Acaryochloris|s__Acaryochloris_marina' (0x7effcb10379): (0.29328000000000004,\n",
              "  9359),\n",
              " Tree node 'GCA_003231495|k__Bacteria|p__Cyanobacteria|c__Cyanobacteria_unclassified|o__Synechococcales|f__Acaryochloridaceae|g__Acaryochloris|s__Acaryochloris_sp_RCC1774' (0x7effcb10381): (0.25633,\n",
              "  9358),\n",
              " Tree node 'GCA_001314905|k__Bacteria|p__Cyanobacteria|c__Cyanobacteria_unclassified|o__Oscillatoriales|f__Oscillatoriaceae|g__Phormidium|s__Phormidium_sp_OSCR' (0x7effcb10371): (0.2598,\n",
              "  9360),\n",
              " Tree node '' (0x7effcb10375): (0.21428, 9358.5),\n",
              " Tree node 'GCA_000155555|k__Bacteria|p__Cyanobacteria|c__Cyanobacteria_unclassified|o__Oscillatoriales|f__Coleofasciculaceae|g__Coleofasciculus|s__Coleofasciculus_chthonoplastes' (0x7effcb10395): (0.25127000000000005,\n",
              "  9357),\n",
              " Tree node 'GCA_000317515|k__Bacteria|p__Cyanobacteria|c__Cyanobacteria_unclassified|o__Oscillatoriales|f__Microcoleaceae|g__Microcoleus|s__Microcoleus_sp_PCC_7113' (0x7effcb10399): (0.26609000000000005,\n",
              "  9356),\n",
              " Tree node 'GCA_000317615|k__Bacteria|p__Cyanobacteria|c__Cyanobacteria_unclassified|o__Synechococcales|f__Synechococcaceae|g__Dactylococcopsis|s__Dactylococcopsis_salina' (0x7effcb103c1): (0.30801,\n",
              "  9352),\n",
              " Tree node 'GCA_000317635|k__Bacteria|p__Cyanobacteria|c__Cyanobacteria_unclassified|o__Chroococcales|f__Aphanothecaceae|g__Halothece|s__Halothece_sp_PCC_7418' (0x7effcb103c5): (0.30453,\n",
              "  9351),\n",
              " Tree node 'GCA_003021905|k__Bacteria|p__Cyanobacteria|c__Cyanobacteria_unclassified|o__Cyanobacteria_unclassified|f__Cyanobacteria_unclassified|g__Cyanobacteria_unclassified|s__Cyanobacteria_bacterium_SW_9_44_58' (0x7effcb103b5): (0.28994,\n",
              "  9353),\n",
              " Tree node '' (0x7effcb103bd): (0.27339, 9351.5),\n",
              " Tree node 'GCA_003022125|k__Bacteria|p__Cyanobacteria|c__Cyanobacteria_unclassified|o__Cyanobacteria_unclassified|f__Cyanobacteria_unclassified|g__Cyanobacteria_unclassified|s__Cyanobacteria_bacterium_QS_8_64_29' (0x7effcb103ad): (0.32606,\n",
              "  9354),\n",
              " Tree node '' (0x7effcb103b1): (0.25278, 9352.25),\n",
              " Tree node 'GCA_000473895|k__Bacteria|p__Cyanobacteria|c__Cyanobacteria_unclassified|o__Chroococcales|f__Aphanothecaceae|g__Rubidibacter|s__Rubidibacter_lacunae' (0x7effcb103a5): (0.28576999999999997,\n",
              "  9355),\n",
              " Tree node '' (0x7effcb103a9): (0.23384, 9353.125),\n",
              " Tree node 'GCA_001548095|k__Bacteria|p__Cyanobacteria|c__Cyanobacteria_unclassified|o__Chroococcales|f__Chroococcaceae|g__Geminocystis|s__Geminocystis_sp_NIES_3708' (0x7effcb103e5): (0.32421,\n",
              "  9348),\n",
              " Tree node 'GCA_001548115|k__Bacteria|p__Cyanobacteria|c__Cyanobacteria_unclassified|o__Chroococcales|f__Chroococcaceae|g__Geminocystis|s__Geminocystis_sp_NIES_3709' (0x7effcb103e9): (0.32011,\n",
              "  9347),\n",
              " Tree node 'GCA_000317655|k__Bacteria|p__Cyanobacteria|c__Cyanobacteria_unclassified|o__Chroococcales|f__Cyanobacteriaceae|g__Cyanobacterium|s__Cyanobacterium_stanieri' (0x7effcb103dd): (0.33652999999999994,\n",
              "  9349),\n",
              " Tree node '' (0x7effcb103e1): (0.29764999999999997, 9347.5),\n",
              " Tree node 'GCA_002736005|k__Bacteria|p__Cyanobacteria|c__Cyanobacteria_unclassified|o__Chroococcales|f__Cyanobacteriaceae|g__Cyanobacterium|s__Cyanobacterium_aponinum' (0x7effcb103d5): (0.29385999999999995,\n",
              "  9350),\n",
              " Tree node '' (0x7effcb103d9): (0.27881999999999996, 9348.25),\n",
              " Tree node 'GCA_000316605|k__Bacteria|p__Cyanobacteria|c__Cyanobacteria_unclassified|o__Synechococcales|f__Leptolyngbyaceae|g__Leptolyngbya|s__Leptolyngbya_sp_PCC_7376' (0x7effcb103f9): (0.30407,\n",
              "  9346),\n",
              " Tree node 'GCA_001904615|k__Bacteria|p__Cyanobacteria|c__Cyanobacteria_unclassified|o__Synechococcales|f__Pseudanabaenaceae|g__Limnothrix|s__Limnothrix_rosea' (0x7effcb103fd): (0.28631,\n",
              "  9345),\n",
              " Tree node 'GCA_001693255|k__Bacteria|p__Cyanobacteria|c__Cyanobacteria_unclassified|o__Synechococcales|f__Synechococcaceae|g__Synechococcus|s__Synechococcus_sp_PCC_7003' (0x7effcb0f9f5): (0.29463,\n",
              "  9344),\n",
              " Tree node 'GCA_002356215|k__Bacteria|p__Cyanobacteria|c__Cyanobacteria_unclassified|o__Synechococcales|f__Synechococcaceae|g__Synechococcus|s__Synechococcus_sp_NIES_970' (0x7effcb0f919): (0.30669,\n",
              "  9343),\n",
              " Tree node '' (0x7effcb103f5): (0.2713, 9345.5),\n",
              " Tree node '' (0x7effe92d609): (0.27708, 9343.5),\n",
              " Tree node '' (0x7effcb103d1): (0.26284, 9349.125),\n",
              " Tree node '' (0x7effcb103f1): (0.25543000000000005, 9344.5),\n",
              " Tree node 'GCA_000317575|k__Bacteria|p__Cyanobacteria|c__Cyanobacteria_unclassified|o__Pleurocapsales|f__Dermocarpellaceae|g__Stanieria|s__Stanieria_cyanosphaera' (0x7effcb0f909): (0.30157,\n",
              "  9342),\n",
              " Tree node 'GCA_002355455|k__Bacteria|p__Cyanobacteria|c__Cyanobacteria_unclassified|o__Pleurocapsales|f__Dermocarpellaceae|g__Stanieria|s__Stanieria_sp_NIES_3757' (0x7effcb0f90d): (0.29528000000000004,\n",
              "  9341),\n",
              " Tree node 'GCA_002368355|k__Bacteria|p__Cyanobacteria|c__Cyanobacteria_unclassified|o__Chroococcales|f__Chroococcaceae|g__Chondrocystis|s__Chondrocystis_sp_NIES_4102' (0x7effcb0f925): (0.31572000000000006,\n",
              "  9339),\n",
              " Tree node 'GCA_003003995|k__Bacteria|p__Cyanobacteria|c__Cyanobacteria_unclassified|o__Pleurocapsales|f__Hyellaceae|g__Pleurocapsa|s__Pleurocapsa_sp_CCALA_161' (0x7effcb0f929): (0.30686,\n",
              "  9338),\n",
              " Tree node 'GCA_000332055|k__Bacteria|p__Cyanobacteria|c__Cyanobacteria_unclassified|o__Pleurocapsales|f__Xenococcaceae|g__Xenococcus|s__Xenococcus_sp_PCC_7305' (0x7effcb0f91d): (0.29258,\n",
              "  9340),\n",
              " Tree node '' (0x7effcb0f921): (0.27142, 9338.5),\n",
              " Tree node '' (0x7effcb0f9b9): (0.26829000000000003, 9341.5),\n",
              " Tree node '' (0x7effcb0f911): (0.24481000000000003, 9339.25),\n",
              " Tree node 'GCA_000332035|k__Bacteria|p__Cyanobacteria|c__Cyanobacteria_unclassified|o__Chroococcales|f__Chroococcaceae|g__Gloeocapsa|s__Gloeocapsa_sp_PCC_73106' (0x7effcb0f93d): (0.31257999999999997,\n",
              "  9337),\n",
              " Tree node 'GCA_003007785|k__Bacteria|p__Cyanobacteria|c__Cyanobacteria_unclassified|o__Chroococcales|f__Aphanothecaceae|g__Aphanothece|s__Aphanothece_hegewaldii' (0x7effcb0f945): (0.2924,\n",
              "  9336),\n",
              " Tree node 'GCA_000478825|k__Bacteria|p__Cyanobacteria|c__Cyanobacteria_unclassified|o__Synechococcales|f__Merismopediaceae|g__Synechocystis|s__Synechocystis_sp_PCC_6714' (0x7effcb0f94d): (0.31439,\n",
              "  9335),\n",
              " Tree node 'GCA_003249095|k__Bacteria|p__Cyanobacteria|c__Cyanobacteria_unclassified|o__Synechococcales|f__Coelosphaeriaceae|g__Snowella|s__Snowella_sp' (0x7effcb0f959): (0.2774,\n",
              "  9334),\n",
              " Tree node '' (0x7effcb0f939): (0.24796, 9336.5),\n",
              " Tree node '' (0x7effcb0f949): (0.24506000000000003, 9334.5),\n",
              " Tree node 'GCA_003386495|k__Bacteria|p__Cyanobacteria|c__Cyanobacteria_unclassified|o__Chroococcales|f__Microcystaceae|g__Microcystis|s__Microcystis_wesenbergii' (0x7effcb0f981): (0.29104,\n",
              "  9331),\n",
              " Tree node 'GCA_003389435|k__Bacteria|p__Cyanobacteria|c__Cyanobacteria_unclassified|o__Chroococcales|f__Microcystaceae|g__Microcystis|s__Microcystis_flos_aquae' (0x7effcb0f985): (0.29701000000000005,\n",
              "  9330),\n",
              " Tree node 'GCA_000332585|k__Bacteria|p__Cyanobacteria|c__Cyanobacteria_unclassified|o__Chroococcales|f__Microcystaceae|g__Microcystis|s__Microcystis_aeruginosa' (0x7effcb0f971): (0.29065,\n",
              "  9332),\n",
              " Tree node '' (0x7effcb0f979): (0.28744000000000003, 9330.5),\n",
              " Tree node 'GCA_001264245|k__Bacteria|p__Cyanobacteria|c__Cyanobacteria_unclassified|o__Chroococcales|f__Microcystaceae|g__Microcystis|s__Microcystis_panniformis' (0x7effcb0f965): (0.31134000000000006,\n",
              "  9333),\n",
              " Tree node '' (0x7effcb0f96d): (0.28184000000000003, 9331.25),\n",
              " Tree node 'GCA_000317025|k__Bacteria|p__Cyanobacteria|c__Cyanobacteria_unclassified|o__Pleurocapsales|f__Hyellaceae|g__Pleurocapsa|s__Pleurocapsa_minor' (0x7effcb0f999): (0.32944,\n",
              "  9329),\n",
              " Tree node 'GCA_001904635|k__Bacteria|p__Cyanobacteria|c__Cyanobacteria_unclassified|o__Pleurocapsales|f__Hydrococcaceae|g__Hydrococcus|s__Hydrococcus_rivularis' (0x7effcb0f99d): (0.30174,\n",
              "  9328),\n",
              " Tree node 'GCA_000021825|k__Bacteria|p__Cyanobacteria|c__Cyanobacteria_unclassified|o__Oscillatoriales|f__Cyanothecaceae|g__Cyanothece|s__Cyanothece_sp_PCC_7424' (0x7effcb0f9a9): (0.30489,\n",
              "  9327),\n",
              " Tree node 'GCA_000147335|k__Bacteria|p__Cyanobacteria|c__Cyanobacteria_unclassified|o__Oscillatoriales|f__Cyanothecaceae|g__Cyanothece|s__Cyanothece_sp_PCC_7822' (0x7effcb0f9ad): (0.31582000000000005,\n",
              "  9326),\n",
              " Tree node '' (0x7effcb0f995): (0.29252, 9328.5),\n",
              " Tree node '' (0x7effcb0f9a1): (0.26984, 9326.5),\n",
              " Tree node 'GCA_003448685|k__Bacteria|p__Cyanobacteria|c__Cyanobacteria_unclassified|o__Oscillatoriales|f__Cyanothecaceae|g__Cyanothece|s__Cyanothece_sp_UBA12306' (0x7effcb0f9c1): (0.31087000000000004,\n",
              "  9325),\n",
              " Tree node 'GCA_003574135|k__Bacteria|p__Cyanobacteria|c__Cyanobacteria_unclassified|o__Cyanobacteria_unclassified|f__Cyanobacteria_unclassified|g__Cyanobacteria_unclassified|s__cyanobacterium_endosymbiont_of_Rhopalodia_gibberula' (0x7effcb0f9c5): (0.31739,\n",
              "  9324),\n",
              " Tree node 'GCA_000017845|k__Bacteria|p__Cyanobacteria|c__Cyanobacteria_unclassified|o__Oscillatoriales|f__Cyanothecaceae|g__Cyanothece|s__Cyanothece_sp_ATCC_51142' (0x7effcb0f9e9): (0.3439000000000001,\n",
              "  9321),\n",
              " Tree node 'GCA_000169335|k__Bacteria|p__Cyanobacteria|c__Cyanobacteria_unclassified|o__Oscillatoriales|f__Cyanothecaceae|g__Cyanothece|s__Cyanothece_sp_CCY0110' (0x7effcb0f9ed): (0.3208700000000001,\n",
              "  9320),\n",
              " Tree node 'GCA_001039555|k__Bacteria|p__Cyanobacteria|c__Cyanobacteria_unclassified|o__Chroococcales|f__Aphanothecaceae|g__Crocosphaera|s__Crocosphaera_watsonii' (0x7effcb0f9dd): (0.31437999999999994,\n",
              "  9322),\n",
              " Tree node '' (0x7effcb0f9e5): (0.29830999999999996, 9320.5),\n",
              " Tree node 'GCA_000025125|k__Bacteria|p__Cyanobacteria|c__Cyanobacteria_unclassified|o__Chroococcales|f__Aphanothecaceae|g__Candidatus_Atelocyanobacterium|s__Candidatus_Atelocyanobacterium_thalassa' (0x7effcb0f9d5): (0.36663,\n",
              "  9323),\n",
              " Tree node '' (0x7effcb0f9d9): (0.2828, 9321.25),\n",
              " Tree node '' (0x7effcb0f9b5): (0.27133, 9324.5),\n",
              " Tree node '' (0x7effcb0f9d1): (0.26861, 9322.125),\n",
              " Tree node '' (0x7effcb0f98d): (0.25067000000000006, 9327.5),\n",
              " Tree node '' (0x7effcb0f9b1): (0.25573, 9323.3125),\n",
              " Tree node '' (0x7effcb0f961): (0.27712000000000003, 9332.125),\n",
              " Tree node '' (0x7effcb0f989): (0.24135000000000004, 9325.40625),\n",
              " Tree node '' (0x7effcb0f935): (0.23390000000000002, 9335.5),\n",
              " Tree node '' (0x7effcb0f95d): (0.23354000000000003, 9328.765625),\n",
              " Tree node '' (0x7effcb0f941): (0.23474, 9340.375),\n",
              " Tree node '' (0x7effcb0f931): (0.22793, 9332.1328125),\n",
              " Tree node '' (0x7effcb103cd): (0.22762000000000002, 9346.8125),\n",
              " Tree node '' (0x7effcb0f905): (0.22105, 9336.25390625),\n",
              " Tree node '' (0x7effcb103a1): (0.21994, 9354.0625),\n",
              " Tree node '' (0x7effcb103c9): (0.2172, 9341.533203125),\n",
              " Tree node '' (0x7effcb10391): (0.21105999999999997, 9356.5),\n",
              " Tree node '' (0x7effcb1039d): (0.20720999999999998, 9347.7978515625),\n",
              " Tree node 'GCA_001485215|k__Bacteria|p__Cyanobacteria|c__Cyanobacteria_unclassified|o__Synechococcales|f__Leptolyngbyaceae|g__Leptolyngbya|s__Leptolyngbya_sp_NIES_2104' (0x7effcb02715): (0.31709000000000004,\n",
              "  9315),\n",
              " Tree node 'GCA_001548435|k__Bacteria|p__Cyanobacteria|c__Cyanobacteria_unclassified|o__Synechococcales|f__Leptolyngbyaceae|g__Leptolyngbya|s__Leptolyngbya_sp_NIES_3755' (0x7effcb02719): (0.2997,\n",
              "  9314),\n",
              " Tree node 'GCA_002368255|k__Bacteria|p__Cyanobacteria|c__Cyanobacteria_unclassified|o__Synechococcales|f__Leptolyngbyaceae|g__Leptolyngbya|s__Leptolyngbya_boryana' (0x7effcb0270d): (0.30328,\n",
              "  9316),\n",
              " Tree node '' (0x7effcb02711): (0.27064, 9314.5),\n",
              " Tree node 'GCA_002148405|k__Bacteria|p__Cyanobacteria|c__Cyanobacteria_unclassified|o__Synechococcales|f__Leptolyngbyaceae|g__Alkalinema|s__Alkalinema_sp_CACIAM_70d' (0x7effcb02705): (0.28734,\n",
              "  9317),\n",
              " Tree node '' (0x7effcb02709): (0.25312999999999997, 9315.25),\n",
              " Tree node 'GCA_003242125|k__Bacteria|p__Cyanobacteria|c__Cyanobacteria_unclassified|o__Synechococcales|f__Leptolyngbyaceae|g__Phormidesmis|s__Phormidesmis_priestleyi' (0x7effcb02771): (0.25192,\n",
              "  9318),\n",
              " Tree node '' (0x7effcb02791): (0.23182999999999998, 9316.125),\n",
              " Tree node 'GCA_003003795|k__Bacteria|p__Cyanobacteria|c__Cyanobacteria_unclassified|o__Synechococcales|f__Leptolyngbyaceae|g__Leptolyngbya|s__Leptolyngbya_frigida' (0x7effcb0f97d): (0.25801999999999997,\n",
              "  9319),\n",
              " Tree node '' (0x7effcb027e1): (0.21812999999999996, 9317.0625),\n",
              " Tree node 'GCA_000317045|k__Bacteria|p__Cyanobacteria|c__Cyanobacteria_unclassified|o__Oscillatoriales|f__Coleofasciculaceae|g__Geitlerinema|s__Geitlerinema_sp_PCC_7407' (0x7effcb02735): (0.28421,\n",
              "  9311),\n",
              " Tree node 'GCA_002075285|k__Bacteria|p__Cyanobacteria|c__Cyanobacteria_unclassified|o__Synechococcales|f__Prochlorotrichaceae|g__Halomicronema|s__Halomicronema_hongdechloris' (0x7effcb02739): (0.31160000000000004,\n",
              "  9310),\n",
              " Tree node 'GCA_000317105|k__Bacteria|p__Cyanobacteria|c__Cyanobacteria_unclassified|o__Oscillatoriales|f__Oscillatoriaceae|g__Oscillatoria|s__Oscillatoria_acuminata' (0x7effcb02749): (0.30537000000000003,\n",
              "  9308),\n",
              " Tree node 'GCA_001548395|k__Bacteria|p__Cyanobacteria|c__Cyanobacteria_unclassified|o__Synechococcales|f__Leptolyngbyaceae|g__Leptolyngbya|s__Leptolyngbya_sp_O_77' (0x7effcb0274d): (0.31621,\n",
              "  9307),\n",
              " Tree node 'GCA_000309945|k__Bacteria|p__Cyanobacteria|c__Cyanobacteria_unclassified|o__Oscillatoriales|f__Oscillatoriales_unclassified|g__Oscillatoriales_unclassified|s__Oscillatoriales_cyanobacterium_JSC_12' (0x7effcb02741): (0.29257000000000005,\n",
              "  9309),\n",
              " Tree node '' (0x7effcb02745): (0.24493000000000004, 9307.5),\n",
              " Tree node '' (0x7effcb02731): (0.23671000000000003, 9310.5),\n",
              " Tree node '' (0x7effcb0273d): (0.23447000000000004, 9308.25),\n",
              " Tree node 'GCA_003003615|k__Bacteria|p__Cyanobacteria|c__Cyanobacteria_unclassified|o__Cyanobacteria_unclassified|f__Cyanobacteria_unclassified|g__Cyanobacteria_unclassified|s__filamentous_cyanobacterium_CCP2' (0x7effcb02729): (0.26834,\n",
              "  9312),\n",
              " Tree node '' (0x7effcb0272d): (0.21989000000000003, 9309.375),\n",
              " Tree node 'GCA_001939115|k__Bacteria|p__Cyanobacteria|c__Cyanobacteria_unclassified|o__Synechococcales|f__Leptolyngbyaceae|g__Leptolyngbya|s__Leptolyngbya_sp_hensonii' (0x7effcb02721): (0.25383999999999995,\n",
              "  9313),\n",
              " Tree node '' (0x7effcb02725): (0.21250999999999998, 9310.6875),\n",
              " Tree node '' (0x7effcb0f9fd): (0.21219999999999997, 9318.03125),\n",
              " Tree node '' (0x7effcb0271d): (0.20695999999999998, 9311.84375),\n",
              " Tree node 'GCA_001746915|k__Bacteria|p__Cyanobacteria|c__Cyanobacteria_unclassified|o__Oscillatoriales|f__Desertifilaceae|g__Desertifilum|s__Desertifilum_sp_IPPAS_B_1220' (0x7effcb0275d): (0.26831000000000005,\n",
              "  9306),\n",
              " Tree node 'GCA_001890975|k__Bacteria|p__Cyanobacteria|c__Cyanobacteria_unclassified|o__Oscillatoriales|f__Coleofasciculaceae|g__Roseofilum|s__Roseofilum_reptotaenium' (0x7effcb02761): (0.27224000000000004,\n",
              "  9305),\n",
              " Tree node 'GCA_001942475|k__Bacteria|p__Cyanobacteria|c__Cyanobacteria_unclassified|o__Oscillatoriales|f__Oscillatoriaceae|g__Moorea|s__Moorea_producens' (0x7effcb0278d): (0.33885,\n",
              "  9301),\n",
              " Tree node 'GCA_001942495|k__Bacteria|p__Cyanobacteria|c__Cyanobacteria_unclassified|o__Oscillatoriales|f__Oscillatoriaceae|g__Moorea|s__Moorea_bouillonii' (0x7effcb02795): (0.35266,\n",
              "  9300),\n",
              " Tree node 'GCA_000317495|k__Bacteria|p__Cyanobacteria|c__Cyanobacteria_unclassified|o__Oscillatoriales|f__Gomontiellaceae|g__Crinalium|s__Crinalium_epipsammum' (0x7effcb027ad): (0.32295,\n",
              "  9302),\n",
              " Tree node '' (0x7effcb02789): (0.32077000000000006, 9300.5),\n",
              " Tree node 'GCA_000014265|k__Bacteria|p__Cyanobacteria|c__Cyanobacteria_unclassified|o__Oscillatoriales|f__Microcoleaceae|g__Trichodesmium|s__Trichodesmium_erythraeum' (0x7effcb02781): (0.30754000000000004,\n",
              "  9303),\n",
              " Tree node '' (0x7effcb02785): (0.26785000000000003, 9301.25),\n",
              " Tree node 'GCA_000180455|k__Bacteria|p__Cyanobacteria|c__Cyanobacteria_unclassified|o__Oscillatoriales|f__Microcoleaceae|g__Kamptonema|s__Oscillatoria_sp_PCC_6506' (0x7effcb027a1): (0.28854,\n",
              "  9299),\n",
              " Tree node 'GCA_001698425|k__Bacteria|p__Cyanobacteria|c__Cyanobacteria_unclassified|o__Oscillatoriales|f__Oscillatoriales_unclassified|g__Oscillatoriales_unclassified|s__Oscillatoriales_cyanobacterium_USR001' (0x7effcb027a9): (0.28486,\n",
              "  9298),\n",
              " Tree node 'GCA_000214075|k__Bacteria|p__Cyanobacteria|c__Cyanobacteria_unclassified|o__Oscillatoriales|f__Microcoleaceae|g__Microcoleus|s__Microcoleus_vaginatus' (0x7effcb027bd): (0.2822299999999999,\n",
              "  9297),\n",
              " Tree node 'GCA_000317475|k__Bacteria|p__Cyanobacteria|c__Cyanobacteria_unclassified|o__Oscillatoriales|f__Oscillatoriaceae|g__Oscillatoria|s__Oscillatoria_nigro_viridis' (0x7effcb027c1): (0.3156899999999999,\n",
              "  9296),\n",
              " Tree node 'GCA_002412335|k__Bacteria|p__Cyanobacteria|c__Cyanobacteria_unclassified|o__Oscillatoriales|f__Microcoleaceae|g__Tychonema|s__Tychonema_bourrellyi' (0x7effcb027cd): (0.2930499999999999,\n",
              "  9295),\n",
              " Tree node 'GCA_003003725|k__Bacteria|p__Cyanobacteria|c__Cyanobacteria_unclassified|o__Cyanobacteria_unclassified|f__Cyanobacteria_unclassified|g__Cyanobacteria_unclassified|s__filamentous_cyanobacterium_Phorm_6' (0x7effcb027d1): (0.29140999999999995,\n",
              "  9294),\n",
              " Tree node '' (0x7effcb027b5): (0.27029, 9296.5),\n",
              " Tree node '' (0x7effcb027c9): (0.27352, 9294.5),\n",
              " Tree node '' (0x7effcb0279d): (0.26209, 9298.5),\n",
              " Tree node '' (0x7effcb027b1): (0.2626, 9295.5),\n",
              " Tree node '' (0x7effcb0277d): (0.24242000000000002, 9302.125),\n",
              " Tree node '' (0x7effcb02799): (0.24177, 9297.0),\n",
              " Tree node 'GCA_000173555|k__Bacteria|p__Cyanobacteria|c__Cyanobacteria_unclassified|o__Oscillatoriales|f__Microcoleaceae|g__Arthrospira|s__Arthrospira_maxima' (0x7effcb027dd): (0.28426,\n",
              "  9293),\n",
              " Tree node 'GCA_000210375|k__Bacteria|p__Cyanobacteria|c__Cyanobacteria_unclassified|o__Oscillatoriales|f__Microcoleaceae|g__Arthrospira|s__Arthrospira_platensis' (0x7effcb027e5): (0.30538,\n",
              "  9292),\n",
              " Tree node 'GCA_000169095|k__Bacteria|p__Cyanobacteria|c__Cyanobacteria_unclassified|o__Oscillatoriales|f__Oscillatoriaceae|g__Lyngbya|s__Lyngbya_sp_PCC_8106' (0x7effcb027f1): (0.29661999999999994,\n",
              "  9291),\n",
              " Tree node 'GCA_000478195|k__Bacteria|p__Cyanobacteria|c__Cyanobacteria_unclassified|o__Oscillatoriales|f__Oscillatoriaceae|g__Lyngbya|s__Lyngbya_aestuarii' (0x7effcb027f5): (0.29982,\n",
              "  9290),\n",
              " Tree node 'GCA_000710505|k__Bacteria|p__Cyanobacteria|c__Cyanobacteria_unclassified|o__Oscillatoriales|f__Microcoleaceae|g__Planktothrix|s__Planktothrix_agardhii' (0x7effcaffb39): (0.33571000000000006,\n",
              "  9287),\n",
              " Tree node 'GCA_900009275|k__Bacteria|p__Cyanobacteria|c__Cyanobacteria_unclassified|o__Oscillatoriales|f__Microcoleaceae|g__Planktothrix|s__Planktothrix_rubescens' (0x7effcaffb3d): (0.3152100000000001,\n",
              "  9286),\n",
              " Tree node 'GCA_001873365|k__Bacteria|p__Cyanobacteria|c__Cyanobacteria_unclassified|o__Oscillatoriales|f__Oscillatoriales_unclassified|g__Oscillatoriales_unclassified|s__Oscillatoriales_cyanobacterium_CG2_30_40_61' (0x7effcaffb55): (0.30783,\n",
              "  9284),\n",
              " Tree node 'GCA_900009265|k__Bacteria|p__Cyanobacteria|c__Cyanobacteria_unclassified|o__Oscillatoriales|f__Microcoleaceae|g__Planktothrix|s__Planktothrix_paucivesiculata' (0x7effcaffb69): (0.31401999999999997,\n",
              "  9283),\n",
              " Tree node 'GCA_900009135|k__Bacteria|p__Cyanobacteria|c__Cyanobacteria_unclassified|o__Oscillatoriales|f__Microcoleaceae|g__Planktothrix|s__Planktothrix_sp_PCC_11201' (0x7effcaffb49): (0.3109800000000001,\n",
              "  9285),\n",
              " Tree node '' (0x7effcaffb51): (0.29945000000000005, 9283.5),\n",
              " Tree node '' (0x7effcaffb2d): (0.30019999999999997, 9286.5),\n",
              " Tree node '' (0x7effcaffb41): (0.29463999999999996, 9284.25),\n",
              " Tree node 'GCA_900009145|k__Bacteria|p__Cyanobacteria|c__Cyanobacteria_unclassified|o__Oscillatoriales|f__Microcoleaceae|g__Planktothrix|s__Planktothrix_tepida' (0x7effcaffb05): (0.28276999999999997,\n",
              "  9288),\n",
              " Tree node '' (0x7effcaffb19): (0.28979999999999995, 9285.375),\n",
              " Tree node 'GCA_900010725|k__Bacteria|p__Cyanobacteria|c__Cyanobacteria_unclassified|o__Oscillatoriales|f__Microcoleaceae|g__Planktothrix|s__Planktothrix_serta' (0x7effcb027fd): (0.28136,\n",
              "  9289),\n",
              " Tree node '' (0x7effcb027a5): (0.26944999999999997, 9286.6875),\n",
              " Tree node '' (0x7effcb027ed): (0.28781999999999996, 9290.5),\n",
              " Tree node '' (0x7effcb027f9): (0.26459, 9287.84375),\n",
              " Tree node '' (0x7effcb027d9): (0.26864, 9292.5),\n",
              " Tree node '' (0x7effcb027e9): (0.24449, 9289.171875),\n",
              " Tree node '' (0x7effcb02779): (0.22882000000000005, 9299.5625),\n",
              " Tree node '' (0x7effcb027d5): (0.23494000000000004, 9290.8359375),\n",
              " Tree node 'GCA_001276715|k__Bacteria|p__Cyanobacteria|c__Cyanobacteria_unclassified|o__Oscillatoriales|f__Microcoleaceae|g__Planktothricoides|s__Planktothricoides_sp_SR001' (0x7effcb0276d): (0.26863000000000004,\n",
              "  9304),\n",
              " Tree node '' (0x7effcb02775): (0.21838000000000005, 9295.19921875),\n",
              " ...}"
            ]
          },
          "metadata": {},
          "execution_count": 9
        },
        {
          "output_type": "stream",
          "name": "stderr",
          "text": [
            "findfont: Font family ['Arial'] not found. Falling back to DejaVu Sans.\n"
          ]
        },
        {
          "output_type": "display_data",
          "data": {
            "text/plain": [
              "<Figure size 432x288 with 1 Axes>"
            ],
            "image/png": "[encoded data removed]"
          },
          "metadata": {
            "needs_background": "light"
          }
        }
      ]
    },
    {
      "cell_type": "code",
      "source": [
        ""
      ],
      "metadata": {
        "id": "TZ4hShBA2lco"
      },
      "execution_count": null,
      "outputs": []
    },
    {
      "cell_type": "code",
      "source": [
        "!ls mditre/mditre/tutorials/datasets/processed/brooks"
      ],
      "metadata": {
        "colab": {
          "base_uri": "https://localhost:8080/"
        },
        "id": "VYerWuE5qgGm",
        "outputId": "12141fe8-b791-4a3a-faa7-8df9a49065c2"
      },
      "execution_count": null,
      "outputs": [
        {
          "output_type": "stream",
          "name": "stdout",
          "text": [
            "Brooks_dataset_phylo_new.pickle\n"
          ]
        }
      ]
    },
    {
      "cell_type": "code",
      "source": [
        "import pickle"
      ],
      "metadata": {
        "id": "hcpy9r0VrZ_c"
      },
      "execution_count": null,
      "outputs": []
    },
    {
      "cell_type": "code",
      "source": [
        "!ls mditre/mditre/tutorials/datasets/processed/brooks/"
      ],
      "metadata": {
        "colab": {
          "base_uri": "https://localhost:8080/"
        },
        "id": "PFq661KQrgou",
        "outputId": "84708784-6e89-4c22-9cb8-2135b125c4d7"
      },
      "execution_count": null,
      "outputs": [
        {
          "output_type": "stream",
          "name": "stdout",
          "text": [
            "Brooks_dataset_phylo_new.pickle\n"
          ]
        }
      ]
    },
    {
      "cell_type": "code",
      "source": [
        "brooks_file = \"./mditre/mditre/tutorials/datasets/processed/brooks/Brooks_dataset_phylo_new.pickle\""
      ],
      "metadata": {
        "id": "qybnGKdrsE_J"
      },
      "execution_count": null,
      "outputs": []
    },
    {
      "cell_type": "code",
      "source": [
        "brooks = open(brooks_file, 'rb')"
      ],
      "metadata": {
        "id": "Y1RNYnOFsMMx"
      },
      "execution_count": null,
      "outputs": []
    },
    {
      "cell_type": "code",
      "source": [
        "brooks_data = pickle.load(brooks)"
      ],
      "metadata": {
        "id": "pqve-EQrsQi7"
      },
      "execution_count": null,
      "outputs": []
    },
    {
      "cell_type": "code",
      "source": [
        "type(brooks_data)"
      ],
      "metadata": {
        "colab": {
          "base_uri": "https://localhost:8080/"
        },
        "id": "c5lFyjQDsUtW",
        "outputId": "7fbbccb6-262c-480c-8726-57f1b1feb301"
      },
      "execution_count": null,
      "outputs": [
        {
          "output_type": "execute_result",
          "data": {
            "text/plain": [
              "dict"
            ]
          },
          "metadata": {},
          "execution_count": 6
        }
      ]
    },
    {
      "cell_type": "code",
      "source": [
        "for key in brooks_data:\n",
        "  print(key)\n",
        "  print(type(brooks_data[key]))\n",
        "  print(\"\")"
      ],
      "metadata": {
        "colab": {
          "base_uri": "https://localhost:8080/"
        },
        "id": "z9pODXhpsWWk",
        "outputId": "2777a3a2-5372-4b5c-df94-6e38069bcea9"
      },
      "execution_count": null,
      "outputs": [
        {
          "output_type": "stream",
          "name": "stdout",
          "text": [
            "n_variables\n",
            "<class 'int'>\n",
            "\n",
            "experiment_start\n",
            "<class 'numpy.int64'>\n",
            "\n",
            "experiment_end\n",
            "<class 'numpy.int64'>\n",
            "\n",
            "X\n",
            "<class 'list'>\n",
            "\n",
            "y\n",
            "<class 'numpy.ndarray'>\n",
            "\n",
            "T\n",
            "<class 'list'>\n",
            "\n",
            "variable_tree\n",
            "<class 'ete3.coretype.tree.TreeNode'>\n",
            "\n",
            "variable_names\n",
            "<class 'list'>\n",
            "\n",
            "variable_annotations\n",
            "<class 'dict'>\n",
            "\n",
            "tree_distance\n",
            "<class 'numpy.ndarray'>\n",
            "\n"
          ]
        }
      ]
    },
    {
      "cell_type": "code",
      "source": [
        "brooks_data[\"n_variables\"]"
      ],
      "metadata": {
        "colab": {
          "base_uri": "https://localhost:8080/"
        },
        "id": "TKdzlS1_z_ds",
        "outputId": "6f431784-4905-4e16-b701-3675d5e6ab02"
      },
      "execution_count": null,
      "outputs": [
        {
          "output_type": "execute_result",
          "data": {
            "text/plain": [
              "126"
            ]
          },
          "metadata": {},
          "execution_count": 8
        }
      ]
    },
    {
      "cell_type": "code",
      "source": [
        "brooks_data[\"experiment_start\"]"
      ],
      "metadata": {
        "colab": {
          "base_uri": "https://localhost:8080/"
        },
        "id": "GbQenH0_0Cng",
        "outputId": "f5793092-ed23-4cfb-fa33-4b067649fd4a"
      },
      "execution_count": null,
      "outputs": [
        {
          "output_type": "execute_result",
          "data": {
            "text/plain": [
              "0"
            ]
          },
          "metadata": {},
          "execution_count": 9
        }
      ]
    },
    {
      "cell_type": "code",
      "source": [
        "brooks_data[\"experiment_end\"]"
      ],
      "metadata": {
        "colab": {
          "base_uri": "https://localhost:8080/"
        },
        "id": "fJCJb5HF0Fob",
        "outputId": "a86ee6e8-d283-438f-bc75-5bd0f0a4e95a"
      },
      "execution_count": null,
      "outputs": [
        {
          "output_type": "execute_result",
          "data": {
            "text/plain": [
              "75"
            ]
          },
          "metadata": {},
          "execution_count": 10
        }
      ]
    },
    {
      "cell_type": "code",
      "source": [
        "xdat = brooks_data[\"X\"]"
      ],
      "metadata": {
        "id": "SfVJPIzmeK3D"
      },
      "execution_count": null,
      "outputs": []
    },
    {
      "cell_type": "code",
      "source": [
        "len(xdat)"
      ],
      "metadata": {
        "colab": {
          "base_uri": "https://localhost:8080/"
        },
        "id": "PV-utfPt9oeY",
        "outputId": "1f983964-2682-45a0-9010-17efff8dc4dd"
      },
      "execution_count": null,
      "outputs": [
        {
          "output_type": "execute_result",
          "data": {
            "text/plain": [
              "28"
            ]
          },
          "metadata": {},
          "execution_count": 12
        }
      ]
    },
    {
      "cell_type": "code",
      "source": [
        "xdat[0].shape"
      ],
      "metadata": {
        "colab": {
          "base_uri": "https://localhost:8080/"
        },
        "id": "3RQgrZCseKsp",
        "outputId": "6ea6188f-c990-42be-9381-2c8592354de4"
      },
      "execution_count": null,
      "outputs": [
        {
          "output_type": "execute_result",
          "data": {
            "text/plain": [
              "(126, 13)"
            ]
          },
          "metadata": {},
          "execution_count": 13
        }
      ]
    },
    {
      "cell_type": "code",
      "source": [
        "xdat[1]"
      ],
      "metadata": {
        "colab": {
          "base_uri": "https://localhost:8080/"
        },
        "id": "c-B3FFBrsO8T",
        "outputId": "afd886ce-9eec-43a8-95c8-79381edaa0a5"
      },
      "execution_count": null,
      "outputs": [
        {
          "output_type": "execute_result",
          "data": {
            "text/plain": [
              "array([[0.        , 0.        , 0.        , ..., 0.        , 0.        ,\n",
              "        0.        ],\n",
              "       [0.        , 0.        , 0.        , ..., 0.        , 0.        ,\n",
              "        0.        ],\n",
              "       [0.0001395 , 0.0037609 , 0.0002616 , ..., 0.00884049, 0.00181566,\n",
              "        0.00110933],\n",
              "       ...,\n",
              "       [0.        , 0.        , 0.        , ..., 0.        , 0.        ,\n",
              "        0.        ],\n",
              "       [0.        , 0.        , 0.        , ..., 0.        , 0.        ,\n",
              "        0.        ],\n",
              "       [0.        , 0.        , 0.        , ..., 0.        , 0.        ,\n",
              "        0.        ]], dtype=float32)"
            ]
          },
          "metadata": {},
          "execution_count": 15
        }
      ]
    },
    {
      "cell_type": "code",
      "source": [
        "brooks_data[\"variable_names\"]"
      ],
      "metadata": {
        "colab": {
          "base_uri": "https://localhost:8080/"
        },
        "id": "57ZTyyIjt6Fy",
        "outputId": "8e885d72-9954-4afd-eb78-0bacc38bdaea"
      },
      "execution_count": null,
      "outputs": [
        {
          "output_type": "execute_result",
          "data": {
            "text/plain": [
              "['k__Bacteria|p__Actinobacteria|c__Actinobacteria|o__Corynebacteriales|f__Corynebacteriaceae|g__Corynebacterium|s__Corynebacterium_kroppenstedtii',\n",
              " 'k__Bacteria|p__Actinobacteria|c__Actinobacteria|o__Propionibacteriales|f__Propionibacteriaceae|g__Cutibacterium|s__Cutibacterium_granulosum',\n",
              " 'k__Bacteria|p__Actinobacteria|c__Actinobacteria|o__Propionibacteriales|f__Propionibacteriaceae|g__Cutibacterium|s__Cutibacterium_avidum',\n",
              " 'k__Bacteria|p__Actinobacteria|c__Actinobacteria|o__Propionibacteriales|f__Propionibacteriaceae|g__Cutibacterium|s__Cutibacterium_acnes',\n",
              " 'k__Bacteria|p__Actinobacteria|c__Actinobacteria|o__Micrococcales|f__Dermabacteraceae|g__Dermabacter|s__Dermabacter_hominis',\n",
              " 'k__Bacteria|p__Actinobacteria|c__Actinobacteria|o__Micrococcales|f__Dermabacteraceae|g__Dermabacter|s__Dermabacter_vaginalis',\n",
              " 'k__Bacteria|p__Actinobacteria|c__Actinobacteria|o__Micrococcales|f__Micrococcaceae|g__Rothia|s__Rothia_mucilaginosa',\n",
              " 'k__Bacteria|p__Actinobacteria|c__Actinobacteria|o__Actinomycetales|f__Actinomycetaceae|g__Actinomyces|s__Actinomyces_urogenitalis',\n",
              " 'k__Bacteria|p__Actinobacteria|c__Actinobacteria|o__Actinomycetales|f__Actinomycetaceae|g__Actinomyces|s__Actinomyces_europaeus',\n",
              " 'k__Bacteria|p__Actinobacteria|c__Actinobacteria|o__Actinomycetales|f__Actinomycetaceae|g__Actinomyces|s__Actinomyces_radingae',\n",
              " 'k__Bacteria|p__Actinobacteria|c__Actinobacteria|o__Actinomycetales|f__Actinomycetaceae|g__Actinomyces|s__Actinomyces_turicensis',\n",
              " 'k__Bacteria|p__Actinobacteria|c__Actinobacteria|o__Actinomycetales|f__Actinomycetaceae|g__Actinomyces|s__Actinomyces_sp_oral_taxon_181',\n",
              " 'k__Bacteria|p__Actinobacteria|c__Actinobacteria|o__Actinomycetales|f__Actinomycetaceae|g__Actinomyces|s__Actinomyces_odontolyticus',\n",
              " 'k__Bacteria|p__Actinobacteria|c__Actinobacteria|o__Actinomycetales|f__Actinomycetaceae|g__Varibaculum|s__Varibaculum_cambriense',\n",
              " 'k__Bacteria|p__Actinobacteria|c__Actinobacteria|o__Bifidobacteriales|f__Bifidobacteriaceae|g__Bifidobacterium|s__Bifidobacterium_bifidum',\n",
              " 'k__Bacteria|p__Actinobacteria|c__Actinobacteria|o__Bifidobacteriales|f__Bifidobacteriaceae|g__Bifidobacterium|s__Bifidobacterium_scardovii',\n",
              " 'k__Bacteria|p__Actinobacteria|c__Actinobacteria|o__Bifidobacteriales|f__Bifidobacteriaceae|g__Bifidobacterium|s__Bifidobacterium_dentium',\n",
              " 'k__Bacteria|p__Actinobacteria|c__Actinobacteria|o__Bifidobacteriales|f__Bifidobacteriaceae|g__Bifidobacterium|s__Bifidobacterium_longum',\n",
              " 'k__Bacteria|p__Actinobacteria|c__Actinobacteria|o__Bifidobacteriales|f__Bifidobacteriaceae|g__Bifidobacterium|s__Bifidobacterium_breve',\n",
              " 'k__Bacteria|p__Actinobacteria|c__Coriobacteriia|o__Eggerthellales|f__Eggerthellaceae|g__Eggerthella|s__Eggerthella_lenta',\n",
              " 'k__Bacteria|p__Actinobacteria|c__Coriobacteriia|o__Eggerthellales|f__Eggerthellaceae|g__Gordonibacter|s__Gordonibacter_pamelaeae',\n",
              " 'k__Bacteria|p__Actinobacteria|c__Coriobacteriia|o__Eggerthellales|f__Eggerthellaceae|g__Enterorhabdus|s__Enterorhabdus_caecimuris',\n",
              " 'k__Bacteria|p__Actinobacteria|c__Coriobacteriia|o__Coriobacteriales|f__Atopobiaceae|g__Atopobium|s__Atopobium_minutum',\n",
              " 'k__Bacteria|p__Actinobacteria|c__Coriobacteriia|o__Coriobacteriales|f__Atopobiaceae|g__Atopobium|s__Atopobium_parvulum',\n",
              " 'k__Bacteria|p__Actinobacteria|c__Coriobacteriia|o__Coriobacteriales|f__Atopobiaceae|g__Atopobium|s__Atopobium_rimae',\n",
              " 'k__Bacteria|p__Firmicutes|c__Negativicutes|o__Veillonellales|f__Veillonellaceae|g__Negativicoccus|s__Negativicoccus_succinicivorans',\n",
              " 'k__Bacteria|p__Firmicutes|c__Negativicutes|o__Veillonellales|f__Veillonellaceae|g__Dialister|s__Dialister_micraerophilus',\n",
              " 'k__Bacteria|p__Firmicutes|c__Negativicutes|o__Veillonellales|f__Veillonellaceae|g__Veillonella|s__Veillonella_atypica',\n",
              " 'k__Bacteria|p__Firmicutes|c__Negativicutes|o__Veillonellales|f__Veillonellaceae|g__Veillonella|s__Veillonella_parvula',\n",
              " 'k__Bacteria|p__Firmicutes|c__Negativicutes|o__Veillonellales|f__Veillonellaceae|g__Veillonella|s__Veillonella_rodentium',\n",
              " 'k__Bacteria|p__Firmicutes|c__Negativicutes|o__Veillonellales|f__Veillonellaceae|g__Veillonella|s__Veillonella_sp_T11011_6',\n",
              " 'k__Bacteria|p__Firmicutes|c__Negativicutes|o__Veillonellales|f__Veillonellaceae|g__Veillonella|s__Veillonella_infantium',\n",
              " 'k__Bacteria|p__Firmicutes|c__Negativicutes|o__Veillonellales|f__Veillonellaceae|g__Veillonella|s__Veillonella_dispar',\n",
              " 'k__Bacteria|p__Firmicutes|c__Clostridia|o__Clostridiales|f__Clostridiaceae|g__Clostridium|s__Clostridium_perfringens',\n",
              " 'k__Bacteria|p__Firmicutes|c__Clostridia|o__Clostridiales|f__Clostridiaceae|g__Clostridium|s__Clostridium_disporicum',\n",
              " 'k__Bacteria|p__Firmicutes|c__Clostridia|o__Clostridiales|f__Clostridiaceae|g__Clostridium|s__Clostridium_sp_7_2_43FAA',\n",
              " 'k__Bacteria|p__Firmicutes|c__Clostridia|o__Clostridiales|f__Clostridiaceae|g__Clostridium|s__Clostridium_paraputrificum',\n",
              " 'k__Bacteria|p__Firmicutes|c__Clostridia|o__Clostridiales|f__Clostridiaceae|g__Clostridium|s__Clostridium_butyricum',\n",
              " 'k__Bacteria|p__Firmicutes|c__Clostridia|o__Clostridiales|f__Peptostreptococcaceae|g__Paeniclostridium|s__Paeniclostridium_sordellii',\n",
              " 'k__Bacteria|p__Firmicutes|c__Clostridia|o__Clostridiales|f__Peptostreptococcaceae|g__Paraclostridium|s__Paraclostridium_bifermentans',\n",
              " 'k__Bacteria|p__Firmicutes|c__Clostridia|o__Clostridiales|f__Peptostreptococcaceae|g__Intestinibacter|s__Intestinibacter_bartlettii',\n",
              " 'k__Bacteria|p__Firmicutes|c__Clostridia|o__Clostridiales|f__Peptostreptococcaceae|g__Clostridioides|s__Clostridioides_difficile',\n",
              " 'k__Bacteria|p__Firmicutes|c__Clostridia|o__Clostridiales|f__Peptostreptococcaceae|g__Peptostreptococcus|s__Peptostreptococcus_anaerobius',\n",
              " 'k__Bacteria|p__Firmicutes|c__Clostridia|o__Clostridiales|f__Peptococcaceae|g__Peptococcus|s__Peptococcus_niger',\n",
              " 'k__Bacteria|p__Firmicutes|c__Tissierellia|o__Tissierellales|f__Peptoniphilaceae|g__Peptoniphilus|s__Peptoniphilus_sp_HMSC062D09',\n",
              " 'k__Bacteria|p__Firmicutes|c__Tissierellia|o__Tissierellales|f__Peptoniphilaceae|g__Peptoniphilus|s__Peptoniphilus_harei',\n",
              " 'k__Bacteria|p__Firmicutes|c__Tissierellia|o__Tissierellales|f__Peptoniphilaceae|g__Finegoldia|s__Finegoldia_magna',\n",
              " 'k__Bacteria|p__Firmicutes|c__Tissierellia|o__Tissierellales|f__Peptoniphilaceae|g__Anaerococcus|s__Anaerococcus_vaginalis',\n",
              " 'k__Bacteria|p__Firmicutes|c__Tissierellia|o__Tissierellales|f__Peptoniphilaceae|g__Anaerococcus|s__Anaerococcus_nagyae',\n",
              " 'k__Bacteria|p__Firmicutes|c__Tissierellia|o__Tissierellales|f__Peptoniphilaceae|g__Anaerococcus|s__Anaerococcus_octavius',\n",
              " 'k__Bacteria|p__Firmicutes|c__Bacilli|o__Bacillales|f__Paenibacillaceae|g__Paenibacillus|s__Paenibacillus_macerans',\n",
              " 'k__Bacteria|p__Firmicutes|c__Bacilli|o__Bacillales|f__Staphylococcaceae|g__Staphylococcus|s__Staphylococcus_lugdunensis',\n",
              " 'k__Bacteria|p__Firmicutes|c__Bacilli|o__Bacillales|f__Staphylococcaceae|g__Staphylococcus|s__Staphylococcus_hominis',\n",
              " 'k__Bacteria|p__Firmicutes|c__Bacilli|o__Bacillales|f__Staphylococcaceae|g__Staphylococcus|s__Staphylococcus_haemolyticus',\n",
              " 'k__Bacteria|p__Firmicutes|c__Bacilli|o__Bacillales|f__Staphylococcaceae|g__Staphylococcus|s__Staphylococcus_aureus',\n",
              " 'k__Bacteria|p__Firmicutes|c__Bacilli|o__Bacillales|f__Staphylococcaceae|g__Staphylococcus|s__Staphylococcus_argenteus',\n",
              " 'k__Bacteria|p__Firmicutes|c__Bacilli|o__Bacillales|f__Staphylococcaceae|g__Staphylococcus|s__Staphylococcus_warneri',\n",
              " 'k__Bacteria|p__Firmicutes|c__Bacilli|o__Bacillales|f__Staphylococcaceae|g__Staphylococcus|s__Staphylococcus_capitis',\n",
              " 'k__Bacteria|p__Firmicutes|c__Bacilli|o__Bacillales|f__Staphylococcaceae|g__Staphylococcus|s__Staphylococcus_epidermidis',\n",
              " 'k__Bacteria|p__Firmicutes|c__Bacilli|o__Bacillales|f__Bacillales_unclassified|g__Gemella|s__Gemella_asaccharolytica',\n",
              " 'k__Bacteria|p__Firmicutes|c__Bacilli|o__Bacillales|f__Bacillales_unclassified|g__Gemella|s__Gemella_haemolysans',\n",
              " 'k__Bacteria|p__Firmicutes|c__Bacilli|o__Lactobacillales|f__Enterococcaceae|g__Enterococcus|s__Enterococcus_faecalis',\n",
              " 'k__Bacteria|p__Firmicutes|c__Bacilli|o__Lactobacillales|f__Enterococcaceae|g__Enterococcus|s__Enterococcus_faecium',\n",
              " 'k__Bacteria|p__Firmicutes|c__Bacilli|o__Lactobacillales|f__Enterococcaceae|g__Enterococcus|s__Enterococcus_casseliflavus',\n",
              " 'k__Bacteria|p__Firmicutes|c__Bacilli|o__Lactobacillales|f__Streptococcaceae|g__Lactococcus|s__Lactococcus_lactis',\n",
              " 'k__Bacteria|p__Firmicutes|c__Bacilli|o__Lactobacillales|f__Streptococcaceae|g__Streptococcus|s__Streptococcus_gordonii',\n",
              " 'k__Bacteria|p__Firmicutes|c__Bacilli|o__Lactobacillales|f__Streptococcaceae|g__Streptococcus|s__Streptococcus_anginosus_group',\n",
              " 'k__Bacteria|p__Firmicutes|c__Bacilli|o__Lactobacillales|f__Streptococcaceae|g__Streptococcus|s__Streptococcus_parasanguinis',\n",
              " 'k__Bacteria|p__Firmicutes|c__Bacilli|o__Lactobacillales|f__Streptococcaceae|g__Streptococcus|s__Streptococcus_mitis',\n",
              " 'k__Bacteria|p__Firmicutes|c__Bacilli|o__Lactobacillales|f__Streptococcaceae|g__Streptococcus|s__Streptococcus_sp_M334',\n",
              " 'k__Bacteria|p__Firmicutes|c__Bacilli|o__Lactobacillales|f__Streptococcaceae|g__Streptococcus|s__Streptococcus_sp_SK643',\n",
              " 'k__Bacteria|p__Firmicutes|c__Bacilli|o__Lactobacillales|f__Streptococcaceae|g__Streptococcus|s__Streptococcus_oralis',\n",
              " 'k__Bacteria|p__Firmicutes|c__Bacilli|o__Lactobacillales|f__Streptococcaceae|g__Streptococcus|s__Streptococcus_lutetiensis',\n",
              " 'k__Bacteria|p__Firmicutes|c__Bacilli|o__Lactobacillales|f__Streptococcaceae|g__Streptococcus|s__Streptococcus_pasteurianus',\n",
              " 'k__Bacteria|p__Firmicutes|c__Bacilli|o__Lactobacillales|f__Streptococcaceae|g__Streptococcus|s__Streptococcus_thermophilus',\n",
              " 'k__Bacteria|p__Firmicutes|c__Bacilli|o__Lactobacillales|f__Streptococcaceae|g__Streptococcus|s__Streptococcus_vestibularis',\n",
              " 'k__Bacteria|p__Firmicutes|c__Bacilli|o__Lactobacillales|f__Streptococcaceae|g__Streptococcus|s__Streptococcus_salivarius',\n",
              " 'k__Bacteria|p__Firmicutes|c__Bacilli|o__Lactobacillales|f__Streptococcaceae|g__Streptococcus|s__Streptococcus_agalactiae',\n",
              " 'k__Bacteria|p__Firmicutes|c__Bacilli|o__Lactobacillales|f__Lactobacillaceae|g__Lactobacillus|s__Lactobacillus_rhamnosus',\n",
              " 'k__Bacteria|p__Tenericutes|c__Mollicutes|o__Mycoplasmatales|f__Mycoplasmataceae|g__Mycoplasma|s__Mycoplasma_hominis',\n",
              " 'k__Bacteria|p__Verrucomicrobia|c__Verrucomicrobiae|o__Verrucomicrobiales|f__Akkermansiaceae|g__Akkermansia|s__Akkermansia_muciniphila',\n",
              " 'k__Bacteria|p__Bacteroidetes|c__Bacteroidia|o__Bacteroidales|f__Tannerellaceae|g__Parabacteroides|s__Parabacteroides_distasonis',\n",
              " 'k__Bacteria|p__Bacteroidetes|c__Bacteroidia|o__Bacteroidales|f__Bacteroidaceae|g__Bacteroides|s__Bacteroides_vulgatus',\n",
              " 'k__Bacteria|p__Bacteroidetes|c__Bacteroidia|o__Bacteroidales|f__Bacteroidaceae|g__Bacteroides|s__Bacteroides_fragilis',\n",
              " 'k__Bacteria|p__Bacteroidetes|c__Bacteroidia|o__Bacteroidales|f__Bacteroidaceae|g__Bacteroides|s__Bacteroides_thetaiotaomicron',\n",
              " 'k__Bacteria|p__Bacteroidetes|c__Bacteroidia|o__Bacteroidales|f__Bacteroidaceae|g__Bacteroides|s__Bacteroides_caccae',\n",
              " 'k__Bacteria|p__Bacteroidetes|c__Bacteroidia|o__Bacteroidales|f__Bacteroidaceae|g__Bacteroides|s__Bacteroides_uniformis',\n",
              " 'k__Bacteria|p__Bacteroidetes|c__Bacteroidia|o__Bacteroidales|f__Prevotellaceae|g__Prevotella|s__Prevotella_bivia',\n",
              " 'k__Bacteria|p__Bacteroidetes|c__Flavobacteriia|o__Flavobacteriales|f__Flavobacteriaceae|g__Cloacibacterium|s__Cloacibacterium_normanense',\n",
              " 'k__Bacteria|p__Proteobacteria|c__Betaproteobacteria|o__Neisseriales|f__Neisseriaceae|g__Neisseria|s__Neisseria_subflava',\n",
              " 'k__Bacteria|p__Proteobacteria|c__Betaproteobacteria|o__Neisseriales|f__Neisseriaceae|g__Neisseria|s__Neisseria_flavescens',\n",
              " 'k__Bacteria|p__Proteobacteria|c__Gammaproteobacteria|o__Pseudomonadales|f__Moraxellaceae|g__Acinetobacter|s__Acinetobacter_nosocomialis',\n",
              " 'k__Bacteria|p__Proteobacteria|c__Gammaproteobacteria|o__Pseudomonadales|f__Moraxellaceae|g__Acinetobacter|s__Acinetobacter_ursingii',\n",
              " 'k__Bacteria|p__Proteobacteria|c__Gammaproteobacteria|o__Pseudomonadales|f__Pseudomonadaceae|g__Pseudomonas|s__Pseudomonas_aeruginosa_group',\n",
              " 'k__Bacteria|p__Proteobacteria|c__Gammaproteobacteria|o__Pseudomonadales|f__Pseudomonadaceae|g__Pseudomonas|s__Pseudomonas_putida_group',\n",
              " 'k__Bacteria|p__Proteobacteria|c__Gammaproteobacteria|o__Pseudomonadales|f__Pseudomonadaceae|g__Pseudomonas|s__Pseudomonas_helleri',\n",
              " 'k__Bacteria|p__Proteobacteria|c__Gammaproteobacteria|o__Aeromonadales|f__Aeromonadaceae|g__Aeromonas|s__Aeromonas_caviae',\n",
              " 'k__Bacteria|p__Proteobacteria|c__Gammaproteobacteria|o__Aeromonadales|f__Aeromonadaceae|g__Aeromonas|s__Aeromonas_media',\n",
              " 'k__Bacteria|p__Proteobacteria|c__Gammaproteobacteria|o__Pasteurellales|f__Pasteurellaceae|g__Haemophilus|s__Haemophilus_haemolyticus',\n",
              " 'k__Bacteria|p__Proteobacteria|c__Gammaproteobacteria|o__Pasteurellales|f__Pasteurellaceae|g__Haemophilus|s__Haemophilus_sp_HMSC71H05',\n",
              " 'k__Bacteria|p__Proteobacteria|c__Gammaproteobacteria|o__Pasteurellales|f__Pasteurellaceae|g__Haemophilus|s__Haemophilus_parainfluenzae',\n",
              " 'k__Bacteria|p__Proteobacteria|c__Gammaproteobacteria|o__Enterobacterales|f__Yersiniaceae|g__Serratia|s__Serratia_marcescens',\n",
              " 'k__Bacteria|p__Proteobacteria|c__Gammaproteobacteria|o__Enterobacterales|f__Yersiniaceae|g__Serratia|s__Serratia_liquefaciens',\n",
              " 'k__Bacteria|p__Proteobacteria|c__Gammaproteobacteria|o__Enterobacterales|f__Hafniaceae|g__Hafnia|s__Hafnia_alvei',\n",
              " 'k__Bacteria|p__Proteobacteria|c__Gammaproteobacteria|o__Enterobacterales|f__Erwiniaceae|g__Mixta|s__Mixta_calida',\n",
              " 'k__Bacteria|p__Proteobacteria|c__Gammaproteobacteria|o__Enterobacterales|f__Enterobacteriaceae|g__Kluyvera|s__Kluyvera_intermedia',\n",
              " 'k__Bacteria|p__Proteobacteria|c__Gammaproteobacteria|o__Enterobacterales|f__Enterobacteriaceae|g__Kluyvera|s__Kluyvera_cryocrescens',\n",
              " 'k__Bacteria|p__Proteobacteria|c__Gammaproteobacteria|o__Enterobacterales|f__Enterobacteriaceae|g__Kosakonia|s__Kosakonia_sp_S29',\n",
              " 'k__Bacteria|p__Proteobacteria|c__Gammaproteobacteria|o__Enterobacterales|f__Enterobacteriaceae|g__Enterobacter|s__Enterobacter_mori',\n",
              " 'k__Bacteria|p__Proteobacteria|c__Gammaproteobacteria|o__Enterobacterales|f__Enterobacteriaceae|g__Enterobacter|s__Enterobacter_cloacae_complex',\n",
              " 'k__Bacteria|p__Proteobacteria|c__Gammaproteobacteria|o__Enterobacterales|f__Enterobacteriaceae|g__Atlantibacter|s__Atlantibacter_hermannii',\n",
              " 'k__Bacteria|p__Proteobacteria|c__Gammaproteobacteria|o__Enterobacterales|f__Enterobacteriaceae|g__Escherichia|s__Escherichia_coli',\n",
              " 'k__Bacteria|p__Proteobacteria|c__Gammaproteobacteria|o__Enterobacterales|f__Enterobacteriaceae|g__Citrobacter|s__Citrobacter_koseri',\n",
              " 'k__Bacteria|p__Proteobacteria|c__Gammaproteobacteria|o__Enterobacterales|f__Enterobacteriaceae|g__Citrobacter|s__Citrobacter_amalonaticus',\n",
              " 'k__Bacteria|p__Proteobacteria|c__Gammaproteobacteria|o__Enterobacterales|f__Enterobacteriaceae|g__Citrobacter|s__Citrobacter_pasteurii',\n",
              " 'k__Bacteria|p__Proteobacteria|c__Gammaproteobacteria|o__Enterobacterales|f__Enterobacteriaceae|g__Citrobacter|s__Citrobacter_portucalensis',\n",
              " 'k__Bacteria|p__Proteobacteria|c__Gammaproteobacteria|o__Enterobacterales|f__Enterobacteriaceae|g__Citrobacter|s__Citrobacter_freundii',\n",
              " 'k__Bacteria|p__Proteobacteria|c__Gammaproteobacteria|o__Enterobacterales|f__Enterobacteriaceae|g__Citrobacter|s__Citrobacter_werkmanii',\n",
              " 'k__Bacteria|p__Proteobacteria|c__Gammaproteobacteria|o__Enterobacterales|f__Enterobacteriaceae|g__Citrobacter|s__Citrobacter_youngae',\n",
              " 'k__Bacteria|p__Proteobacteria|c__Gammaproteobacteria|o__Enterobacterales|f__Enterobacteriaceae|g__Klebsiella|s__Klebsiella_michiganensis',\n",
              " 'k__Bacteria|p__Proteobacteria|c__Gammaproteobacteria|o__Enterobacterales|f__Enterobacteriaceae|g__Klebsiella|s__Klebsiella_quasipneumoniae',\n",
              " 'k__Bacteria|p__Proteobacteria|c__Gammaproteobacteria|o__Enterobacterales|f__Enterobacteriaceae|g__Klebsiella|s__Klebsiella_variicola',\n",
              " 'k__Bacteria|p__Proteobacteria|c__Gammaproteobacteria|o__Enterobacterales|f__Enterobacteriaceae|g__Klebsiella|s__Klebsiella_pneumoniae',\n",
              " 'k__Bacteria|p__Proteobacteria|c__Gammaproteobacteria|o__Enterobacterales|f__Enterobacteriaceae|g__Klebsiella|s__Klebsiella_oxytoca',\n",
              " 'k__Bacteria|p__Proteobacteria|c__Gammaproteobacteria|o__Enterobacterales|f__Enterobacteriaceae|g__Metakosakonia|s__Kluyvera_intestini',\n",
              " 'k__Bacteria|p__Proteobacteria|c__Gammaproteobacteria|o__Enterobacterales|f__Enterobacterales_unclassified|g__Phytobacter|s__Phytobacter_ursingii']"
            ]
          },
          "metadata": {},
          "execution_count": 16
        }
      ]
    },
    {
      "cell_type": "code",
      "source": [
        "# for each element in X [each subject], we have the abundances for each 'var' in variable names = species\n",
        "# for each time point [second dim of X corresponds to length of T?]"
      ],
      "metadata": {
        "id": "46HYO0XFt-5D"
      },
      "execution_count": null,
      "outputs": []
    },
    {
      "cell_type": "code",
      "source": [
        "brooks_data[\"y\"]"
      ],
      "metadata": {
        "colab": {
          "base_uri": "https://localhost:8080/"
        },
        "id": "UFYH9jEKeKjL",
        "outputId": "071e42ff-c530-4473-b7d3-0a08e3bd2e06"
      },
      "execution_count": null,
      "outputs": [
        {
          "output_type": "execute_result",
          "data": {
            "text/plain": [
              "array([1., 0., 1., 1., 1., 0., 0., 0., 0., 1., 1., 1., 1., 1., 1., 1., 1.,\n",
              "       1., 0., 0., 1., 0., 1., 1., 0., 1., 1., 1.])"
            ]
          },
          "metadata": {},
          "execution_count": 17
        }
      ]
    },
    {
      "cell_type": "code",
      "source": [
        "len(brooks_data[\"y\"])"
      ],
      "metadata": {
        "id": "e6zOEo2bgSA8",
        "colab": {
          "base_uri": "https://localhost:8080/"
        },
        "outputId": "53b6772d-929c-48e3-848e-5828e8d2e6ff"
      },
      "execution_count": null,
      "outputs": [
        {
          "output_type": "execute_result",
          "data": {
            "text/plain": [
              "28"
            ]
          },
          "metadata": {},
          "execution_count": 18
        }
      ]
    },
    {
      "cell_type": "code",
      "source": [
        "# y = binary host labels [0 = ?,  1 = ?] ..."
      ],
      "metadata": {
        "id": "A0GH1Sjqu16B"
      },
      "execution_count": null,
      "outputs": []
    },
    {
      "cell_type": "code",
      "source": [
        "len(brooks_data[\"X\"])"
      ],
      "metadata": {
        "colab": {
          "base_uri": "https://localhost:8080/"
        },
        "id": "oO6Bxd0eohUe",
        "outputId": "f37bbdf0-fc94-4a1f-baf5-093a440d78a5"
      },
      "execution_count": null,
      "outputs": [
        {
          "output_type": "execute_result",
          "data": {
            "text/plain": [
              "28"
            ]
          },
          "metadata": {},
          "execution_count": 14
        }
      ]
    },
    {
      "cell_type": "code",
      "source": [
        "len(brooks_data[\"T\"])"
      ],
      "metadata": {
        "colab": {
          "base_uri": "https://localhost:8080/"
        },
        "id": "RkS5OMZMokoT",
        "outputId": "d0a14d5a-aa91-41be-f3d2-41ee3011222d"
      },
      "execution_count": null,
      "outputs": [
        {
          "output_type": "execute_result",
          "data": {
            "text/plain": [
              "28"
            ]
          },
          "metadata": {},
          "execution_count": 15
        }
      ]
    },
    {
      "cell_type": "code",
      "source": [
        "brooks_data[\"y\"].shape"
      ],
      "metadata": {
        "colab": {
          "base_uri": "https://localhost:8080/"
        },
        "id": "vLM94jy8omqw",
        "outputId": "9406c2ce-a3fd-4bb2-8922-2cc2c1d6066f"
      },
      "execution_count": null,
      "outputs": [
        {
          "output_type": "execute_result",
          "data": {
            "text/plain": [
              "(28,)"
            ]
          },
          "metadata": {},
          "execution_count": 16
        }
      ]
    },
    {
      "cell_type": "code",
      "source": [
        "# looks like second shape element of x[s] aligns with length of T[s]"
      ],
      "metadata": {
        "id": "XoVnyWkzXRqd"
      },
      "execution_count": null,
      "outputs": []
    },
    {
      "cell_type": "code",
      "source": [
        "brooks_data[\"T\"]"
      ],
      "metadata": {
        "colab": {
          "base_uri": "https://localhost:8080/"
        },
        "id": "k-hJM4oheKZC",
        "outputId": "9c0c087b-0618-45ec-ab05-4632e7504f1b"
      },
      "execution_count": null,
      "outputs": [
        {
          "output_type": "execute_result",
          "data": {
            "text/plain": [
              "[array([ 0,  2,  4,  6,  8, 10, 12, 13, 15, 19, 25, 32, 47]),\n",
              " array([ 0,  2,  4,  6,  8, 10, 12, 15, 17, 22, 29, 36, 43]),\n",
              " array([ 0,  2,  4,  6,  9, 11, 17, 21, 27, 30, 35]),\n",
              " array([ 0,  3,  5,  7, 10, 12, 13, 27, 29, 36]),\n",
              " array([ 0,  1,  3,  5,  7,  8, 11, 12, 13]),\n",
              " array([ 0,  1,  8, 12, 14, 18, 75]),\n",
              " array([ 0,  2,  4,  7,  8, 11, 16, 18, 22, 27, 34]),\n",
              " array([ 0,  1,  3,  6,  9, 11, 14, 16, 18, 21, 30, 38, 44, 51]),\n",
              " array([ 0,  2,  4,  6,  8, 10, 12, 15, 22, 24, 28, 39, 41, 51, 55]),\n",
              " array([ 0,  1,  3,  4,  5,  7, 10, 13, 14, 15]),\n",
              " array([ 0,  3,  4,  8, 11, 14, 20, 26, 41, 44]),\n",
              " array([ 0,  1,  3,  6,  8, 10, 12, 14, 16, 18, 20, 22, 23]),\n",
              " array([ 0,  2,  5,  7, 10, 14, 19, 26, 34]),\n",
              " array([0, 1, 1, 2, 3]),\n",
              " array([ 0,  2,  5,  6,  7,  8,  9, 10, 11, 12, 13, 14, 15, 17, 18, 19, 21,\n",
              "        22, 23]),\n",
              " array([ 0,  2,  3,  4,  5,  6,  7,  8,  9, 10, 11, 12, 13, 14, 15, 16]),\n",
              " array([ 0,  1,  2,  3,  4,  5,  6,  7,  8,  9, 10, 11, 12, 13, 14, 15, 17,\n",
              "        19, 20, 21, 22]),\n",
              " array([ 0,  1,  2,  3,  4,  5,  6,  7,  8,  9, 10, 11, 13, 14, 15, 16, 17,\n",
              "        18, 21, 22]),\n",
              " array([ 0,  1,  3,  4,  5,  7,  8, 10, 13, 14, 16, 17, 19, 20]),\n",
              " array([ 0,  3,  4,  5,  6,  7,  8,  9, 10, 11, 12, 13, 14, 15, 16, 17, 18,\n",
              "        19, 20, 21, 22, 23]),\n",
              " array([ 0,  1,  2,  3, 11, 12, 13, 14, 16, 17, 18, 19, 21, 25]),\n",
              " array([ 0,  1,  2,  3,  4,  5,  6,  7,  8,  9, 10, 11, 12, 13, 14, 15, 16,\n",
              "        17, 18, 19, 21]),\n",
              " array([ 0,  2,  3,  4,  5,  6,  7,  8,  9, 10, 11, 12, 13, 14, 15, 16, 17,\n",
              "        18, 19, 20, 21, 22]),\n",
              " array([ 0,  2,  3,  4,  6,  8,  9, 10, 11, 12, 13, 14, 16, 17, 18, 19, 21]),\n",
              " array([0, 1, 4, 5, 6, 7, 8]),\n",
              " array([ 0,  1,  2,  3,  4,  6,  7,  8,  9, 10, 11, 12, 14, 16, 17, 18, 19,\n",
              "        20, 21]),\n",
              " array([ 0,  1,  2,  3,  4,  5,  6,  7,  8,  9, 11, 12, 13, 14, 15, 16, 17,\n",
              "        18, 19, 20, 21, 22]),\n",
              " array([ 0,  1,  2,  3,  4,  5,  6,  7,  8,  9, 10, 11, 12, 13, 14, 15, 16,\n",
              "        17])]"
            ]
          },
          "metadata": {},
          "execution_count": 17
        }
      ]
    },
    {
      "cell_type": "markdown",
      "source": [
        "### create abundance data table, sample metadata, and subject metadata tables for easier reading"
      ],
      "metadata": {
        "id": "fOMzmbzHvpMC"
      }
    },
    {
      "cell_type": "code",
      "source": [
        "# create abundance data table, sample metadata, and subject metadata tables for easier reading"
      ],
      "metadata": {
        "id": "VuBFjDeovbo_"
      },
      "execution_count": null,
      "outputs": []
    },
    {
      "cell_type": "code",
      "source": [
        ""
      ],
      "metadata": {
        "id": "b7iIpZWovbga"
      },
      "execution_count": null,
      "outputs": []
    },
    {
      "cell_type": "code",
      "source": [
        ""
      ],
      "metadata": {
        "id": "g0LyETCNvbXb"
      },
      "execution_count": null,
      "outputs": []
    },
    {
      "cell_type": "code",
      "source": [
        ""
      ],
      "metadata": {
        "id": "MPlKYri4vbN9"
      },
      "execution_count": null,
      "outputs": []
    },
    {
      "cell_type": "code",
      "source": [
        ""
      ],
      "metadata": {
        "id": "zDv2XA4AvbBv"
      },
      "execution_count": null,
      "outputs": []
    },
    {
      "cell_type": "code",
      "source": [
        "brooks_data[\"variable_tree\"]"
      ],
      "metadata": {
        "colab": {
          "base_uri": "https://localhost:8080/"
        },
        "id": "dkVKyu7keKOm",
        "outputId": "19c87a1c-1ddf-4047-8c1a-2bed7ac78045"
      },
      "execution_count": null,
      "outputs": [
        {
          "output_type": "execute_result",
          "data": {
            "text/plain": [
              "Tree node 'k__Bacteria' (0x7fac41ecb91)"
            ]
          },
          "metadata": {},
          "execution_count": 18
        }
      ]
    },
    {
      "cell_type": "code",
      "source": [
        "len(brooks_data[\"variable_names\"])"
      ],
      "metadata": {
        "colab": {
          "base_uri": "https://localhost:8080/"
        },
        "id": "XUULmK47eKDE",
        "outputId": "f979fe7b-0813-4c53-e61e-224245b9f357"
      },
      "execution_count": null,
      "outputs": [
        {
          "output_type": "execute_result",
          "data": {
            "text/plain": [
              "126"
            ]
          },
          "metadata": {},
          "execution_count": 16
        }
      ]
    },
    {
      "cell_type": "code",
      "source": [
        "brooks_data[\"variable_names\"]"
      ],
      "metadata": {
        "colab": {
          "base_uri": "https://localhost:8080/"
        },
        "id": "bg3HiVKbgiAP",
        "outputId": "caed651b-5909-4d2e-9bb0-c9d997e41541"
      },
      "execution_count": null,
      "outputs": [
        {
          "output_type": "execute_result",
          "data": {
            "text/plain": [
              "['k__Bacteria|p__Actinobacteria|c__Actinobacteria|o__Corynebacteriales|f__Corynebacteriaceae|g__Corynebacterium|s__Corynebacterium_kroppenstedtii',\n",
              " 'k__Bacteria|p__Actinobacteria|c__Actinobacteria|o__Propionibacteriales|f__Propionibacteriaceae|g__Cutibacterium|s__Cutibacterium_granulosum',\n",
              " 'k__Bacteria|p__Actinobacteria|c__Actinobacteria|o__Propionibacteriales|f__Propionibacteriaceae|g__Cutibacterium|s__Cutibacterium_avidum',\n",
              " 'k__Bacteria|p__Actinobacteria|c__Actinobacteria|o__Propionibacteriales|f__Propionibacteriaceae|g__Cutibacterium|s__Cutibacterium_acnes',\n",
              " 'k__Bacteria|p__Actinobacteria|c__Actinobacteria|o__Micrococcales|f__Dermabacteraceae|g__Dermabacter|s__Dermabacter_hominis',\n",
              " 'k__Bacteria|p__Actinobacteria|c__Actinobacteria|o__Micrococcales|f__Dermabacteraceae|g__Dermabacter|s__Dermabacter_vaginalis',\n",
              " 'k__Bacteria|p__Actinobacteria|c__Actinobacteria|o__Micrococcales|f__Micrococcaceae|g__Rothia|s__Rothia_mucilaginosa',\n",
              " 'k__Bacteria|p__Actinobacteria|c__Actinobacteria|o__Actinomycetales|f__Actinomycetaceae|g__Actinomyces|s__Actinomyces_urogenitalis',\n",
              " 'k__Bacteria|p__Actinobacteria|c__Actinobacteria|o__Actinomycetales|f__Actinomycetaceae|g__Actinomyces|s__Actinomyces_europaeus',\n",
              " 'k__Bacteria|p__Actinobacteria|c__Actinobacteria|o__Actinomycetales|f__Actinomycetaceae|g__Actinomyces|s__Actinomyces_radingae',\n",
              " 'k__Bacteria|p__Actinobacteria|c__Actinobacteria|o__Actinomycetales|f__Actinomycetaceae|g__Actinomyces|s__Actinomyces_turicensis',\n",
              " 'k__Bacteria|p__Actinobacteria|c__Actinobacteria|o__Actinomycetales|f__Actinomycetaceae|g__Actinomyces|s__Actinomyces_sp_oral_taxon_181',\n",
              " 'k__Bacteria|p__Actinobacteria|c__Actinobacteria|o__Actinomycetales|f__Actinomycetaceae|g__Actinomyces|s__Actinomyces_odontolyticus',\n",
              " 'k__Bacteria|p__Actinobacteria|c__Actinobacteria|o__Actinomycetales|f__Actinomycetaceae|g__Varibaculum|s__Varibaculum_cambriense',\n",
              " 'k__Bacteria|p__Actinobacteria|c__Actinobacteria|o__Bifidobacteriales|f__Bifidobacteriaceae|g__Bifidobacterium|s__Bifidobacterium_bifidum',\n",
              " 'k__Bacteria|p__Actinobacteria|c__Actinobacteria|o__Bifidobacteriales|f__Bifidobacteriaceae|g__Bifidobacterium|s__Bifidobacterium_scardovii',\n",
              " 'k__Bacteria|p__Actinobacteria|c__Actinobacteria|o__Bifidobacteriales|f__Bifidobacteriaceae|g__Bifidobacterium|s__Bifidobacterium_dentium',\n",
              " 'k__Bacteria|p__Actinobacteria|c__Actinobacteria|o__Bifidobacteriales|f__Bifidobacteriaceae|g__Bifidobacterium|s__Bifidobacterium_longum',\n",
              " 'k__Bacteria|p__Actinobacteria|c__Actinobacteria|o__Bifidobacteriales|f__Bifidobacteriaceae|g__Bifidobacterium|s__Bifidobacterium_breve',\n",
              " 'k__Bacteria|p__Actinobacteria|c__Coriobacteriia|o__Eggerthellales|f__Eggerthellaceae|g__Eggerthella|s__Eggerthella_lenta',\n",
              " 'k__Bacteria|p__Actinobacteria|c__Coriobacteriia|o__Eggerthellales|f__Eggerthellaceae|g__Gordonibacter|s__Gordonibacter_pamelaeae',\n",
              " 'k__Bacteria|p__Actinobacteria|c__Coriobacteriia|o__Eggerthellales|f__Eggerthellaceae|g__Enterorhabdus|s__Enterorhabdus_caecimuris',\n",
              " 'k__Bacteria|p__Actinobacteria|c__Coriobacteriia|o__Coriobacteriales|f__Atopobiaceae|g__Atopobium|s__Atopobium_minutum',\n",
              " 'k__Bacteria|p__Actinobacteria|c__Coriobacteriia|o__Coriobacteriales|f__Atopobiaceae|g__Atopobium|s__Atopobium_parvulum',\n",
              " 'k__Bacteria|p__Actinobacteria|c__Coriobacteriia|o__Coriobacteriales|f__Atopobiaceae|g__Atopobium|s__Atopobium_rimae',\n",
              " 'k__Bacteria|p__Firmicutes|c__Negativicutes|o__Veillonellales|f__Veillonellaceae|g__Negativicoccus|s__Negativicoccus_succinicivorans',\n",
              " 'k__Bacteria|p__Firmicutes|c__Negativicutes|o__Veillonellales|f__Veillonellaceae|g__Dialister|s__Dialister_micraerophilus',\n",
              " 'k__Bacteria|p__Firmicutes|c__Negativicutes|o__Veillonellales|f__Veillonellaceae|g__Veillonella|s__Veillonella_atypica',\n",
              " 'k__Bacteria|p__Firmicutes|c__Negativicutes|o__Veillonellales|f__Veillonellaceae|g__Veillonella|s__Veillonella_parvula',\n",
              " 'k__Bacteria|p__Firmicutes|c__Negativicutes|o__Veillonellales|f__Veillonellaceae|g__Veillonella|s__Veillonella_rodentium',\n",
              " 'k__Bacteria|p__Firmicutes|c__Negativicutes|o__Veillonellales|f__Veillonellaceae|g__Veillonella|s__Veillonella_sp_T11011_6',\n",
              " 'k__Bacteria|p__Firmicutes|c__Negativicutes|o__Veillonellales|f__Veillonellaceae|g__Veillonella|s__Veillonella_infantium',\n",
              " 'k__Bacteria|p__Firmicutes|c__Negativicutes|o__Veillonellales|f__Veillonellaceae|g__Veillonella|s__Veillonella_dispar',\n",
              " 'k__Bacteria|p__Firmicutes|c__Clostridia|o__Clostridiales|f__Clostridiaceae|g__Clostridium|s__Clostridium_perfringens',\n",
              " 'k__Bacteria|p__Firmicutes|c__Clostridia|o__Clostridiales|f__Clostridiaceae|g__Clostridium|s__Clostridium_disporicum',\n",
              " 'k__Bacteria|p__Firmicutes|c__Clostridia|o__Clostridiales|f__Clostridiaceae|g__Clostridium|s__Clostridium_sp_7_2_43FAA',\n",
              " 'k__Bacteria|p__Firmicutes|c__Clostridia|o__Clostridiales|f__Clostridiaceae|g__Clostridium|s__Clostridium_paraputrificum',\n",
              " 'k__Bacteria|p__Firmicutes|c__Clostridia|o__Clostridiales|f__Clostridiaceae|g__Clostridium|s__Clostridium_butyricum',\n",
              " 'k__Bacteria|p__Firmicutes|c__Clostridia|o__Clostridiales|f__Peptostreptococcaceae|g__Paeniclostridium|s__Paeniclostridium_sordellii',\n",
              " 'k__Bacteria|p__Firmicutes|c__Clostridia|o__Clostridiales|f__Peptostreptococcaceae|g__Paraclostridium|s__Paraclostridium_bifermentans',\n",
              " 'k__Bacteria|p__Firmicutes|c__Clostridia|o__Clostridiales|f__Peptostreptococcaceae|g__Intestinibacter|s__Intestinibacter_bartlettii',\n",
              " 'k__Bacteria|p__Firmicutes|c__Clostridia|o__Clostridiales|f__Peptostreptococcaceae|g__Clostridioides|s__Clostridioides_difficile',\n",
              " 'k__Bacteria|p__Firmicutes|c__Clostridia|o__Clostridiales|f__Peptostreptococcaceae|g__Peptostreptococcus|s__Peptostreptococcus_anaerobius',\n",
              " 'k__Bacteria|p__Firmicutes|c__Clostridia|o__Clostridiales|f__Peptococcaceae|g__Peptococcus|s__Peptococcus_niger',\n",
              " 'k__Bacteria|p__Firmicutes|c__Tissierellia|o__Tissierellales|f__Peptoniphilaceae|g__Peptoniphilus|s__Peptoniphilus_sp_HMSC062D09',\n",
              " 'k__Bacteria|p__Firmicutes|c__Tissierellia|o__Tissierellales|f__Peptoniphilaceae|g__Peptoniphilus|s__Peptoniphilus_harei',\n",
              " 'k__Bacteria|p__Firmicutes|c__Tissierellia|o__Tissierellales|f__Peptoniphilaceae|g__Finegoldia|s__Finegoldia_magna',\n",
              " 'k__Bacteria|p__Firmicutes|c__Tissierellia|o__Tissierellales|f__Peptoniphilaceae|g__Anaerococcus|s__Anaerococcus_vaginalis',\n",
              " 'k__Bacteria|p__Firmicutes|c__Tissierellia|o__Tissierellales|f__Peptoniphilaceae|g__Anaerococcus|s__Anaerococcus_nagyae',\n",
              " 'k__Bacteria|p__Firmicutes|c__Tissierellia|o__Tissierellales|f__Peptoniphilaceae|g__Anaerococcus|s__Anaerococcus_octavius',\n",
              " 'k__Bacteria|p__Firmicutes|c__Bacilli|o__Bacillales|f__Paenibacillaceae|g__Paenibacillus|s__Paenibacillus_macerans',\n",
              " 'k__Bacteria|p__Firmicutes|c__Bacilli|o__Bacillales|f__Staphylococcaceae|g__Staphylococcus|s__Staphylococcus_lugdunensis',\n",
              " 'k__Bacteria|p__Firmicutes|c__Bacilli|o__Bacillales|f__Staphylococcaceae|g__Staphylococcus|s__Staphylococcus_hominis',\n",
              " 'k__Bacteria|p__Firmicutes|c__Bacilli|o__Bacillales|f__Staphylococcaceae|g__Staphylococcus|s__Staphylococcus_haemolyticus',\n",
              " 'k__Bacteria|p__Firmicutes|c__Bacilli|o__Bacillales|f__Staphylococcaceae|g__Staphylococcus|s__Staphylococcus_aureus',\n",
              " 'k__Bacteria|p__Firmicutes|c__Bacilli|o__Bacillales|f__Staphylococcaceae|g__Staphylococcus|s__Staphylococcus_argenteus',\n",
              " 'k__Bacteria|p__Firmicutes|c__Bacilli|o__Bacillales|f__Staphylococcaceae|g__Staphylococcus|s__Staphylococcus_warneri',\n",
              " 'k__Bacteria|p__Firmicutes|c__Bacilli|o__Bacillales|f__Staphylococcaceae|g__Staphylococcus|s__Staphylococcus_capitis',\n",
              " 'k__Bacteria|p__Firmicutes|c__Bacilli|o__Bacillales|f__Staphylococcaceae|g__Staphylococcus|s__Staphylococcus_epidermidis',\n",
              " 'k__Bacteria|p__Firmicutes|c__Bacilli|o__Bacillales|f__Bacillales_unclassified|g__Gemella|s__Gemella_asaccharolytica',\n",
              " 'k__Bacteria|p__Firmicutes|c__Bacilli|o__Bacillales|f__Bacillales_unclassified|g__Gemella|s__Gemella_haemolysans',\n",
              " 'k__Bacteria|p__Firmicutes|c__Bacilli|o__Lactobacillales|f__Enterococcaceae|g__Enterococcus|s__Enterococcus_faecalis',\n",
              " 'k__Bacteria|p__Firmicutes|c__Bacilli|o__Lactobacillales|f__Enterococcaceae|g__Enterococcus|s__Enterococcus_faecium',\n",
              " 'k__Bacteria|p__Firmicutes|c__Bacilli|o__Lactobacillales|f__Enterococcaceae|g__Enterococcus|s__Enterococcus_casseliflavus',\n",
              " 'k__Bacteria|p__Firmicutes|c__Bacilli|o__Lactobacillales|f__Streptococcaceae|g__Lactococcus|s__Lactococcus_lactis',\n",
              " 'k__Bacteria|p__Firmicutes|c__Bacilli|o__Lactobacillales|f__Streptococcaceae|g__Streptococcus|s__Streptococcus_gordonii',\n",
              " 'k__Bacteria|p__Firmicutes|c__Bacilli|o__Lactobacillales|f__Streptococcaceae|g__Streptococcus|s__Streptococcus_anginosus_group',\n",
              " 'k__Bacteria|p__Firmicutes|c__Bacilli|o__Lactobacillales|f__Streptococcaceae|g__Streptococcus|s__Streptococcus_parasanguinis',\n",
              " 'k__Bacteria|p__Firmicutes|c__Bacilli|o__Lactobacillales|f__Streptococcaceae|g__Streptococcus|s__Streptococcus_mitis',\n",
              " 'k__Bacteria|p__Firmicutes|c__Bacilli|o__Lactobacillales|f__Streptococcaceae|g__Streptococcus|s__Streptococcus_sp_M334',\n",
              " 'k__Bacteria|p__Firmicutes|c__Bacilli|o__Lactobacillales|f__Streptococcaceae|g__Streptococcus|s__Streptococcus_sp_SK643',\n",
              " 'k__Bacteria|p__Firmicutes|c__Bacilli|o__Lactobacillales|f__Streptococcaceae|g__Streptococcus|s__Streptococcus_oralis',\n",
              " 'k__Bacteria|p__Firmicutes|c__Bacilli|o__Lactobacillales|f__Streptococcaceae|g__Streptococcus|s__Streptococcus_lutetiensis',\n",
              " 'k__Bacteria|p__Firmicutes|c__Bacilli|o__Lactobacillales|f__Streptococcaceae|g__Streptococcus|s__Streptococcus_pasteurianus',\n",
              " 'k__Bacteria|p__Firmicutes|c__Bacilli|o__Lactobacillales|f__Streptococcaceae|g__Streptococcus|s__Streptococcus_thermophilus',\n",
              " 'k__Bacteria|p__Firmicutes|c__Bacilli|o__Lactobacillales|f__Streptococcaceae|g__Streptococcus|s__Streptococcus_vestibularis',\n",
              " 'k__Bacteria|p__Firmicutes|c__Bacilli|o__Lactobacillales|f__Streptococcaceae|g__Streptococcus|s__Streptococcus_salivarius',\n",
              " 'k__Bacteria|p__Firmicutes|c__Bacilli|o__Lactobacillales|f__Streptococcaceae|g__Streptococcus|s__Streptococcus_agalactiae',\n",
              " 'k__Bacteria|p__Firmicutes|c__Bacilli|o__Lactobacillales|f__Lactobacillaceae|g__Lactobacillus|s__Lactobacillus_rhamnosus',\n",
              " 'k__Bacteria|p__Tenericutes|c__Mollicutes|o__Mycoplasmatales|f__Mycoplasmataceae|g__Mycoplasma|s__Mycoplasma_hominis',\n",
              " 'k__Bacteria|p__Verrucomicrobia|c__Verrucomicrobiae|o__Verrucomicrobiales|f__Akkermansiaceae|g__Akkermansia|s__Akkermansia_muciniphila',\n",
              " 'k__Bacteria|p__Bacteroidetes|c__Bacteroidia|o__Bacteroidales|f__Tannerellaceae|g__Parabacteroides|s__Parabacteroides_distasonis',\n",
              " 'k__Bacteria|p__Bacteroidetes|c__Bacteroidia|o__Bacteroidales|f__Bacteroidaceae|g__Bacteroides|s__Bacteroides_vulgatus',\n",
              " 'k__Bacteria|p__Bacteroidetes|c__Bacteroidia|o__Bacteroidales|f__Bacteroidaceae|g__Bacteroides|s__Bacteroides_fragilis',\n",
              " 'k__Bacteria|p__Bacteroidetes|c__Bacteroidia|o__Bacteroidales|f__Bacteroidaceae|g__Bacteroides|s__Bacteroides_thetaiotaomicron',\n",
              " 'k__Bacteria|p__Bacteroidetes|c__Bacteroidia|o__Bacteroidales|f__Bacteroidaceae|g__Bacteroides|s__Bacteroides_caccae',\n",
              " 'k__Bacteria|p__Bacteroidetes|c__Bacteroidia|o__Bacteroidales|f__Bacteroidaceae|g__Bacteroides|s__Bacteroides_uniformis',\n",
              " 'k__Bacteria|p__Bacteroidetes|c__Bacteroidia|o__Bacteroidales|f__Prevotellaceae|g__Prevotella|s__Prevotella_bivia',\n",
              " 'k__Bacteria|p__Bacteroidetes|c__Flavobacteriia|o__Flavobacteriales|f__Flavobacteriaceae|g__Cloacibacterium|s__Cloacibacterium_normanense',\n",
              " 'k__Bacteria|p__Proteobacteria|c__Betaproteobacteria|o__Neisseriales|f__Neisseriaceae|g__Neisseria|s__Neisseria_subflava',\n",
              " 'k__Bacteria|p__Proteobacteria|c__Betaproteobacteria|o__Neisseriales|f__Neisseriaceae|g__Neisseria|s__Neisseria_flavescens',\n",
              " 'k__Bacteria|p__Proteobacteria|c__Gammaproteobacteria|o__Pseudomonadales|f__Moraxellaceae|g__Acinetobacter|s__Acinetobacter_nosocomialis',\n",
              " 'k__Bacteria|p__Proteobacteria|c__Gammaproteobacteria|o__Pseudomonadales|f__Moraxellaceae|g__Acinetobacter|s__Acinetobacter_ursingii',\n",
              " 'k__Bacteria|p__Proteobacteria|c__Gammaproteobacteria|o__Pseudomonadales|f__Pseudomonadaceae|g__Pseudomonas|s__Pseudomonas_aeruginosa_group',\n",
              " 'k__Bacteria|p__Proteobacteria|c__Gammaproteobacteria|o__Pseudomonadales|f__Pseudomonadaceae|g__Pseudomonas|s__Pseudomonas_putida_group',\n",
              " 'k__Bacteria|p__Proteobacteria|c__Gammaproteobacteria|o__Pseudomonadales|f__Pseudomonadaceae|g__Pseudomonas|s__Pseudomonas_helleri',\n",
              " 'k__Bacteria|p__Proteobacteria|c__Gammaproteobacteria|o__Aeromonadales|f__Aeromonadaceae|g__Aeromonas|s__Aeromonas_caviae',\n",
              " 'k__Bacteria|p__Proteobacteria|c__Gammaproteobacteria|o__Aeromonadales|f__Aeromonadaceae|g__Aeromonas|s__Aeromonas_media',\n",
              " 'k__Bacteria|p__Proteobacteria|c__Gammaproteobacteria|o__Pasteurellales|f__Pasteurellaceae|g__Haemophilus|s__Haemophilus_haemolyticus',\n",
              " 'k__Bacteria|p__Proteobacteria|c__Gammaproteobacteria|o__Pasteurellales|f__Pasteurellaceae|g__Haemophilus|s__Haemophilus_sp_HMSC71H05',\n",
              " 'k__Bacteria|p__Proteobacteria|c__Gammaproteobacteria|o__Pasteurellales|f__Pasteurellaceae|g__Haemophilus|s__Haemophilus_parainfluenzae',\n",
              " 'k__Bacteria|p__Proteobacteria|c__Gammaproteobacteria|o__Enterobacterales|f__Yersiniaceae|g__Serratia|s__Serratia_marcescens',\n",
              " 'k__Bacteria|p__Proteobacteria|c__Gammaproteobacteria|o__Enterobacterales|f__Yersiniaceae|g__Serratia|s__Serratia_liquefaciens',\n",
              " 'k__Bacteria|p__Proteobacteria|c__Gammaproteobacteria|o__Enterobacterales|f__Hafniaceae|g__Hafnia|s__Hafnia_alvei',\n",
              " 'k__Bacteria|p__Proteobacteria|c__Gammaproteobacteria|o__Enterobacterales|f__Erwiniaceae|g__Mixta|s__Mixta_calida',\n",
              " 'k__Bacteria|p__Proteobacteria|c__Gammaproteobacteria|o__Enterobacterales|f__Enterobacteriaceae|g__Kluyvera|s__Kluyvera_intermedia',\n",
              " 'k__Bacteria|p__Proteobacteria|c__Gammaproteobacteria|o__Enterobacterales|f__Enterobacteriaceae|g__Kluyvera|s__Kluyvera_cryocrescens',\n",
              " 'k__Bacteria|p__Proteobacteria|c__Gammaproteobacteria|o__Enterobacterales|f__Enterobacteriaceae|g__Kosakonia|s__Kosakonia_sp_S29',\n",
              " 'k__Bacteria|p__Proteobacteria|c__Gammaproteobacteria|o__Enterobacterales|f__Enterobacteriaceae|g__Enterobacter|s__Enterobacter_mori',\n",
              " 'k__Bacteria|p__Proteobacteria|c__Gammaproteobacteria|o__Enterobacterales|f__Enterobacteriaceae|g__Enterobacter|s__Enterobacter_cloacae_complex',\n",
              " 'k__Bacteria|p__Proteobacteria|c__Gammaproteobacteria|o__Enterobacterales|f__Enterobacteriaceae|g__Atlantibacter|s__Atlantibacter_hermannii',\n",
              " 'k__Bacteria|p__Proteobacteria|c__Gammaproteobacteria|o__Enterobacterales|f__Enterobacteriaceae|g__Escherichia|s__Escherichia_coli',\n",
              " 'k__Bacteria|p__Proteobacteria|c__Gammaproteobacteria|o__Enterobacterales|f__Enterobacteriaceae|g__Citrobacter|s__Citrobacter_koseri',\n",
              " 'k__Bacteria|p__Proteobacteria|c__Gammaproteobacteria|o__Enterobacterales|f__Enterobacteriaceae|g__Citrobacter|s__Citrobacter_amalonaticus',\n",
              " 'k__Bacteria|p__Proteobacteria|c__Gammaproteobacteria|o__Enterobacterales|f__Enterobacteriaceae|g__Citrobacter|s__Citrobacter_pasteurii',\n",
              " 'k__Bacteria|p__Proteobacteria|c__Gammaproteobacteria|o__Enterobacterales|f__Enterobacteriaceae|g__Citrobacter|s__Citrobacter_portucalensis',\n",
              " 'k__Bacteria|p__Proteobacteria|c__Gammaproteobacteria|o__Enterobacterales|f__Enterobacteriaceae|g__Citrobacter|s__Citrobacter_freundii',\n",
              " 'k__Bacteria|p__Proteobacteria|c__Gammaproteobacteria|o__Enterobacterales|f__Enterobacteriaceae|g__Citrobacter|s__Citrobacter_werkmanii',\n",
              " 'k__Bacteria|p__Proteobacteria|c__Gammaproteobacteria|o__Enterobacterales|f__Enterobacteriaceae|g__Citrobacter|s__Citrobacter_youngae',\n",
              " 'k__Bacteria|p__Proteobacteria|c__Gammaproteobacteria|o__Enterobacterales|f__Enterobacteriaceae|g__Klebsiella|s__Klebsiella_michiganensis',\n",
              " 'k__Bacteria|p__Proteobacteria|c__Gammaproteobacteria|o__Enterobacterales|f__Enterobacteriaceae|g__Klebsiella|s__Klebsiella_quasipneumoniae',\n",
              " 'k__Bacteria|p__Proteobacteria|c__Gammaproteobacteria|o__Enterobacterales|f__Enterobacteriaceae|g__Klebsiella|s__Klebsiella_variicola',\n",
              " 'k__Bacteria|p__Proteobacteria|c__Gammaproteobacteria|o__Enterobacterales|f__Enterobacteriaceae|g__Klebsiella|s__Klebsiella_pneumoniae',\n",
              " 'k__Bacteria|p__Proteobacteria|c__Gammaproteobacteria|o__Enterobacterales|f__Enterobacteriaceae|g__Klebsiella|s__Klebsiella_oxytoca',\n",
              " 'k__Bacteria|p__Proteobacteria|c__Gammaproteobacteria|o__Enterobacterales|f__Enterobacteriaceae|g__Metakosakonia|s__Kluyvera_intestini',\n",
              " 'k__Bacteria|p__Proteobacteria|c__Gammaproteobacteria|o__Enterobacterales|f__Enterobacterales_unclassified|g__Phytobacter|s__Phytobacter_ursingii']"
            ]
          },
          "metadata": {},
          "execution_count": 41
        }
      ]
    },
    {
      "cell_type": "code",
      "source": [
        "brooks_data[\"variable_names\"][0]"
      ],
      "metadata": {
        "colab": {
          "base_uri": "https://localhost:8080/",
          "height": 35
        },
        "id": "JazTOuvu0VzV",
        "outputId": "32e79df4-f2a6-48a1-b9c1-8364d29ee3d2"
      },
      "execution_count": null,
      "outputs": [
        {
          "output_type": "execute_result",
          "data": {
            "text/plain": [
              "'k__Bacteria|p__Actinobacteria|c__Actinobacteria|o__Corynebacteriales|f__Corynebacteriaceae|g__Corynebacterium|s__Corynebacterium_kroppenstedtii'"
            ],
            "application/vnd.google.colaboratory.intrinsic+json": {
              "type": "string"
            }
          },
          "metadata": {},
          "execution_count": 23
        }
      ]
    },
    {
      "cell_type": "code",
      "source": [
        "brooks_data[\"variable_annotations\"]"
      ],
      "metadata": {
        "colab": {
          "base_uri": "https://localhost:8080/"
        },
        "id": "x0BjFf2gghjy",
        "outputId": "fa39caf6-8757-4bf9-a920-f1a6f7cec209"
      },
      "execution_count": null,
      "outputs": [
        {
          "output_type": "execute_result",
          "data": {
            "text/plain": [
              "{}"
            ]
          },
          "metadata": {},
          "execution_count": 19
        }
      ]
    },
    {
      "cell_type": "code",
      "source": [
        "len(brooks_data[\"variable_annotations\"])"
      ],
      "metadata": {
        "colab": {
          "base_uri": "https://localhost:8080/"
        },
        "id": "rMhK_fohgg5G",
        "outputId": "d9e762b7-a87a-457e-8a5b-d3d02dd5beb0"
      },
      "execution_count": null,
      "outputs": [
        {
          "output_type": "execute_result",
          "data": {
            "text/plain": [
              "0"
            ]
          },
          "metadata": {},
          "execution_count": 43
        }
      ]
    },
    {
      "cell_type": "code",
      "source": [
        "brooks_data[\"tree_distance\"]"
      ],
      "metadata": {
        "colab": {
          "base_uri": "https://localhost:8080/"
        },
        "id": "YkR5c71Zgg1o",
        "outputId": "a8bc9cfe-3c33-44b5-cc99-5b6eba361256"
      },
      "execution_count": null,
      "outputs": [
        {
          "output_type": "execute_result",
          "data": {
            "text/plain": [
              "array([[0.     , 0.53647, 0.5212 , ..., 1.01079, 1.03093, 1.0226 ],\n",
              "       [0.53647, 0.     , 0.11901, ..., 1.04336, 1.0635 , 1.05517],\n",
              "       [0.5212 , 0.11901, 0.     , ..., 1.02809, 1.04823, 1.0399 ],\n",
              "       ...,\n",
              "       [1.01079, 1.04336, 1.02809, ..., 0.     , 0.19676, 0.18843],\n",
              "       [1.03093, 1.0635 , 1.04823, ..., 0.19676, 0.     , 0.02895],\n",
              "       [1.0226 , 1.05517, 1.0399 , ..., 0.18843, 0.02895, 0.     ]])"
            ]
          },
          "metadata": {},
          "execution_count": 44
        }
      ]
    },
    {
      "cell_type": "code",
      "source": [
        "brooks_data[\"tree_distance\"].shape"
      ],
      "metadata": {
        "colab": {
          "base_uri": "https://localhost:8080/"
        },
        "id": "UYtPWyFaggy2",
        "outputId": "16c09487-d0ec-43c9-daef-08383d589278"
      },
      "execution_count": null,
      "outputs": [
        {
          "output_type": "execute_result",
          "data": {
            "text/plain": [
              "(126, 126)"
            ]
          },
          "metadata": {},
          "execution_count": 45
        }
      ]
    },
    {
      "cell_type": "code",
      "source": [
        ""
      ],
      "metadata": {
        "id": "ZOpVLfeXggwS"
      },
      "execution_count": null,
      "outputs": []
    },
    {
      "cell_type": "code",
      "source": [
        ""
      ],
      "metadata": {
        "id": "xAz4t_crggtn"
      },
      "execution_count": null,
      "outputs": []
    },
    {
      "cell_type": "code",
      "source": [
        ""
      ],
      "metadata": {
        "id": "noG49kXuggq9"
      },
      "execution_count": null,
      "outputs": []
    },
    {
      "cell_type": "code",
      "source": [
        ""
      ],
      "metadata": {
        "id": "hj8vNtFMggoH"
      },
      "execution_count": null,
      "outputs": []
    },
    {
      "cell_type": "code",
      "source": [
        ""
      ],
      "metadata": {
        "id": "wvckloYXgglB"
      },
      "execution_count": null,
      "outputs": []
    },
    {
      "cell_type": "code",
      "source": [
        ""
      ],
      "metadata": {
        "id": "D1H0Z9YAeIJd"
      },
      "execution_count": null,
      "outputs": []
    }
  ]
}